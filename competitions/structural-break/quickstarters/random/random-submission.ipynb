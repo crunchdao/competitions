{
 "cells": [
  {
   "cell_type": "markdown",
   "metadata": {},
   "source": [
    "[![Open In Colab](https://colab.research.google.com/assets/colab-badge.svg)](https://colab.research.google.com/github/crunchdao/quickstarters/blob/master/competitions/broad-2/quickstarters/random-submission/random-submission.ipynb)"
   ]
  },
  {
   "cell_type": "markdown",
   "metadata": {},
   "source": [
    "![Banner](https://raw.githubusercontent.com/crunchdao/quickstarters/refs/heads/structural-break/competitions/structural-break/assets/banner.webp)"
   ]
  },
  {
   "cell_type": "code",
   "execution_count": null,
   "metadata": {},
   "outputs": [],
   "source": [
    "%pip install --upgrade crunch-cli"
   ]
  },
  {
   "cell_type": "markdown",
   "metadata": {},
   "source": [
    "Get a new token: https://hub.crunchdao.io/competitions/structural-break/submit/notebook"
   ]
  },
  {
   "cell_type": "code",
   "execution_count": null,
   "metadata": {},
   "outputs": [],
   "source": [
    "!crunch setup --notebook structural-break hello --token aaaabbbbccccddddeeeeffff"
   ]
  },
  {
   "cell_type": "code",
   "execution_count": null,
   "metadata": {},
   "outputs": [],
   "source": [
    "!crunch --env staging setup --notebook structural-break steady-ape --token CMkDjKydq70eksvrXQ8UaxFgvavXe9Qk8FkW51AMiSQPcdboXEcBgkC1rGV2MmrE"
   ]
  },
  {
   "cell_type": "code",
   "execution_count": 1,
   "metadata": {},
   "outputs": [
    {
     "name": "stdout",
     "output_type": "stream",
     "text": [
      "env: API_BASE_URL=https://api.hub.crunchdao.io/\n",
      "env: WEB_BASE_URL=https://hub.crunchdao.io/\n",
      "env: CRUNCH_COMPETITIONS_BRANCH=structural-break\n"
     ]
    }
   ],
   "source": [
    "%env API_BASE_URL=https://api.hub.crunchdao.io/\n",
    "%env WEB_BASE_URL=https://hub.crunchdao.io/\n",
    "%env CRUNCH_COMPETITIONS_BRANCH=structural-break"
   ]
  },
  {
   "cell_type": "code",
   "execution_count": 2,
   "metadata": {
    "ExecuteTime": {
     "end_time": "2024-11-18T09:52:21.302334Z",
     "start_time": "2024-11-18T09:52:18.268241Z"
    }
   },
   "outputs": [],
   "source": [
    "import os\n",
    "import random\n",
    "import typing\n",
    "\n",
    "import joblib\n",
    "import pandas\n",
    "import sklearn.metrics"
   ]
  },
  {
   "cell_type": "code",
   "execution_count": 3,
   "metadata": {},
   "outputs": [
    {
     "name": "stdout",
     "output_type": "stream",
     "text": [
      "Available RAM: 63.79 GB\n"
     ]
    }
   ],
   "source": [
    "import psutil\n",
    "\n",
    "available_ram = psutil.virtual_memory().total / (1024 ** 3)\n",
    "print(f\"Available RAM: {available_ram:.2f} GB\")"
   ]
  },
  {
   "cell_type": "code",
   "execution_count": 4,
   "metadata": {},
   "outputs": [
    {
     "name": "stdout",
     "output_type": "stream",
     "text": [
      "loaded inline runner with module: <module '__main__'>\n"
     ]
    }
   ],
   "source": [
    "import crunch\n",
    "\n",
    "crunch = crunch.load_notebook()"
   ]
  },
  {
   "cell_type": "code",
   "execution_count": 5,
   "metadata": {},
   "outputs": [
    {
     "name": "stdout",
     "output_type": "stream",
     "text": [
      "data\\X_train.parquet: download from https:crunchdao--competition--staging.s3.eu-west-1.amazonaws.com/data-releases/120/X_train.parquet (1441203 bytes)\n",
      "data\\X_train.parquet: already exists, file length match\n",
      "data\\X_test.reduced.parquet: download from https:crunchdao--competition--staging.s3.eu-west-1.amazonaws.com/data-releases/120/X_test.reduced.parquet (116488 bytes)\n",
      "data\\X_test.reduced.parquet: already exists, file length match\n",
      "data\\y_train.parquet: download from https:crunchdao--competition--staging.s3.eu-west-1.amazonaws.com/data-releases/120/y_train.parquet (2545 bytes)\n",
      "data\\y_train.parquet: already exists, file length match\n",
      "data\\y_test.reduced.parquet: download from https:crunchdao--competition--staging.s3.eu-west-1.amazonaws.com/data-releases/120/y_test.reduced.parquet (2154 bytes)\n",
      "data\\y_test.reduced.parquet: already exists, file length match\n"
     ]
    }
   ],
   "source": [
    "X_train, y_train, X_test = crunch.load_data()"
   ]
  },
  {
   "cell_type": "code",
   "execution_count": 6,
   "metadata": {},
   "outputs": [
    {
     "data": {
      "text/html": [
       "<div>\n",
       "<style scoped>\n",
       "    .dataframe tbody tr th:only-of-type {\n",
       "        vertical-align: middle;\n",
       "    }\n",
       "\n",
       "    .dataframe tbody tr th {\n",
       "        vertical-align: top;\n",
       "    }\n",
       "\n",
       "    .dataframe thead th {\n",
       "        text-align: right;\n",
       "    }\n",
       "</style>\n",
       "<table border=\"1\" class=\"dataframe\">\n",
       "  <thead>\n",
       "    <tr style=\"text-align: right;\">\n",
       "      <th></th>\n",
       "      <th></th>\n",
       "      <th>value</th>\n",
       "      <th>period</th>\n",
       "    </tr>\n",
       "    <tr>\n",
       "      <th>id</th>\n",
       "      <th>time</th>\n",
       "      <th></th>\n",
       "      <th></th>\n",
       "    </tr>\n",
       "  </thead>\n",
       "  <tbody>\n",
       "    <tr>\n",
       "      <th rowspan=\"5\" valign=\"top\">0</th>\n",
       "      <th>0</th>\n",
       "      <td>-0.008200</td>\n",
       "      <td>0</td>\n",
       "    </tr>\n",
       "    <tr>\n",
       "      <th>1</th>\n",
       "      <td>-0.002554</td>\n",
       "      <td>0</td>\n",
       "    </tr>\n",
       "    <tr>\n",
       "      <th>2</th>\n",
       "      <td>0.004278</td>\n",
       "      <td>0</td>\n",
       "    </tr>\n",
       "    <tr>\n",
       "      <th>3</th>\n",
       "      <td>0.003938</td>\n",
       "      <td>0</td>\n",
       "    </tr>\n",
       "    <tr>\n",
       "      <th>4</th>\n",
       "      <td>-0.011060</td>\n",
       "      <td>0</td>\n",
       "    </tr>\n",
       "    <tr>\n",
       "      <th>...</th>\n",
       "      <th>...</th>\n",
       "      <td>...</td>\n",
       "      <td>...</td>\n",
       "    </tr>\n",
       "    <tr>\n",
       "      <th rowspan=\"5\" valign=\"top\">79</th>\n",
       "      <th>2351</th>\n",
       "      <td>-0.018265</td>\n",
       "      <td>1</td>\n",
       "    </tr>\n",
       "    <tr>\n",
       "      <th>2352</th>\n",
       "      <td>-0.007344</td>\n",
       "      <td>1</td>\n",
       "    </tr>\n",
       "    <tr>\n",
       "      <th>2353</th>\n",
       "      <td>-0.007398</td>\n",
       "      <td>1</td>\n",
       "    </tr>\n",
       "    <tr>\n",
       "      <th>2354</th>\n",
       "      <td>-0.029814</td>\n",
       "      <td>1</td>\n",
       "    </tr>\n",
       "    <tr>\n",
       "      <th>2355</th>\n",
       "      <td>0.028297</td>\n",
       "      <td>1</td>\n",
       "    </tr>\n",
       "  </tbody>\n",
       "</table>\n",
       "<p>155946 rows × 2 columns</p>\n",
       "</div>"
      ],
      "text/plain": [
       "            value  period\n",
       "id time                  \n",
       "0  0    -0.008200       0\n",
       "   1    -0.002554       0\n",
       "   2     0.004278       0\n",
       "   3     0.003938       0\n",
       "   4    -0.011060       0\n",
       "...           ...     ...\n",
       "79 2351 -0.018265       1\n",
       "   2352 -0.007344       1\n",
       "   2353 -0.007398       1\n",
       "   2354 -0.029814       1\n",
       "   2355  0.028297       1\n",
       "\n",
       "[155946 rows x 2 columns]"
      ]
     },
     "metadata": {},
     "output_type": "display_data"
    },
    {
     "data": {
      "text/plain": [
       "id\n",
       "0      True\n",
       "1     False\n",
       "2     False\n",
       "3      True\n",
       "4     False\n",
       "      ...  \n",
       "75    False\n",
       "76    False\n",
       "77     True\n",
       "78    False\n",
       "79    False\n",
       "Name: structural_breakpoint, Length: 80, dtype: bool"
      ]
     },
     "metadata": {},
     "output_type": "display_data"
    }
   ],
   "source": [
    "display(X_train, y_train)"
   ]
  },
  {
   "cell_type": "code",
   "execution_count": 7,
   "metadata": {},
   "outputs": [
    {
     "name": "stdout",
     "output_type": "stream",
     "text": [
      "Number of datasets: 5\n"
     ]
    },
    {
     "data": {
      "text/html": [
       "<div>\n",
       "<style scoped>\n",
       "    .dataframe tbody tr th:only-of-type {\n",
       "        vertical-align: middle;\n",
       "    }\n",
       "\n",
       "    .dataframe tbody tr th {\n",
       "        vertical-align: top;\n",
       "    }\n",
       "\n",
       "    .dataframe thead th {\n",
       "        text-align: right;\n",
       "    }\n",
       "</style>\n",
       "<table border=\"1\" class=\"dataframe\">\n",
       "  <thead>\n",
       "    <tr style=\"text-align: right;\">\n",
       "      <th></th>\n",
       "      <th></th>\n",
       "      <th>value</th>\n",
       "      <th>period</th>\n",
       "    </tr>\n",
       "    <tr>\n",
       "      <th>id</th>\n",
       "      <th>time</th>\n",
       "      <th></th>\n",
       "      <th></th>\n",
       "    </tr>\n",
       "  </thead>\n",
       "  <tbody>\n",
       "    <tr>\n",
       "      <th rowspan=\"11\" valign=\"top\">80</th>\n",
       "      <th>0</th>\n",
       "      <td>0.011090</td>\n",
       "      <td>0</td>\n",
       "    </tr>\n",
       "    <tr>\n",
       "      <th>1</th>\n",
       "      <td>-0.007110</td>\n",
       "      <td>0</td>\n",
       "    </tr>\n",
       "    <tr>\n",
       "      <th>2</th>\n",
       "      <td>-0.035688</td>\n",
       "      <td>0</td>\n",
       "    </tr>\n",
       "    <tr>\n",
       "      <th>3</th>\n",
       "      <td>0.009437</td>\n",
       "      <td>0</td>\n",
       "    </tr>\n",
       "    <tr>\n",
       "      <th>4</th>\n",
       "      <td>0.002980</td>\n",
       "      <td>0</td>\n",
       "    </tr>\n",
       "    <tr>\n",
       "      <th>...</th>\n",
       "      <td>...</td>\n",
       "      <td>...</td>\n",
       "    </tr>\n",
       "    <tr>\n",
       "      <th>1541</th>\n",
       "      <td>0.014189</td>\n",
       "      <td>1</td>\n",
       "    </tr>\n",
       "    <tr>\n",
       "      <th>1542</th>\n",
       "      <td>0.002086</td>\n",
       "      <td>1</td>\n",
       "    </tr>\n",
       "    <tr>\n",
       "      <th>1543</th>\n",
       "      <td>-0.008756</td>\n",
       "      <td>1</td>\n",
       "    </tr>\n",
       "    <tr>\n",
       "      <th>1544</th>\n",
       "      <td>0.013921</td>\n",
       "      <td>1</td>\n",
       "    </tr>\n",
       "    <tr>\n",
       "      <th>1545</th>\n",
       "      <td>-0.011898</td>\n",
       "      <td>1</td>\n",
       "    </tr>\n",
       "  </tbody>\n",
       "</table>\n",
       "<p>1546 rows × 2 columns</p>\n",
       "</div>"
      ],
      "text/plain": [
       "            value  period\n",
       "id time                  \n",
       "80 0     0.011090       0\n",
       "   1    -0.007110       0\n",
       "   2    -0.035688       0\n",
       "   3     0.009437       0\n",
       "   4     0.002980       0\n",
       "...           ...     ...\n",
       "   1541  0.014189       1\n",
       "   1542  0.002086       1\n",
       "   1543 -0.008756       1\n",
       "   1544  0.013921       1\n",
       "   1545 -0.011898       1\n",
       "\n",
       "[1546 rows x 2 columns]"
      ]
     },
     "metadata": {},
     "output_type": "display_data"
    }
   ],
   "source": [
    "# In X_test, datasets are in a list and you must consume them one by one.\n",
    "\n",
    "print(\"Number of datasets:\", len(X_test))\n",
    "display(X_test[0])"
   ]
  },
  {
   "cell_type": "code",
   "execution_count": null,
   "metadata": {},
   "outputs": [],
   "source": []
  },
  {
   "cell_type": "code",
   "execution_count": 8,
   "metadata": {
    "ExecuteTime": {
     "end_time": "2024-11-18T10:04:00.459399Z",
     "start_time": "2024-11-18T10:04:00.455716Z"
    }
   },
   "outputs": [],
   "source": [
    "# In the training function, users build and train the model to make inferences on the test data.\n",
    "# Your model must be stored in the `model_directory_path`.\n",
    "def train(\n",
    "    X_train: pandas.DataFrame,\n",
    "    y_train: pandas.Series,\n",
    "    model_directory_path: str,\n",
    "):\n",
    "    model = ...\n",
    "\n",
    "    joblib.dump(model, os.path.join(model_directory_path, 'model.joblib'))"
   ]
  },
  {
   "cell_type": "code",
   "execution_count": 9,
   "metadata": {
    "ExecuteTime": {
     "end_time": "2024-11-18T10:03:59.120294Z",
     "start_time": "2024-11-18T10:03:59.114830Z"
    }
   },
   "outputs": [],
   "source": [
    "# In the inference function, the trained model is loaded and used to make inferences on a\n",
    "# sample of data that matches the characteristics of the training test.\n",
    "def infer(\n",
    "    X_test: typing.Iterable[pandas.DataFrame],\n",
    "    model_directory_path: str,\n",
    "):\n",
    "    model = joblib.load(os.path.join(model_directory_path, 'model.joblib'))\n",
    "    \n",
    "    yield  # mark as ready\n",
    "\n",
    "    # X_test can only be iterated once.\n",
    "    # Before getting the next dataset, you must predict the current one.\n",
    "    for dataset in X_test:\n",
    "        # prediction = model.predict(dataset)\n",
    "        prediction = bool(random.randint(0, 1))\n",
    "\n",
    "        yield prediction"
   ]
  },
  {
   "cell_type": "code",
   "execution_count": 10,
   "metadata": {},
   "outputs": [
    {
     "name": "stderr",
     "output_type": "stream",
     "text": [
      "\u001b[32m18:45:37\u001b[0m \u001b[33mno forbidden library found\u001b[0m\n",
      "\u001b[32m18:45:37\u001b[0m \u001b[33m\u001b[0m\n",
      "\u001b[32m18:45:37\u001b[0m started\n",
      "\u001b[32m18:45:37\u001b[0m running local test\n",
      "\u001b[32m18:45:37\u001b[0m \u001b[33minternet access isn't restricted, no check will be done\u001b[0m\n",
      "\u001b[32m18:45:37\u001b[0m \n",
      "\u001b[32m18:45:37\u001b[0m starting unstructured loop...\n",
      "\u001b[32m18:45:37\u001b[0m \u001b[33msave prediction - path=data\\prediction.parquet\u001b[0m\n",
      "\u001b[32m18:45:37\u001b[0m ended\n",
      "\u001b[32m18:45:37\u001b[0m \u001b[33mduration - time=00:00:00\u001b[0m\n",
      "\u001b[32m18:45:37\u001b[0m \u001b[33mmemory - before=\"200.38 MB\" after=\"210.08 MB\" consumed=\"9.7 MB\"\u001b[0m\n"
     ]
    },
    {
     "name": "stdout",
     "output_type": "stream",
     "text": [
      "data\\X_train.parquet: download from https:crunchdao--competition--staging.s3.eu-west-1.amazonaws.com/data-releases/120/X_train.parquet (1441203 bytes)\n",
      "data\\X_train.parquet: already exists, file length match\n",
      "data\\X_test.reduced.parquet: download from https:crunchdao--competition--staging.s3.eu-west-1.amazonaws.com/data-releases/120/X_test.reduced.parquet (116488 bytes)\n",
      "data\\X_test.reduced.parquet: already exists, file length match\n",
      "data\\y_train.parquet: download from https:crunchdao--competition--staging.s3.eu-west-1.amazonaws.com/data-releases/120/y_train.parquet (2545 bytes)\n",
      "data\\y_train.parquet: already exists, file length match\n",
      "data\\y_test.reduced.parquet: download from https:crunchdao--competition--staging.s3.eu-west-1.amazonaws.com/data-releases/120/y_test.reduced.parquet (2154 bytes)\n",
      "data\\y_test.reduced.parquet: already exists, file length match\n"
     ]
    }
   ],
   "source": [
    "# This command is running a local test with your submission\n",
    "# making sure that your submission can be accepted by the system\n",
    "crunch.test(\n",
    "    no_determinism_check=True,\n",
    ")"
   ]
  },
  {
   "cell_type": "code",
   "execution_count": 11,
   "metadata": {},
   "outputs": [
    {
     "data": {
      "text/html": [
       "<div>\n",
       "<style scoped>\n",
       "    .dataframe tbody tr th:only-of-type {\n",
       "        vertical-align: middle;\n",
       "    }\n",
       "\n",
       "    .dataframe tbody tr th {\n",
       "        vertical-align: top;\n",
       "    }\n",
       "\n",
       "    .dataframe thead th {\n",
       "        text-align: right;\n",
       "    }\n",
       "</style>\n",
       "<table border=\"1\" class=\"dataframe\">\n",
       "  <thead>\n",
       "    <tr style=\"text-align: right;\">\n",
       "      <th></th>\n",
       "      <th>prediction</th>\n",
       "    </tr>\n",
       "    <tr>\n",
       "      <th>id</th>\n",
       "      <th></th>\n",
       "    </tr>\n",
       "  </thead>\n",
       "  <tbody>\n",
       "    <tr>\n",
       "      <th>80</th>\n",
       "      <td>False</td>\n",
       "    </tr>\n",
       "    <tr>\n",
       "      <th>81</th>\n",
       "      <td>True</td>\n",
       "    </tr>\n",
       "    <tr>\n",
       "      <th>82</th>\n",
       "      <td>False</td>\n",
       "    </tr>\n",
       "    <tr>\n",
       "      <th>83</th>\n",
       "      <td>False</td>\n",
       "    </tr>\n",
       "    <tr>\n",
       "      <th>84</th>\n",
       "      <td>False</td>\n",
       "    </tr>\n",
       "  </tbody>\n",
       "</table>\n",
       "</div>"
      ],
      "text/plain": [
       "    prediction\n",
       "id            \n",
       "80       False\n",
       "81        True\n",
       "82       False\n",
       "83       False\n",
       "84       False"
      ]
     },
     "execution_count": 11,
     "metadata": {},
     "output_type": "execute_result"
    }
   ],
   "source": [
    "prediction = pandas.read_parquet(\"data/prediction.parquet\")\n",
    "prediction"
   ]
  },
  {
   "cell_type": "code",
   "execution_count": 16,
   "metadata": {},
   "outputs": [
    {
     "data": {
      "text/plain": [
       "0.375"
      ]
     },
     "execution_count": 16,
     "metadata": {},
     "output_type": "execute_result"
    }
   ],
   "source": [
    "target = pandas.read_parquet(\"data/y_test.reduced.parquet\")[\"structural_breakpoint\"]\n",
    "\n",
    "sklearn.metrics.roc_auc_score(\n",
    "    target,\n",
    "    prediction,\n",
    ")"
   ]
  },
  {
   "cell_type": "markdown",
   "metadata": {},
   "source": [
    "Now remember to download this notebook and then submit it at https://hub.crunchdao.io/competitions/structural-break/submit"
   ]
  }
 ],
 "metadata": {
  "kernelspec": {
   "display_name": "Python 3",
   "language": "python",
   "name": "python3"
  },
  "language_info": {
   "codemirror_mode": {
    "name": "ipython",
    "version": 3
   },
   "file_extension": ".py",
   "mimetype": "text/x-python",
   "name": "python",
   "nbconvert_exporter": "python",
   "pygments_lexer": "ipython3",
   "version": "3.10.11"
  }
 },
 "nbformat": 4,
 "nbformat_minor": 2
}
