{
 "cells": [
  {
   "cell_type": "markdown",
   "metadata": {},
   "source": [
    "[![Open In Colab](https://colab.research.google.com/assets/colab-badge.svg)](https://colab.research.google.com/github/crunchdao/quickstarters/blob/structural-break/competitions/structural-break/quickstarters/random-submission/random-submission.ipynb)"
   ]
  },
  {
   "cell_type": "markdown",
   "metadata": {},
   "source": [
    "![Banner](https://raw.githubusercontent.com/crunchdao/quickstarters/refs/heads/structural-break/competitions/structural-break/assets/banner.webp)"
   ]
  },
  {
   "cell_type": "markdown",
   "metadata": {},
   "source": [
    "# Setup\n",
    "\n",
    "Get the setup command: https://hub.crunchdao.io/competitions/structural-break/submit/notebook\n",
    "\n",
    "![Reveal token](https://raw.githubusercontent.com/crunchdao/competitions/refs/heads/structural-break/documentation/animations/hub-reveal-token.gif)"
   ]
  },
  {
   "cell_type": "code",
   "execution_count": null,
   "metadata": {},
   "outputs": [],
   "source": [
    "# Install the Crunch CLI\n",
    "%pip install --upgrade crunch-cli\n",
    "\n",
    "# Setup your local environment\n",
    "!crunch setup --notebook structural-break hello --token aaaabbbbccccddddeeeeffff"
   ]
  },
  {
   "cell_type": "code",
   "execution_count": 1,
   "metadata": {},
   "outputs": [
    {
     "name": "stdout",
     "output_type": "stream",
     "text": [
      "env: API_BASE_URL=https://api.hub.crunchdao.io/\n",
      "env: WEB_BASE_URL=https://hub.crunchdao.io/\n",
      "env: CRUNCH_COMPETITIONS_BRANCH=structural-break\n"
     ]
    }
   ],
   "source": [
    "# Staging only, will be removed for production\n",
    "%env API_BASE_URL=https://api.hub.crunchdao.io/\n",
    "%env WEB_BASE_URL=https://hub.crunchdao.io/\n",
    "%env CRUNCH_COMPETITIONS_BRANCH=structural-break"
   ]
  },
  {
   "cell_type": "markdown",
   "metadata": {},
   "source": [
    "# Your model"
   ]
  },
  {
   "cell_type": "markdown",
   "metadata": {},
   "source": [
    "## Setup"
   ]
  },
  {
   "cell_type": "code",
   "execution_count": 2,
   "metadata": {
    "ExecuteTime": {
     "end_time": "2024-11-18T09:52:21.302334Z",
     "start_time": "2024-11-18T09:52:18.268241Z"
    }
   },
   "outputs": [],
   "source": [
    "import os\n",
    "import random\n",
    "import typing\n",
    "\n",
    "# Import your dependencies\n",
    "import joblib\n",
    "import pandas as pd\n",
    "import sklearn.metrics"
   ]
  },
  {
   "cell_type": "code",
   "execution_count": null,
   "metadata": {},
   "outputs": [],
   "source": [
    "import crunch\n",
    "\n",
    "# Load the Crunch Toolings\n",
    "crunch = crunch.load_notebook()"
   ]
  },
  {
   "cell_type": "markdown",
   "metadata": {},
   "source": [
    "## Data\n",
    "\n",
    "The data was downloaded when you setup your local environment and is now available in the `data/` directory.\n",
    "\n",
    "![Data on Colab](https://raw.githubusercontent.com/crunchdao/competitions/refs/heads/structural-break/documentation/animations/colab-data.gif)"
   ]
  },
  {
   "cell_type": "code",
   "execution_count": null,
   "metadata": {},
   "outputs": [],
   "source": [
    "# Load the data simply\n",
    "X_train, y_train, X_test = crunch.load_data()"
   ]
  },
  {
   "cell_type": "markdown",
   "metadata": {},
   "source": [
    "### `X_train`\n",
    "\n",
    "Index:\n",
    "- `id`: the ID of the dataset\n",
    "- `time`: arbitrary amount of time sampled regularely\n",
    "\n",
    "Columns:\n",
    "- `value`: the timeseries data\n",
    "- `period`: if you are in an **initial segment** (0) or an **extension segment** (1)"
   ]
  },
  {
   "cell_type": "code",
   "execution_count": 5,
   "metadata": {},
   "outputs": [
    {
     "data": {
      "text/html": [
       "<div>\n",
       "<style scoped>\n",
       "    .dataframe tbody tr th:only-of-type {\n",
       "        vertical-align: middle;\n",
       "    }\n",
       "\n",
       "    .dataframe tbody tr th {\n",
       "        vertical-align: top;\n",
       "    }\n",
       "\n",
       "    .dataframe thead th {\n",
       "        text-align: right;\n",
       "    }\n",
       "</style>\n",
       "<table border=\"1\" class=\"dataframe\">\n",
       "  <thead>\n",
       "    <tr style=\"text-align: right;\">\n",
       "      <th></th>\n",
       "      <th></th>\n",
       "      <th>value</th>\n",
       "      <th>period</th>\n",
       "    </tr>\n",
       "    <tr>\n",
       "      <th>id</th>\n",
       "      <th>time</th>\n",
       "      <th></th>\n",
       "      <th></th>\n",
       "    </tr>\n",
       "  </thead>\n",
       "  <tbody>\n",
       "    <tr>\n",
       "      <th rowspan=\"5\" valign=\"top\">0</th>\n",
       "      <th>0</th>\n",
       "      <td>-0.008200</td>\n",
       "      <td>0</td>\n",
       "    </tr>\n",
       "    <tr>\n",
       "      <th>1</th>\n",
       "      <td>-0.002554</td>\n",
       "      <td>0</td>\n",
       "    </tr>\n",
       "    <tr>\n",
       "      <th>2</th>\n",
       "      <td>0.004278</td>\n",
       "      <td>0</td>\n",
       "    </tr>\n",
       "    <tr>\n",
       "      <th>3</th>\n",
       "      <td>0.003938</td>\n",
       "      <td>0</td>\n",
       "    </tr>\n",
       "    <tr>\n",
       "      <th>4</th>\n",
       "      <td>-0.011060</td>\n",
       "      <td>0</td>\n",
       "    </tr>\n",
       "    <tr>\n",
       "      <th>...</th>\n",
       "      <th>...</th>\n",
       "      <td>...</td>\n",
       "      <td>...</td>\n",
       "    </tr>\n",
       "    <tr>\n",
       "      <th rowspan=\"5\" valign=\"top\">79</th>\n",
       "      <th>2351</th>\n",
       "      <td>-0.018265</td>\n",
       "      <td>1</td>\n",
       "    </tr>\n",
       "    <tr>\n",
       "      <th>2352</th>\n",
       "      <td>-0.007344</td>\n",
       "      <td>1</td>\n",
       "    </tr>\n",
       "    <tr>\n",
       "      <th>2353</th>\n",
       "      <td>-0.007398</td>\n",
       "      <td>1</td>\n",
       "    </tr>\n",
       "    <tr>\n",
       "      <th>2354</th>\n",
       "      <td>-0.029814</td>\n",
       "      <td>1</td>\n",
       "    </tr>\n",
       "    <tr>\n",
       "      <th>2355</th>\n",
       "      <td>0.028297</td>\n",
       "      <td>1</td>\n",
       "    </tr>\n",
       "  </tbody>\n",
       "</table>\n",
       "<p>155946 rows × 2 columns</p>\n",
       "</div>"
      ],
      "text/plain": [
       "            value  period\n",
       "id time                  \n",
       "0  0    -0.008200       0\n",
       "   1    -0.002554       0\n",
       "   2     0.004278       0\n",
       "   3     0.003938       0\n",
       "   4    -0.011060       0\n",
       "...           ...     ...\n",
       "79 2351 -0.018265       1\n",
       "   2352 -0.007344       1\n",
       "   2353 -0.007398       1\n",
       "   2354 -0.029814       1\n",
       "   2355  0.028297       1\n",
       "\n",
       "[155946 rows x 2 columns]"
      ]
     },
     "execution_count": 5,
     "metadata": {},
     "output_type": "execute_result"
    }
   ],
   "source": [
    "X_train"
   ]
  },
  {
   "cell_type": "markdown",
   "metadata": {},
   "source": [
    "### `y_train`\n",
    "\n",
    "This is a simple `pandas.Series` that tells if a dataset id has a structural breakpoint or not.\n",
    "\n",
    "Index:\n",
    "- `id`: the ID of the dataset\n",
    "\n",
    "Value:\n",
    "- `structural_breakpoint`: the value you need to predict"
   ]
  },
  {
   "cell_type": "code",
   "execution_count": 6,
   "metadata": {},
   "outputs": [
    {
     "data": {
      "text/plain": [
       "id\n",
       "0      True\n",
       "1     False\n",
       "2     False\n",
       "3      True\n",
       "4     False\n",
       "      ...  \n",
       "75    False\n",
       "76    False\n",
       "77     True\n",
       "78    False\n",
       "79    False\n",
       "Name: structural_breakpoint, Length: 80, dtype: bool"
      ]
     },
     "execution_count": 6,
     "metadata": {},
     "output_type": "execute_result"
    }
   ],
   "source": [
    "y_train"
   ]
  },
  {
   "cell_type": "markdown",
   "metadata": {},
   "source": [
    "### `X_test`\n",
    "\n",
    "This is a **`list` of `pandas.DataFrame`** that have the same format as [`X_train`](#X_train).\n",
    "\n",
    "It is provided as a list to make sure you are encouraged to read the records **one by one**, __as this will be mandatory in the [`infer()`](#infer) function__."
   ]
  },
  {
   "cell_type": "code",
   "execution_count": 7,
   "metadata": {},
   "outputs": [
    {
     "name": "stdout",
     "output_type": "stream",
     "text": [
      "Number of datasets: 5\n"
     ]
    }
   ],
   "source": [
    "print(\"Number of datasets:\", len(X_test))"
   ]
  },
  {
   "cell_type": "code",
   "execution_count": 8,
   "metadata": {},
   "outputs": [
    {
     "data": {
      "text/html": [
       "<div>\n",
       "<style scoped>\n",
       "    .dataframe tbody tr th:only-of-type {\n",
       "        vertical-align: middle;\n",
       "    }\n",
       "\n",
       "    .dataframe tbody tr th {\n",
       "        vertical-align: top;\n",
       "    }\n",
       "\n",
       "    .dataframe thead th {\n",
       "        text-align: right;\n",
       "    }\n",
       "</style>\n",
       "<table border=\"1\" class=\"dataframe\">\n",
       "  <thead>\n",
       "    <tr style=\"text-align: right;\">\n",
       "      <th></th>\n",
       "      <th></th>\n",
       "      <th>value</th>\n",
       "      <th>period</th>\n",
       "    </tr>\n",
       "    <tr>\n",
       "      <th>id</th>\n",
       "      <th>time</th>\n",
       "      <th></th>\n",
       "      <th></th>\n",
       "    </tr>\n",
       "  </thead>\n",
       "  <tbody>\n",
       "    <tr>\n",
       "      <th rowspan=\"11\" valign=\"top\">80</th>\n",
       "      <th>0</th>\n",
       "      <td>0.011090</td>\n",
       "      <td>0</td>\n",
       "    </tr>\n",
       "    <tr>\n",
       "      <th>1</th>\n",
       "      <td>-0.007110</td>\n",
       "      <td>0</td>\n",
       "    </tr>\n",
       "    <tr>\n",
       "      <th>2</th>\n",
       "      <td>-0.035688</td>\n",
       "      <td>0</td>\n",
       "    </tr>\n",
       "    <tr>\n",
       "      <th>3</th>\n",
       "      <td>0.009437</td>\n",
       "      <td>0</td>\n",
       "    </tr>\n",
       "    <tr>\n",
       "      <th>4</th>\n",
       "      <td>0.002980</td>\n",
       "      <td>0</td>\n",
       "    </tr>\n",
       "    <tr>\n",
       "      <th>...</th>\n",
       "      <td>...</td>\n",
       "      <td>...</td>\n",
       "    </tr>\n",
       "    <tr>\n",
       "      <th>1541</th>\n",
       "      <td>0.014189</td>\n",
       "      <td>1</td>\n",
       "    </tr>\n",
       "    <tr>\n",
       "      <th>1542</th>\n",
       "      <td>0.002086</td>\n",
       "      <td>1</td>\n",
       "    </tr>\n",
       "    <tr>\n",
       "      <th>1543</th>\n",
       "      <td>-0.008756</td>\n",
       "      <td>1</td>\n",
       "    </tr>\n",
       "    <tr>\n",
       "      <th>1544</th>\n",
       "      <td>0.013921</td>\n",
       "      <td>1</td>\n",
       "    </tr>\n",
       "    <tr>\n",
       "      <th>1545</th>\n",
       "      <td>-0.011898</td>\n",
       "      <td>1</td>\n",
       "    </tr>\n",
       "  </tbody>\n",
       "</table>\n",
       "<p>1546 rows × 2 columns</p>\n",
       "</div>"
      ],
      "text/plain": [
       "            value  period\n",
       "id time                  \n",
       "80 0     0.011090       0\n",
       "   1    -0.007110       0\n",
       "   2    -0.035688       0\n",
       "   3     0.009437       0\n",
       "   4     0.002980       0\n",
       "...           ...     ...\n",
       "   1541  0.014189       1\n",
       "   1542  0.002086       1\n",
       "   1543 -0.008756       1\n",
       "   1544  0.013921       1\n",
       "   1545 -0.011898       1\n",
       "\n",
       "[1546 rows x 2 columns]"
      ]
     },
     "execution_count": 8,
     "metadata": {},
     "output_type": "execute_result"
    }
   ],
   "source": [
    "X_test[0]"
   ]
  },
  {
   "cell_type": "markdown",
   "metadata": {},
   "source": [
    "## Implementation"
   ]
  },
  {
   "cell_type": "markdown",
   "metadata": {},
   "source": [
    "### `train()`\n",
    "\n",
    "In the training function, users build and train the model to make inferences on the test data. <br />\n",
    "Your model must be stored in the `model_directory_path`."
   ]
  },
  {
   "cell_type": "code",
   "execution_count": 9,
   "metadata": {
    "ExecuteTime": {
     "end_time": "2024-11-18T10:04:00.459399Z",
     "start_time": "2024-11-18T10:04:00.455716Z"
    }
   },
   "outputs": [],
   "source": [
    "def train(\n",
    "    X_train: pd.DataFrame,\n",
    "    y_train: pd.Series,\n",
    "    model_directory_path: str,\n",
    "):\n",
    "    model = ...\n",
    "\n",
    "    joblib.dump(model, os.path.join(model_directory_path, 'model.joblib'))"
   ]
  },
  {
   "cell_type": "markdown",
   "metadata": {},
   "source": [
    "### `infer()`\n",
    "\n",
    "In the inference function, the trained model is loaded and used to make inferences on a sample of data that matches the characteristics of the training test.\n",
    "\n",
    "#### Setup\n",
    "\n",
    "Once your model is loaded, you must do a `yield` to signal it to the runner. <br />\n",
    "After that you can start reading data from `X_test`.\n",
    "\n",
    "#### Iteration\n",
    "\n",
    "The datasets must be read **one by one** and each value must be returned with a `yield <value>`. <br />\n",
    "If you try to skip this, you will get an error. <br />\n",
    "All values are then concatenated into a prediction file.\n",
    "\n",
    "**Warning: The datasets can only be iterated once!**\n",
    "\n",
    "#### Cleanup\n",
    "\n",
    "Code can be executed after the `for` loop if you need to persist state or do some cleanup."
   ]
  },
  {
   "cell_type": "code",
   "execution_count": 84,
   "metadata": {
    "ExecuteTime": {
     "end_time": "2024-11-18T10:03:59.120294Z",
     "start_time": "2024-11-18T10:03:59.114830Z"
    }
   },
   "outputs": [],
   "source": [
    "def infer(\n",
    "    X_test: typing.Iterable[pd.DataFrame],\n",
    "    model_directory_path: str,\n",
    "):\n",
    "    model = joblib.load(os.path.join(model_directory_path, 'model.joblib'))\n",
    "\n",
    "    yield  # mark as ready\n",
    "\n",
    "    # X_test can only be iterated once.\n",
    "    # Before getting the next dataset, you must predict the current one.\n",
    "    for dataset in X_test:\n",
    "        # prediction = model.predict(dataset)\n",
    "        prediction = round(random.random(), 2)\n",
    "\n",
    "        yield prediction  # send the prediction for the current dataset"
   ]
  },
  {
   "cell_type": "markdown",
   "metadata": {},
   "source": [
    "## Local testing\n",
    "\n",
    "To make sure your `train()` and `infer()` function are working properly, you can call the `.test()` function that will reproduce the cloud environment locally. <br />\n",
    "Even if it is not perfect, it should give you a quick idea if your model is working properly."
   ]
  },
  {
   "cell_type": "code",
   "execution_count": null,
   "metadata": {},
   "outputs": [],
   "source": [
    "crunch.test(\n",
    "    no_determinism_check=True,\n",
    ")"
   ]
  },
  {
   "cell_type": "markdown",
   "metadata": {},
   "source": [
    "## Results\n",
    "\n",
    "Once the local tester is done, you can preview the result stored in `data/prediction.parquet`."
   ]
  },
  {
   "cell_type": "code",
   "execution_count": null,
   "metadata": {},
   "outputs": [],
   "source": [
    "prediction = pd.read_parquet(\"data/prediction.parquet\")\n",
    "prediction"
   ]
  },
  {
   "cell_type": "markdown",
   "metadata": {},
   "source": [
    "### Local scoring\n",
    "\n",
    "You can call the function that the system uses to estimate your score locally."
   ]
  },
  {
   "cell_type": "code",
   "execution_count": null,
   "metadata": {},
   "outputs": [],
   "source": [
    "# Load the targets\n",
    "target = pd.read_parquet(\"data/y_test.reduced.parquet\")[\"structural_breakpoint\"].astype(float)\n",
    "\n",
    "# Call the scoring function\n",
    "sklearn.metrics.roc_auc_score(\n",
    "    target,\n",
    "    prediction,\n",
    ")"
   ]
  },
  {
   "cell_type": "markdown",
   "metadata": {},
   "source": [
    "# Submitting\n",
    "\n",
    "To submit your work to the platform, you must\n",
    "\n",
    "### 1. Download your notebook\n",
    "\n",
    "![Download Notebook on Colab](https://raw.githubusercontent.com/crunchdao/competitions/refs/heads/structural-break/documentation/animations/colab-download-notebook.gif)\n",
    "\n",
    "\n",
    "### 2. Upload it to the platform\n",
    "\n",
    "Submit it on: https://hub.crunchdao.io/competitions/structural-break/submit\n",
    "\n",
    "![Submit Notebook](https://raw.githubusercontent.com/crunchdao/competitions/refs/heads/structural-break/documentation/animations/hub-submit-notebook.gif)"
   ]
  }
 ],
 "metadata": {
  "kernelspec": {
   "display_name": "Python 3",
   "language": "python",
   "name": "python3"
  },
  "language_info": {
   "codemirror_mode": {
    "name": "ipython",
    "version": 3
   },
   "file_extension": ".py",
   "mimetype": "text/x-python",
   "name": "python",
   "nbconvert_exporter": "python",
   "pygments_lexer": "ipython3",
   "version": "3.10.11"
  }
 },
 "nbformat": 4,
 "nbformat_minor": 2
}
