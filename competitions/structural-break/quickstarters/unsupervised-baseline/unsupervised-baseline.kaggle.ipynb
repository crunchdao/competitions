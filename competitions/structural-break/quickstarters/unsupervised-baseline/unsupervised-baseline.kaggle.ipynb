{
 "cells": [
  {
   "cell_type": "markdown",
   "metadata": {
    "id": "AvWIItAe-0fN"
   },
   "source": [
    "[![Open In Colab](https://raw.githubusercontent.com/crunchdao/competitions/refs/heads/master/documentation/badge/open-in-colab.svg)](https://colab.research.google.com/github/crunchdao/quickstarters/blob/master/competitions/structural-break/quickstarters/unsupervised-baseline/unsupervised-baseline.ipynb)"
   ]
  },
  {
   "cell_type": "markdown",
   "metadata": {
    "id": "pNUXnJa_-0fO"
   },
   "source": [
    "![Banner](https://raw.githubusercontent.com/crunchdao/quickstarters/refs/heads/master/competitions/structural-break/assets/banner.webp)"
   ]
  },
  {
   "cell_type": "markdown",
   "metadata": {
    "id": "lurIF1Ve-0fP"
   },
   "source": [
    "# ADIA Lab Structural Break Challenge\n",
    "\n",
    "## Challenge Overview\n",
    "\n",
    "Welcome to the ADIA Lab Structural Break Challenge! In this challenge, you will analyze univariate time series data to determine whether a structural break has occurred at a specified boundary point.\n",
    "\n",
    "### What is a Structural Break?\n",
    "\n",
    "A structural break occurs when the process governing the data generation changes at a certain point in time. These changes can be subtle or dramatic, and detecting them accurately is crucial across various domains such as climatology, industrial monitoring, finance, and healthcare.\n",
    "\n",
    "![Structural Break Example](https://raw.githubusercontent.com/crunchdao/competitions/refs/heads/master/competitions/structural-break/quickstarters/baseline/images/example.png)\n",
    "\n",
    "### Your Task\n",
    "\n",
    "For each time series in the test set, you need to predict a score between `0` and `1`:\n",
    "- Values closer to `0` indicate no structural break at the specified boundary point;\n",
    "- Values closer to `1` indicate a structural break did occur.\n",
    "\n",
    "### Evaluation Metric\n",
    "\n",
    "The evaluation metric is [ROC AUC (Area Under the Receiver Operating Characteristic Curve)](https://scikit-learn.org/stable/modules/generated/sklearn.metrics.roc_auc_score.html), which measures the performance of detection algorithms regardless of their specific calibration.\n",
    "\n",
    "- ROC AUC around `0.5`: No better than random chance;\n",
    "- ROC AUC approaching `1.0`: Perfect detection."
   ]
  },
  {
   "cell_type": "markdown",
   "metadata": {},
   "source": [
    "# Setup\n",
    "\n",
    "The first steps to get started are:\n",
    "1. Turn on Internet in Kaggle\n",
    "\n",
    "![Turn on Internet token](https://raw.githubusercontent.com/crunchdao/competitions/refs/heads/master/documentation/animations/kaggle-turn-on-internet.gif)\n",
    "\n",
    "2. Get the setup command\n",
    "3. Execute it in the cell below\n",
    "\n",
    "### >> https://hub.crunchdao.com/competitions/structural-break/submit/notebook\n",
    "\n",
    "![Reveal token](https://raw.githubusercontent.com/crunchdao/competitions/refs/heads/master/documentation/animations/reveal-token.gif)"
   ]
  },
  {
   "cell_type": "code",
   "execution_count": null,
   "metadata": {
    "colab": {
     "base_uri": "https://localhost:8080/"
    },
    "id": "7DUeixiC_IJM",
    "outputId": "acc1a734-d506-4a0f-b234-59436c8d7683"
   },
   "outputs": [],
   "source": [
    "# Install the Crunch CLI\n",
    "%pip install --upgrade crunch-cli\n",
    "\n",
    "# Setup your local environment\n",
    "!crunch setup --notebook structural-break hello --token aaaabbbbccccddddeeeeffff"
   ]
  },
  {
   "cell_type": "markdown",
   "metadata": {
    "id": "1IBhw7hv-0fQ"
   },
   "source": [
    "# Your model"
   ]
  },
  {
   "cell_type": "markdown",
   "metadata": {
    "id": "EpLeMWSw-0fQ"
   },
   "source": [
    "## Setup"
   ]
  },
  {
   "cell_type": "code",
   "execution_count": 3,
   "metadata": {
    "ExecuteTime": {
     "end_time": "2024-11-18T09:52:21.302334Z",
     "start_time": "2024-11-18T09:52:18.268241Z"
    },
    "id": "MKqz-6Zw-0fR"
   },
   "outputs": [],
   "source": [
    "import os\n",
    "import typing\n",
    "\n",
    "# Import your dependencies\n",
    "import joblib\n",
    "import numpy as np\n",
    "import pandas as pd\n",
    "from tqdm.auto import tqdm\n",
    "import sklearn.metrics\n",
    "from scipy.stats import wasserstein_distance  # 1D Earth Mover's Distance"
   ]
  },
  {
   "cell_type": "code",
   "execution_count": null,
   "metadata": {
    "colab": {
     "base_uri": "https://localhost:8080/"
    },
    "id": "xjD_WSAS-0fR",
    "outputId": "75b022d0-b3ae-4c07-e136-8ea22537731f"
   },
   "outputs": [],
   "source": [
    "import crunch\n",
    "\n",
    "# Load the Crunch Toolings\n",
    "crunch = crunch.load_notebook()"
   ]
  },
  {
   "cell_type": "markdown",
   "metadata": {
    "id": "IiKJODFx-0fR"
   },
   "source": [
    "## Understanding the Data\n",
    "\n",
    "The dataset consists of univariate time series, each containing ~2,000-5,000 values with a designated boundary point. For each time series, you need to determine whether a structural break occurred at this boundary point.\n",
    "\n",
    "The data was downloaded when you setup your local environment and is now available in the `data/` directory."
   ]
  },
  {
   "cell_type": "code",
   "execution_count": null,
   "metadata": {
    "colab": {
     "base_uri": "https://localhost:8080/"
    },
    "id": "RKHXgvjN-0fS",
    "outputId": "3b7ef5e2-8db7-4d30-ff24-6acc894920b7"
   },
   "outputs": [],
   "source": [
    "# Load the data simply\n",
    "X_train, y_train, X_test = crunch.load_data()"
   ]
  },
  {
   "cell_type": "markdown",
   "metadata": {
    "id": "7T_JmgMq-0fS"
   },
   "source": [
    "### Understanding `X_train`\n",
    "\n",
    "The training data is structured as a pandas DataFrame with a MultiIndex:\n",
    "\n",
    "**Index Levels:**\n",
    "- `id`: Identifies the unique time series\n",
    "- `time`: (arbitrary) The time step within each time series, which is regularly sampled\n",
    "\n",
    "**Columns:**\n",
    "- `value`: The values of the time series at each given time step\n",
    "- `period`: whether you are in the first part of the time series (`0`), before the presumed break point, or in the second part (`1`), after the break point"
   ]
  },
  {
   "cell_type": "code",
   "execution_count": 7,
   "metadata": {
    "colab": {
     "base_uri": "https://localhost:8080/",
     "height": 455
    },
    "id": "0oRCTnOb-0fS",
    "outputId": "2d0663ba-76b2-4937-d7fc-e6c314784242"
   },
   "outputs": [
    {
     "data": {
      "text/html": [
       "<div>\n",
       "<style scoped>\n",
       "    .dataframe tbody tr th:only-of-type {\n",
       "        vertical-align: middle;\n",
       "    }\n",
       "\n",
       "    .dataframe tbody tr th {\n",
       "        vertical-align: top;\n",
       "    }\n",
       "\n",
       "    .dataframe thead th {\n",
       "        text-align: right;\n",
       "    }\n",
       "</style>\n",
       "<table border=\"1\" class=\"dataframe\">\n",
       "  <thead>\n",
       "    <tr style=\"text-align: right;\">\n",
       "      <th></th>\n",
       "      <th></th>\n",
       "      <th>value</th>\n",
       "      <th>period</th>\n",
       "    </tr>\n",
       "    <tr>\n",
       "      <th>id</th>\n",
       "      <th>time</th>\n",
       "      <th></th>\n",
       "      <th></th>\n",
       "    </tr>\n",
       "  </thead>\n",
       "  <tbody>\n",
       "    <tr>\n",
       "      <th rowspan=\"5\" valign=\"top\">0</th>\n",
       "      <th>0</th>\n",
       "      <td>-0.005564</td>\n",
       "      <td>0</td>\n",
       "    </tr>\n",
       "    <tr>\n",
       "      <th>1</th>\n",
       "      <td>0.003705</td>\n",
       "      <td>0</td>\n",
       "    </tr>\n",
       "    <tr>\n",
       "      <th>2</th>\n",
       "      <td>0.013164</td>\n",
       "      <td>0</td>\n",
       "    </tr>\n",
       "    <tr>\n",
       "      <th>3</th>\n",
       "      <td>0.007151</td>\n",
       "      <td>0</td>\n",
       "    </tr>\n",
       "    <tr>\n",
       "      <th>4</th>\n",
       "      <td>-0.009979</td>\n",
       "      <td>0</td>\n",
       "    </tr>\n",
       "    <tr>\n",
       "      <th>...</th>\n",
       "      <th>...</th>\n",
       "      <td>...</td>\n",
       "      <td>...</td>\n",
       "    </tr>\n",
       "    <tr>\n",
       "      <th rowspan=\"5\" valign=\"top\">10000</th>\n",
       "      <th>2134</th>\n",
       "      <td>0.001137</td>\n",
       "      <td>1</td>\n",
       "    </tr>\n",
       "    <tr>\n",
       "      <th>2135</th>\n",
       "      <td>0.003526</td>\n",
       "      <td>1</td>\n",
       "    </tr>\n",
       "    <tr>\n",
       "      <th>2136</th>\n",
       "      <td>0.000687</td>\n",
       "      <td>1</td>\n",
       "    </tr>\n",
       "    <tr>\n",
       "      <th>2137</th>\n",
       "      <td>0.001640</td>\n",
       "      <td>1</td>\n",
       "    </tr>\n",
       "    <tr>\n",
       "      <th>2138</th>\n",
       "      <td>0.001074</td>\n",
       "      <td>1</td>\n",
       "    </tr>\n",
       "  </tbody>\n",
       "</table>\n",
       "<p>23715734 rows × 2 columns</p>\n",
       "</div>"
      ],
      "text/plain": [
       "               value  period\n",
       "id    time                  \n",
       "0     0    -0.005564       0\n",
       "      1     0.003705       0\n",
       "      2     0.013164       0\n",
       "      3     0.007151       0\n",
       "      4    -0.009979       0\n",
       "...              ...     ...\n",
       "10000 2134  0.001137       1\n",
       "      2135  0.003526       1\n",
       "      2136  0.000687       1\n",
       "      2137  0.001640       1\n",
       "      2138  0.001074       1\n",
       "\n",
       "[23715734 rows x 2 columns]"
      ]
     },
     "execution_count": 7,
     "metadata": {},
     "output_type": "execute_result"
    }
   ],
   "source": [
    "X_train"
   ]
  },
  {
   "cell_type": "markdown",
   "metadata": {
    "id": "6WP39dgx-0fS"
   },
   "source": [
    "### Understanding `y_train`\n",
    "\n",
    "This is a simple `pandas.Series` that tells if a time series id has a structural break, or not, from the presumed break point on.\n",
    "\n",
    "**Index:**\n",
    "- `id`: the ID of the time series\n",
    "\n",
    "**Value:**\n",
    "- `structural_breakpoint`: Boolean indicating whether a structural break occurred (`True`) or not (`False`)"
   ]
  },
  {
   "cell_type": "code",
   "execution_count": 8,
   "metadata": {
    "colab": {
     "base_uri": "https://localhost:8080/",
     "height": 490
    },
    "id": "dPsQPdIj-0fT",
    "outputId": "acd28eab-afd8-44c7-d229-d7e414f2e3c4"
   },
   "outputs": [
    {
     "data": {
      "text/plain": [
       "id\n",
       "0         True\n",
       "1         True\n",
       "2        False\n",
       "3         True\n",
       "4        False\n",
       "         ...  \n",
       "9996     False\n",
       "9997      True\n",
       "9998     False\n",
       "9999     False\n",
       "10000     True\n",
       "Name: structural_breakpoint, Length: 10001, dtype: bool"
      ]
     },
     "execution_count": 8,
     "metadata": {},
     "output_type": "execute_result"
    }
   ],
   "source": [
    "y_train"
   ]
  },
  {
   "cell_type": "markdown",
   "metadata": {
    "id": "2oSS08Ks-0fT"
   },
   "source": [
    "### Understanding `X_test`\n",
    "\n",
    "The test data is provided as a **`list` of `pandas.DataFrame`s** with the same format as [`X_train`](#understanding-X_test).\n",
    "\n",
    "It is structured as a list to encourage processing records one by one, which will be mandatory in the `infer()` function."
   ]
  },
  {
   "cell_type": "code",
   "execution_count": 11,
   "metadata": {
    "colab": {
     "base_uri": "https://localhost:8080/"
    },
    "id": "8ErbKAs--0fT",
    "outputId": "5ce46294-1824-4067-be90-547189e90be3"
   },
   "outputs": [
    {
     "name": "stdout",
     "output_type": "stream",
     "text": [
      "Number of datasets: 101\n"
     ]
    }
   ],
   "source": [
    "print(\"Number of datasets:\", len(X_test))"
   ]
  },
  {
   "cell_type": "code",
   "execution_count": 12,
   "metadata": {
    "colab": {
     "base_uri": "https://localhost:8080/",
     "height": 455
    },
    "id": "M_dTYXms-0fT",
    "outputId": "b3ee6375-995f-47f6-f6e5-7f08d9838820"
   },
   "outputs": [
    {
     "data": {
      "text/html": [
       "<div>\n",
       "<style scoped>\n",
       "    .dataframe tbody tr th:only-of-type {\n",
       "        vertical-align: middle;\n",
       "    }\n",
       "\n",
       "    .dataframe tbody tr th {\n",
       "        vertical-align: top;\n",
       "    }\n",
       "\n",
       "    .dataframe thead th {\n",
       "        text-align: right;\n",
       "    }\n",
       "</style>\n",
       "<table border=\"1\" class=\"dataframe\">\n",
       "  <thead>\n",
       "    <tr style=\"text-align: right;\">\n",
       "      <th></th>\n",
       "      <th></th>\n",
       "      <th>value</th>\n",
       "      <th>period</th>\n",
       "    </tr>\n",
       "    <tr>\n",
       "      <th>id</th>\n",
       "      <th>time</th>\n",
       "      <th></th>\n",
       "      <th></th>\n",
       "    </tr>\n",
       "  </thead>\n",
       "  <tbody>\n",
       "    <tr>\n",
       "      <th rowspan=\"11\" valign=\"top\">10001</th>\n",
       "      <th>0</th>\n",
       "      <td>0.010753</td>\n",
       "      <td>0</td>\n",
       "    </tr>\n",
       "    <tr>\n",
       "      <th>1</th>\n",
       "      <td>-0.031915</td>\n",
       "      <td>0</td>\n",
       "    </tr>\n",
       "    <tr>\n",
       "      <th>2</th>\n",
       "      <td>-0.010989</td>\n",
       "      <td>0</td>\n",
       "    </tr>\n",
       "    <tr>\n",
       "      <th>3</th>\n",
       "      <td>-0.011111</td>\n",
       "      <td>0</td>\n",
       "    </tr>\n",
       "    <tr>\n",
       "      <th>4</th>\n",
       "      <td>0.011236</td>\n",
       "      <td>0</td>\n",
       "    </tr>\n",
       "    <tr>\n",
       "      <th>...</th>\n",
       "      <td>...</td>\n",
       "      <td>...</td>\n",
       "    </tr>\n",
       "    <tr>\n",
       "      <th>2774</th>\n",
       "      <td>-0.013937</td>\n",
       "      <td>1</td>\n",
       "    </tr>\n",
       "    <tr>\n",
       "      <th>2775</th>\n",
       "      <td>-0.015649</td>\n",
       "      <td>1</td>\n",
       "    </tr>\n",
       "    <tr>\n",
       "      <th>2776</th>\n",
       "      <td>-0.009744</td>\n",
       "      <td>1</td>\n",
       "    </tr>\n",
       "    <tr>\n",
       "      <th>2777</th>\n",
       "      <td>0.025375</td>\n",
       "      <td>1</td>\n",
       "    </tr>\n",
       "    <tr>\n",
       "      <th>2778</th>\n",
       "      <td>-0.001515</td>\n",
       "      <td>1</td>\n",
       "    </tr>\n",
       "  </tbody>\n",
       "</table>\n",
       "<p>2779 rows × 2 columns</p>\n",
       "</div>"
      ],
      "text/plain": [
       "               value  period\n",
       "id    time                  \n",
       "10001 0     0.010753       0\n",
       "      1    -0.031915       0\n",
       "      2    -0.010989       0\n",
       "      3    -0.011111       0\n",
       "      4     0.011236       0\n",
       "...              ...     ...\n",
       "      2774 -0.013937       1\n",
       "      2775 -0.015649       1\n",
       "      2776 -0.009744       1\n",
       "      2777  0.025375       1\n",
       "      2778 -0.001515       1\n",
       "\n",
       "[2779 rows x 2 columns]"
      ]
     },
     "execution_count": 12,
     "metadata": {},
     "output_type": "execute_result"
    }
   ],
   "source": [
    "X_test[0]"
   ]
  },
  {
   "cell_type": "markdown",
   "metadata": {
    "id": "YgulFOGX-0fT"
   },
   "source": [
    "## Strategy Implementation\n",
    "\n",
    "There are multiple approaches you can take to detect structural breaks:\n",
    "\n",
    "1. **Statistical Tests**: Compare distributions before and after the boundary point;\n",
    "2. **Feature Engineering**: Extract features from both segments for comparison;\n",
    "3. **Time Series Modeling**: Detect deviations from expected patterns;\n",
    "4. **Machine Learning**: Train models to recognize break patterns from labeled examples.\n",
    "\n",
    "The baseline implementation below uses a simple statistical approach: a t-test to compare the distributions before and after the boundary point."
   ]
  },
  {
   "cell_type": "markdown",
   "metadata": {
    "id": "wLfYIXlz-0fT"
   },
   "source": [
    "### The `train()` Function\n",
    "\n",
    "In this function, you build and train your model for making inferences on the test data. Your model must be stored in the `model_directory_path`.\n",
    "\n",
    "The baseline implementation below doesn't require a pre-trained model, as it uses a statistical test that will be computed at inference time."
   ]
  },
  {
   "cell_type": "code",
   "execution_count": 13,
   "metadata": {
    "ExecuteTime": {
     "end_time": "2024-11-18T10:04:00.459399Z",
     "start_time": "2024-11-18T10:04:00.455716Z"
    },
    "id": "xQwWDC6M-0fT"
   },
   "outputs": [],
   "source": [
    "def train(\n",
    "    X_train: pd.DataFrame,\n",
    "    y_train: pd.Series,  # not used here (unsupervised baseline)\n",
    "    model_directory_path: str,\n",
    "):\n",
    "    \"\"\"\n",
    "    SIMPLE TRAINING:\n",
    "    - For each training time series (grouped by 'id'), compute a raw difference signal:\n",
    "        raw = Wasserstein distance between period==0 and period==1 values.\n",
    "    - Learn a robust scaling (median + IQR) to map raw distances into (0,1) via a logistic curve.\n",
    "    - Save just two numbers (median, iqr) for use in inference.\n",
    "    \"\"\"\n",
    "\n",
    "    # Build a list of raw EMD scores across all training ids\n",
    "    raw_scores = []\n",
    "    for _, df in X_train.groupby(level=\"id\", sort=False):\n",
    "        df = df[[\"value\", \"period\"]].dropna()\n",
    "\n",
    "        before = df.loc[df[\"period\"] == 0, \"value\"].to_numpy(dtype=float, copy=False)\n",
    "        after =  df.loc[df[\"period\"] == 1, \"value\"].to_numpy(dtype=float, copy=False)\n",
    "\n",
    "        # Safe fallback if any segment is empty\n",
    "        if before.size == 0 or after.size == 0:\n",
    "            raw = 0.0\n",
    "        else:\n",
    "            raw = float(wasserstein_distance(before, after))\n",
    "\n",
    "        raw_scores.append(raw)\n",
    "\n",
    "    # Fit robust parameters: median and IQR of the raw scores\n",
    "    arr = np.array(raw_scores, dtype=float)\n",
    "    if arr.size == 0:\n",
    "        median = 0.0\n",
    "        iqr = 1.0\n",
    "    else:\n",
    "        q25, median, q75 = np.percentile(arr, [25, 50, 75])\n",
    "        iqr = float(q75 - q25)\n",
    "\n",
    "        # If IQR is tiny, fall back to std or 1.0 to avoid divide-by-zero\n",
    "        if iqr < 1e-8:\n",
    "            iqr = float(np.std(arr)) if arr.size > 1 else 1.0\n",
    "\n",
    "    # Save the tiny \"model\": just the scaling params\n",
    "    params = {\n",
    "        \"median\": float(median),\n",
    "        \"iqr\": float(iqr),\n",
    "    }\n",
    "\n",
    "    joblib.dump(params, os.path.join(model_directory_path, \"model.joblib\"))"
   ]
  },
  {
   "cell_type": "markdown",
   "metadata": {
    "id": "7n-jboJH-0fU"
   },
   "source": [
    "### The `infer()` Function\n",
    "\n",
    "In the inference function, your trained model (if any) is loaded and used to make predictions on test data.\n",
    "\n",
    "**Important workflow:**\n",
    "1. Load your model;\n",
    "2. Use the `yield` statement to signal readiness to the runner;\n",
    "3. Process each dataset one by one within the for loop;\n",
    "4. For each dataset, use `yield prediction` to return your prediction.\n",
    "\n",
    "**Note:** The datasets can only be iterated once!"
   ]
  },
  {
   "cell_type": "code",
   "execution_count": 14,
   "metadata": {
    "ExecuteTime": {
     "end_time": "2024-11-18T10:03:59.120294Z",
     "start_time": "2024-11-18T10:03:59.114830Z"
    },
    "id": "r1b7hRkl-0fU"
   },
   "outputs": [],
   "source": [
    "def infer(\n",
    "    X_test: typing.Iterable[pd.DataFrame],\n",
    "    model_directory_path: str,\n",
    "):\n",
    "    \"\"\"\n",
    "    SIMPLE INFERENCE:\n",
    "    - Load (median, iqr).\n",
    "    - Crunch protocol: yield once to signal readiness.\n",
    "    - For each dataset:\n",
    "        * compute raw EMD between period 0 and 1,\n",
    "        * map to (0,1) with a robust logistic transform,\n",
    "        * yield the score.\n",
    "    \"\"\"\n",
    "\n",
    "    params = joblib.load(os.path.join(model_directory_path, \"model.joblib\"))\n",
    "    median = params[\"median\"]\n",
    "    iqr = params[\"iqr\"]\n",
    "    eps = 1e-8  # tiny constant for numerical stability\n",
    "\n",
    "    # Signal readiness to the Crunch runner\n",
    "    yield\n",
    "\n",
    "    # X_test can only be iterated once.\n",
    "    # Before getting the next dataset, you must predict the current one.\n",
    "    for df in tqdm(X_test):\n",
    "        df = df[[\"value\", \"period\"]].dropna()\n",
    "        before = df.loc[df[\"period\"] == 0, \"value\"].to_numpy(dtype=float, copy=False)\n",
    "        after =  df.loc[df[\"period\"] == 1, \"value\"].to_numpy(dtype=float, copy=False)\n",
    "\n",
    "        if before.size == 0 or after.size == 0:\n",
    "            raw = 0.0\n",
    "        else:\n",
    "            raw = float(wasserstein_distance(before, after))\n",
    "\n",
    "        # Robust logistic mapping to [0,1]\n",
    "        # z ~ standardized by 1.35*IQR (≈ IQR as a robust std proxy)\n",
    "        z = (raw - median) / (1.35 * iqr + eps)\n",
    "        score = float(1.0 / (1.0 + np.exp(-z)))\n",
    "\n",
    "        yield score   # send the prediction for the current dataset"
   ]
  },
  {
   "cell_type": "markdown",
   "metadata": {
    "id": "1W0Kl9CA-0fU"
   },
   "source": [
    "## Local testing\n",
    "\n",
    "To make sure your `train()` and `infer()` function are working properly, you can call the `crunch.test()` function that will reproduce the cloud environment locally. <br />\n",
    "Even if it is not perfect, it should give you a quick idea if your model is working properly."
   ]
  },
  {
   "cell_type": "code",
   "execution_count": null,
   "metadata": {
    "colab": {
     "base_uri": "https://localhost:8080/"
    },
    "id": "tDZeP-4--0fU",
    "outputId": "8bfdb1e2-446e-4cfe-9888-c9f07fb4aeab"
   },
   "outputs": [],
   "source": [
    "crunch.test(\n",
    "    # Uncomment to disable the train\n",
    "    # force_first_train=False,\n",
    "\n",
    "    # Uncomment to disable the determinism check\n",
    "    # no_determinism_check=True,\n",
    ")"
   ]
  },
  {
   "cell_type": "markdown",
   "metadata": {
    "id": "bV_5CKs--0fU"
   },
   "source": [
    "## Results\n",
    "\n",
    "Once the local tester is done, you can preview the result stored in `data/prediction.parquet`."
   ]
  },
  {
   "cell_type": "code",
   "execution_count": null,
   "metadata": {
    "colab": {
     "base_uri": "https://localhost:8080/",
     "height": 238
    },
    "id": "ly5q68sA-0fU",
    "outputId": "4ab7c035-6bdc-41dc-85b5-c11c8ddc6d1a"
   },
   "outputs": [],
   "source": [
    "prediction = pd.read_parquet(\"data/prediction.parquet\")\n",
    "prediction"
   ]
  },
  {
   "cell_type": "markdown",
   "metadata": {
    "id": "1oP-NLGh-0fU"
   },
   "source": [
    "### Local scoring\n",
    "\n",
    "You can call the function that the system uses to estimate your score locally."
   ]
  },
  {
   "cell_type": "code",
   "execution_count": null,
   "metadata": {
    "colab": {
     "base_uri": "https://localhost:8080/"
    },
    "id": "RyCrjpzv-0fU",
    "outputId": "4dd5e952-db2d-465f-b231-7bf606161b19"
   },
   "outputs": [],
   "source": [
    "# Load the targets\n",
    "target = pd.read_parquet(\"data/y_test.reduced.parquet\")[\"structural_breakpoint\"]\n",
    "\n",
    "# Call the scoring function\n",
    "sklearn.metrics.roc_auc_score(\n",
    "    target,\n",
    "    prediction,\n",
    ")"
   ]
  },
  {
   "cell_type": "markdown",
   "metadata": {
    "id": "3AE1i3pR-0fV"
   },
   "source": [
    "# Submit your Notebook\n",
    "\n",
    "To submit your work, you must:\n",
    "1. Download your Notebook from Kaggle\n",
    "2. Upload it to the platform\n",
    "3. Create a run to validate it\n",
    "\n",
    "### >> https://hub.crunchdao.com/competitions/structural-break/submit/notebook\n",
    "\n",
    "![Download and Submit Notebook](https://raw.githubusercontent.com/crunchdao/competitions/refs/heads/master/documentation/animations/download-and-submit-notebook-on-kaggle.gif)"
   ]
  }
 ],
 "metadata": {
  "colab": {
   "provenance": []
  },
  "kernelspec": {
   "display_name": "Python 3",
   "language": "python",
   "name": "python3"
  },
  "language_info": {
   "codemirror_mode": {
    "name": "ipython",
    "version": 3
   },
   "file_extension": ".py",
   "mimetype": "text/x-python",
   "name": "python",
   "nbconvert_exporter": "python",
   "pygments_lexer": "ipython3",
   "version": "3.13.5"
  }
 },
 "nbformat": 4,
 "nbformat_minor": 4
}
