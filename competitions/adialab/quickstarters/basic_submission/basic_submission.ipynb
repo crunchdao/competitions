{
 "cells": [
  {
   "cell_type": "markdown",
   "metadata": {
    "id": "tEd1A1tFBOKs"
   },
   "source": [
    "[![Open In Colab](https://colab.research.google.com/assets/colab-badge.svg)](https://colab.research.google.com/github/crunchdao/quickstarters/blob/master/competitions/adialab/quickstarters/basic_submission/basic_submission.ipynb)"
   ]
  },
  {
   "cell_type": "markdown",
   "metadata": {
    "id": "aWkyd7l6wBse",
    "tags": []
   },
   "source": [
    "![Banner](https://raw.githubusercontent.com/crunchdao/quickstarters/refs/heads/master/competitions/adialab/assets/banner.webp)"
   ]
  },
  {
   "cell_type": "markdown",
   "metadata": {
    "id": "QIGffwE2wBsi"
   },
   "source": [
    "# Set up your crunch workspace"
   ]
  },
  {
   "cell_type": "markdown",
   "metadata": {
    "id": "wPwpdl83wBsi"
   },
   "source": [
    "#### STEP 1\n",
    "Run this cell to install the crunch library in your workspace."
   ]
  },
  {
   "cell_type": "code",
   "execution_count": null,
   "metadata": {
    "colab": {
     "base_uri": "https://localhost:8080/"
    },
    "id": "fctOAv3CwBsi",
    "outputId": "41de4317-bfb4-469d-c7df-b7172d38515b",
    "tags": []
   },
   "outputs": [],
   "source": [
    "!pip3 install crunch-cli --upgrade"
   ]
  },
  {
   "cell_type": "markdown",
   "metadata": {
    "id": "kaVIsoyowBsl"
   },
   "source": [
    "#### STEP 2\n",
    "Import the crunch package and instantiate it to be able to access its functionality."
   ]
  },
  {
   "cell_type": "code",
   "execution_count": null,
   "metadata": {
    "colab": {
     "base_uri": "https://localhost:8080/"
    },
    "id": "tHV_tK7EwBsm",
    "outputId": "e4eb51be-18cc-4277-8ba4-27f7f5aa9794",
    "tags": []
   },
   "outputs": [],
   "source": [
    "import crunch\n",
    "crunch = crunch.load_notebook(__name__)"
   ]
  },
  {
   "cell_type": "markdown",
   "metadata": {
    "id": "GhDWzOWDBOKw"
   },
   "source": [
    "#### STEP 3"
   ]
  },
  {
   "cell_type": "code",
   "execution_count": null,
   "metadata": {
    "colab": {
     "base_uri": "https://localhost:8080/"
    },
    "id": "4C7QjMkqBOKw",
    "outputId": "05da2d5d-a94c-4c77-89e2-71de6fd6a7ec",
    "tags": []
   },
   "outputs": [],
   "source": [
    "# go to your submit page and copy paste your setup command to access the data\n",
    "# https://adialab.crunchdao.com/submit\n",
    "!crunch --notebook setup resonant-poincare --token 1d5jXddVQA2XLv7uFU9ukQm66L4jFisBXUs4UbeKIojeu0wXDcnyuAg9AChPyBZf\n",
    "%cd resonant-poincare"
   ]
  },
  {
   "cell_type": "markdown",
   "metadata": {
    "id": "fJqTMeLqwBsm"
   },
   "source": [
    "# ADIA Lab Market Prediction"
   ]
  },
  {
   "cell_type": "markdown",
   "metadata": {
    "id": "VlAzMPaIwBsm"
   },
   "source": [
    "## A code competition\n",
    "\n",
    "This competition is divided in two phases.\n",
    "\n",
    "Submission phase - 12 weeks\n",
    "\n",
    "Out-of-Sample phase - 12 weeks\n",
    "\n",
    "During the first phase, participants will submit Python notebooks or Python scripts which build their best possible model on the data proposed by the organizers. In the second phase, also called [Out-of-Sample](https://en.wikipedia.org/wiki/Cross-validation_(statistics)) (OOS) phase, the participant's code will be automatically executed by the platform on unseen data. During this phase, the participants won't be able to modify their code.\n",
    "\n",
    "There are two main reasons for this:\n",
    "\n",
    "- Participants won't be able to game or cheat their scores.\n",
    "\n",
    "- [Overfitting](https://deliverypdf.ssrn.com/delivery.php?ID=634087103098022017102089127026118070055022030067038035066070070118003108076075122073107013020035005031116084117030102014013119017036066065011126115081078006004108029033051020066006092025091103065117104075029100098011096065096065079019015002101078070&EXT=pdf&INDEX=TRUE) of the training data will lead to very bad performance OOS.\n",
    "\n",
    "To ensure reproducibility of your work, you will need to follow certain coding guidelines to participate in the competition. These guidelines will also allow our scoring system to run your code in the cloud during the OOS period without any issues.\n",
    "\n",
    "In this competition, CrunchDAO acts as a third party intermediary and will never communicate this code to the organizers.\n",
    "\n",
    "## The Coding Guideline\n",
    "\n",
    "Your submission needs at least to provide three components: imports, `train()`, and `infer()`.\n",
    "\n",
    "1. **imports**: As with any script, if your solution contains dependencies on external packages make sure to import them. The system will automatically install your dependancies. Make sure that you are using only packages that are whitelisted [here](https://adialab.crunchdao.io/submit?tab=libraries).\n",
    "\n",
    "2. **`train()`**: In the training phase the users will build the model and train it such that it can perform inferences on the testing data. The model must be saved in the `resources` directory.\n",
    "\n",
    "4. **`infer()`**: In the inference function the model trained in the previous step will be loaded and used to perform inferences on a data sample matching the characteristic of the training test.\n",
    "\n",
    "## Scoring on the public leaderboard\n",
    "\n",
    "To ensure the reliability of the public leaderboard, you don't have access to all of the testing data on which you will be scored.\n",
    "The `X_test` data downloaded in your workspace is composed of **only** 5 dates to test locally that your code actually runs when submitted. Notice that `y_test` is not available for those 5 dates.\n",
    "Once you have uploaded your solution the system will run your code on a larger test set of approximately 30 dates, and compute the score.\n",
    "\n",
    "When submitting, you are left to decide how frequently to retrain your model, considering the limit of 5 hours of resources / week / user allowed to predict the 30 dates of the private test set.\n",
    "\n",
    "\n",
    "## Scoring on the out-of-sample phase\n",
    "\n",
    "During the out-of-sample phase, after the submission period ends, the system will call your code 3 times every week on live datapoint.\n",
    "\n",
    "The mean spearman score after 12 weeks of OOS will determine the winners of the tournament.\n"
   ]
  },
  {
   "cell_type": "markdown",
   "metadata": {
    "id": "SwxiUFGAwBsq"
   },
   "source": [
    "# Construction of a basic submission"
   ]
  },
  {
   "cell_type": "markdown",
   "metadata": {
    "id": "0o1AvFK_wBso"
   },
   "source": [
    "### Submission process\n",
    "\n",
    "1- Make sure to put all your code in the code interface inside your Notebook. The system will parse these functions to execute it in the cloud. You can work outside of the code interface but to be able to submit you will need to fill in the submission function with the code you want to submit\n",
    "\n",
    "2- Once satisfied with your work. Download this notebook ( file -> Download -> Download.ipynb )\n",
    "\n",
    "3- Then upload this Notebook on https://adialab.crunchdao.com/submit\n",
    "\n"
   ]
  },
  {
   "cell_type": "code",
   "execution_count": null,
   "metadata": {
    "id": "S5jTqHSpBOKy",
    "tags": []
   },
   "outputs": [],
   "source": [
    "\"\"\"\n",
    "This is a basic example of what you need to do to participate to the tournament.\n",
    "The code will not have access to the internet (or any socket related operation).\n",
    "\"\"\"\n",
    "\n",
    "# Imports\n",
    "import xgboost as xgb\n",
    "import pandas as pd\n",
    "import typing\n",
    "import joblib\n",
    "from pathlib import Path\n",
    "\n",
    "\n",
    "def train(X_train: pd.DataFrame, y_train: pd.DataFrame,\n",
    "          model_directory_path: str = \"resources\") -> None:\n",
    "    \"\"\"\n",
    "    Do your model training here.\n",
    "    At each retrain this function will have to save an updated version of\n",
    "    the model under the model_directiory_path, as in the example below.\n",
    "    Note: You can use other serialization methods than joblib.dump(), as\n",
    "    long as it matches what reads the model in infer().\n",
    "    \n",
    "    Args:\n",
    "        X_train, y_train: the data to train the model.\n",
    "        model_directory_path: the path to save your updated model\n",
    "    \n",
    "    Returns:\n",
    "        None\n",
    "    \"\"\"\n",
    "\n",
    "    # basic xgboost regressor\n",
    "    model = xgb.XGBRegressor(\n",
    "        objective='reg:squarederror',\n",
    "        max_depth=4,\n",
    "        learning_rate=0.1,\n",
    "        n_estimators=2,\n",
    "        n_jobs=-1,\n",
    "        colsample_bytree=0.05\n",
    "    )\n",
    "\n",
    "    # training the model\n",
    "    print(\"training...\")\n",
    "    model.fit(X_train.iloc[:,2:], y_train.iloc[:,2:])\n",
    "\n",
    "    # make sure that the train function correctly save the trained model\n",
    "    # in the model_directory_path\n",
    "    model_pathname = Path(model_directory_path) / \"model.joblib\"\n",
    "    print(f\"Saving model in {model_pathname}\")\n",
    "    joblib.dump(model, model_pathname)\n",
    "\n",
    "\n",
    "def infer(X_test: pd.DataFrame,\n",
    "          model_directory_path: str = \"resources\") -> pd.DataFrame:\n",
    "    \"\"\"\n",
    "    Do your inference here.\n",
    "    This function will load the model saved at the previous iteration and use\n",
    "    it to produce your inference on the current date.\n",
    "    It is mandatory to send your inferences with the ids so the system\n",
    "    can match it correctly.\n",
    "    \n",
    "    Args:\n",
    "        model_directory_path: the path to the directory to the directory in wich we will be saving your updated model.\n",
    "        X_test: the independant  variables of the current date passed to your model.\n",
    "\n",
    "    Returns:\n",
    "        A dataframe (date, id, value) with the inferences of your model for the current date.\n",
    "    \"\"\"\n",
    "\n",
    "    # loading the model saved by the train function at previous iteration\n",
    "    model = joblib.load(Path(model_directory_path) / \"model.joblib\")\n",
    "    \n",
    "    # creating the predicted label dataframe with correct dates and ids\n",
    "    y_test_predicted = X_test[[\"date\", \"id\"]].copy()\n",
    "    y_test_predicted[\"value\"] = model.predict(X_test.iloc[:, 2:])\n",
    "\n",
    "    return y_test_predicted"
   ]
  },
  {
   "cell_type": "markdown",
   "metadata": {
    "id": "LyStcF3dRY5O"
   },
   "source": [
    "\n",
    "\n",
    "---\n"
   ]
  },
  {
   "cell_type": "markdown",
   "metadata": {
    "id": "P7e3xWnpJrzb"
   },
   "source": [
    "# Testing your model locally\n",
    "\n",
    "This last part of the notebook is not necessary for the submission but only for you, to analyze your model."
   ]
  },
  {
   "cell_type": "code",
   "execution_count": null,
   "metadata": {
    "id": "mQSnWoL6KWD2",
    "tags": []
   },
   "outputs": [],
   "source": [
    "from scipy.stats import spearmanr"
   ]
  },
  {
   "cell_type": "code",
   "execution_count": null,
   "metadata": {
    "colab": {
     "base_uri": "https://localhost:8080/"
    },
    "id": "4INH-g0KBOKy",
    "outputId": "28cae60a-1a65-4c28-b85c-1aace653421c",
    "tags": []
   },
   "outputs": [],
   "source": [
    "# Getting the data\n",
    "X_train, y_train, X_test = crunch.load_data()"
   ]
  },
  {
   "cell_type": "markdown",
   "metadata": {
    "id": "0drhNihqL4lV"
   },
   "source": [
    "To have a preliminary assessment of our solution above we need to create train and test data:"
   ]
  },
  {
   "cell_type": "code",
   "execution_count": null,
   "metadata": {
    "tags": []
   },
   "outputs": [],
   "source": [
    "def temporal_train_test_split(X_train_loc, y_train_loc, test_size=0.2):\n",
    "    unique_dates = X_train_loc.date.unique()\n",
    "    split_date = unique_dates[int(len(unique_dates)*(1-test_size))]\n",
    "    X_train_local = X_train_loc[X_train_loc['date'] <= split_date]\n",
    "    X_test_local = X_train_loc[X_train_loc['date'] > split_date]\n",
    "    \n",
    "    y_train_local = y_train_loc[y_train_loc['date'] <= split_date]\n",
    "    y_test_local = y_train_loc[y_train_loc['date'] > split_date]\n",
    "    \n",
    "    return X_train_local, X_test_local, y_train_local, y_test_local"
   ]
  },
  {
   "cell_type": "code",
   "execution_count": null,
   "metadata": {
    "colab": {
     "base_uri": "https://localhost:8080/"
    },
    "id": "D1SlGcI0IKw-",
    "outputId": "07a8a23e-8069-430a-b372-1ffb9cfeb42d",
    "tags": []
   },
   "outputs": [],
   "source": [
    "print(\"Splitting (X_train, y_train) in X_train_local, X_test_local, y_train_local, y_test_local\")\n",
    "X_train_local, X_test_local, y_train_local, y_test_local = temporal_train_test_split(\n",
    "    X_train,\n",
    "    y_train,\n",
    "    test_size=0.2\n",
    ")"
   ]
  },
  {
   "cell_type": "code",
   "execution_count": null,
   "metadata": {
    "colab": {
     "base_uri": "https://localhost:8080/"
    },
    "id": "D1SlGcI0IKw-",
    "outputId": "07a8a23e-8069-430a-b372-1ffb9cfeb42d",
    "tags": []
   },
   "outputs": [],
   "source": [
    "# Training. It may require a few minutes.\n",
    "train(X_train_local, y_train_local)"
   ]
  },
  {
   "cell_type": "code",
   "execution_count": null,
   "metadata": {
    "colab": {
     "base_uri": "https://localhost:8080/"
    },
    "id": "g9KlcFddJ1nh",
    "outputId": "61b31c41-bcc7-48e1-b39d-f9650cc8628f"
   },
   "outputs": [],
   "source": [
    "print(\"Inference\")\n",
    "y_test_local_pred = infer(X_test_local, model_directory_path=\"resources\")\n",
    "score = spearmanr(y_test_local[\"y\"], y_test_local_pred[\"value\"])[0] * 100\n",
    "print(f\"Spearman's correlation {score}\")"
   ]
  },
  {
   "cell_type": "markdown",
   "metadata": {
    "id": "6XA4DXZtBOKz"
   },
   "source": [
    "# Testing your submission **locally**\n",
    "\n",
    "This function of the crunch package will run your code locally, in the same way in which the function is called in the cloud (ie: one date at a time). If it runs without problem, it is highly likely that there won't be problems when executing it on the CrunchDAO's system, on the cloud.\n",
    "\n",
    "You can setup the a retraining frequency as you which. A train frequency of 2 means that the system will retrain your model every two dates.\n",
    "\n",
    "`force_first_train=True` means that your model will be trained on the first date of the test set."
   ]
  },
  {
   "cell_type": "code",
   "execution_count": null,
   "metadata": {
    "id": "x-6qSxTNXJ5p"
   },
   "outputs": [],
   "source": [
    "print(\"Remove unused data to release memory\")\n",
    "del X_train, y_train, X_test, X_train_local, X_test_local, y_train_local, y_test_local"
   ]
  },
  {
   "cell_type": "code",
   "execution_count": null,
   "metadata": {
    "colab": {
     "base_uri": "https://localhost:8080/",
     "height": 1000
    },
    "id": "jio87DOxBOKz",
    "outputId": "d6c54785-a843-47d1-a8ae-9ce36fe66c09"
   },
   "outputs": [],
   "source": [
    "crunch.test(force_first_train=True, train_frequency=2)"
   ]
  },
  {
   "cell_type": "markdown",
   "metadata": {
    "id": "JcxaEabsZrXm"
   },
   "source": [
    "# Now remember to download and then submit this notebook to https://adialab.crunchdao.com/submit"
   ]
  }
 ],
 "metadata": {
  "colab": {
   "collapsed_sections": [
    "QIGffwE2wBsi",
    "fJqTMeLqwBsm",
    "nXacC2GmwBso",
    "SwxiUFGAwBsq"
   ],
   "provenance": []
  },
  "kernelspec": {
   "display_name": "Python 3 (ipykernel)",
   "language": "python",
   "name": "python3"
  },
  "language_info": {
   "codemirror_mode": {
    "name": "ipython",
    "version": 3
   },
   "file_extension": ".py",
   "mimetype": "text/x-python",
   "name": "python",
   "nbconvert_exporter": "python",
   "pygments_lexer": "ipython3",
   "version": "3.10.11"
  }
 },
 "nbformat": 4,
 "nbformat_minor": 4
}
