{
 "cells": [
  {
   "cell_type": "markdown",
   "id": "b926afe8-b8bd-46eb-9b02-d298d2f3c301",
   "metadata": {},
   "source": [
    "# Cross-Validation in Financial Machine Learning\n",
    "\n",
    "The purpose of this notebook is twofold:\n",
    "\n",
    "- Firstly, we outline the need for Time Series Cross Validation in the field of Financial Machine Learning.\n",
    "- Then, we test the sklego scikit-learn-compatible [GroupTimesSeriesSplit](https://scikit-lego.netlify.app/crossvalidation.html#GroupTimeSeriesSplit) on the ADIA Lab Market Prediction Competition dataset."
   ]
  },
  {
   "cell_type": "markdown",
   "id": "9b5e402f-53e9-4e97-9a74-277b47582ac6",
   "metadata": {},
   "source": [
    "## The need for Time Series Cross Validation in Financial Machine Learning \n",
    "\n",
    "Tabular time series cross-validation is a specialized technique used in machine learning and data analysis to evaluate the performance of predictive models on time series data organized in a tabular format. Unlike traditional cross-validation methods that randomly split the data into training and testing sets, tabular time series cross-validation takes into account the temporal ordering of the data. \n",
    "\n",
    "The importance of tabular time series cross-validation arises from the unique characteristics of time series data, where the order and timing of observations are crucial. In many real-world applications, such as finance, economics, and weather forecasting, the historical patterns and trends in the data play a significant role in making accurate predictions for the future. Traditional cross-validation methods may not be suitable for evaluating time series models as they can lead to data leakage and unrealistic performance estimates."
   ]
  },
  {
   "cell_type": "markdown",
   "id": "9d13b49e-3d7c-4e63-9d1e-40be2e22c0ab",
   "metadata": {},
   "source": [
    "## Cross Validation in the ADIA Lab Market Prediction Competition\n",
    "\n",
    "### Overview\n",
    "\n",
    "This notebook focuses on GroupTimeSeriesSplit from sklego one of the already existing module dealing with time series cross validation.\n",
    "\n",
    "GroupTimeSeriesSplit from sklego is a time series cross-validator that supports non-overlapping groups. Time series tasks in machine learning require special types of validation, because the time order of the objects is important for a fairer evaluation of an ML model’s quality.\n",
    "Also, there can be different time units for splitting the data for different tasks - hours, days, months, ...\n",
    "\n",
    "The onyl parameter that can me modified is *n_splits*, an integer which represents the number of splits. The calculation of the train and validation sets are done in such a way that the amount of observations per fold are as similar as possible. GroupTimeSeriesSplit from sklego only handles a rolling window.\n",
    "\n",
    "See the [full documentation](https://scikit-lego.netlify.app/crossvalidation.html#GroupTimeSeriesSplit) for more details."
   ]
  },
  {
   "cell_type": "markdown",
   "id": "af06480e-6c0d-473d-bfbc-552abec8e991",
   "metadata": {},
   "source": [
    "### Implementation\n",
    "\n",
    "Below, we should a Cross Validation quickstarted on the ADIA Lab Market Prediction Competition dataset. In this section, the goal is to explain how GroupTimeSeriesSplit works."
   ]
  },
  {
   "cell_type": "code",
   "execution_count": 1,
   "id": "fa5649f3-7ac9-4acc-9472-1ede92449d61",
   "metadata": {
    "tags": []
   },
   "outputs": [],
   "source": [
    "import pandas as pd \n",
    "import numpy as np\n",
    "import matplotlib.pyplot as plt\n",
    "import warnings\n",
    "warnings.filterwarnings(\"ignore\")\n",
    "\n",
    "from tqdm.notebook import tqdm\n",
    "tqdm.pandas()\n",
    "from sklego.model_selection import GroupTimeSeriesSplit\n",
    "from sklearn.linear_model import LinearRegression\n",
    "from scipy.stats import norm"
   ]
  },
  {
   "cell_type": "markdown",
   "id": "27cf45fe-ff18-4795-befc-3d956d846609",
   "metadata": {},
   "source": [
    "### Loading the data\n",
    "Let's take a look at the data. The data is from the first phase of ADIA Lab market prediction competition."
   ]
  },
  {
   "cell_type": "code",
   "execution_count": null,
   "id": "d204e9fd-168d-4c8d-b91d-f81ec4e30264",
   "metadata": {},
   "outputs": [],
   "source": [
    "!pip3 install crunch-cli --upgrade"
   ]
  },
  {
   "cell_type": "code",
   "execution_count": null,
   "id": "012b392f-ee43-4039-af6d-7966468505a1",
   "metadata": {},
   "outputs": [],
   "source": [
    "# import and instantiante the crunch package in this notebook\n",
    "import crunch\n",
    "crunch = crunch.load_notebook(__name__)"
   ]
  },
  {
   "cell_type": "code",
   "execution_count": null,
   "id": "89885090-ddd9-41d5-8dac-53fa4002cab4",
   "metadata": {},
   "outputs": [],
   "source": [
    "!crunch --notebook setup curly-cedric --token dNC6peKScPoVCTssI27DJ8zzRHpLtu7otHINZa0uv5T12MiYjvWcYAnNJ27XkkHI\n",
    "%cd curly-cedric"
   ]
  },
  {
   "cell_type": "code",
   "execution_count": null,
   "id": "07c46c05-782e-43f7-930d-d5ea96181c19",
   "metadata": {},
   "outputs": [],
   "source": [
    "# Getting the data\n",
    "X, y, _ = crunch.load_data()"
   ]
  },
  {
   "cell_type": "markdown",
   "id": "35e2bf7b-8bc4-4b7c-90e0-05d2c2114949",
   "metadata": {},
   "source": [
    "Let's merge X and y to have the complete dataset."
   ]
  },
  {
   "cell_type": "code",
   "execution_count": 3,
   "id": "61e74d61-7cbd-4c7c-9349-35e74b8bb10e",
   "metadata": {
    "tags": []
   },
   "outputs": [],
   "source": [
    "df = X.merge(y, on=['date', 'id'], how='inner')"
   ]
  },
  {
   "cell_type": "markdown",
   "id": "85881b64-e328-43f1-81a8-a5c323f62231",
   "metadata": {},
   "source": [
    "Let's say we want to split the data into four folds.\n",
    "\n",
    "The only parameter GroupTimeSeriesSplit expects is *n_splits* which controls the number of folds wanted for cross validation.\n",
    "\n",
    "Another important parameter to specify is called *groups*. This is the parameter on which GroupTimesSeriesSplit will perform the split. For the split to take place correctly, *groups* must correspond to the column in the dataframe used as time unit. For ADIA Lab dataset, *groups* will be the column *date*."
   ]
  },
  {
   "cell_type": "code",
   "execution_count": 4,
   "id": "837f09cd-a568-4b3d-8fa1-f460a13e3b73",
   "metadata": {
    "tags": []
   },
   "outputs": [
    {
     "data": {
      "application/vnd.jupyter.widget-view+json": {
       "model_id": "cc4498459ff4491880034497a7dd9ff1",
       "version_major": 2,
       "version_minor": 0
      },
      "text/plain": [
       "  0%|          | 0/4 [00:00<?, ?it/s]"
      ]
     },
     "metadata": {},
     "output_type": "display_data"
    }
   ],
   "source": [
    "CV = GroupTimeSeriesSplit(n_splits=4)\n",
    "\n",
    "features = df.columns.drop(['y'])\n",
    "target = ['date', 'id', 'y']\n",
    "\n",
    "groups = X['date'].to_numpy()\n",
    "\n",
    "for train_index, val_index in tqdm(CV.split(X, y, groups)):\n",
    "    train_set = df.iloc[train_index]\n",
    "    val_set = df.iloc[val_index]\n",
    "    X_train, y_train = train_set[features], train_set[target]\n",
    "    X_val, y_val = val_set[features], val_set[target]"
   ]
  },
  {
   "cell_type": "markdown",
   "id": "570ecf82-85f4-4afc-a8be-7ca9881b2978",
   "metadata": {},
   "source": [
    "For the sake of readability, we will only print the features of the 5th fold."
   ]
  },
  {
   "cell_type": "code",
   "execution_count": 5,
   "id": "1f3aaafa-89b1-4204-9132-70b317c8a091",
   "metadata": {
    "tags": []
   },
   "outputs": [
    {
     "data": {
      "text/html": [
       "<div>\n",
       "<style scoped>\n",
       "    .dataframe tbody tr th:only-of-type {\n",
       "        vertical-align: middle;\n",
       "    }\n",
       "\n",
       "    .dataframe tbody tr th {\n",
       "        vertical-align: top;\n",
       "    }\n",
       "\n",
       "    .dataframe thead th {\n",
       "        text-align: right;\n",
       "    }\n",
       "</style>\n",
       "<table border=\"1\" class=\"dataframe\">\n",
       "  <thead>\n",
       "    <tr style=\"text-align: right;\">\n",
       "      <th></th>\n",
       "      <th>date</th>\n",
       "      <th>id</th>\n",
       "      <th>0</th>\n",
       "      <th>1</th>\n",
       "      <th>2</th>\n",
       "      <th>3</th>\n",
       "      <th>4</th>\n",
       "      <th>5</th>\n",
       "      <th>6</th>\n",
       "      <th>7</th>\n",
       "      <th>...</th>\n",
       "      <th>451</th>\n",
       "      <th>452</th>\n",
       "      <th>453</th>\n",
       "      <th>454</th>\n",
       "      <th>455</th>\n",
       "      <th>456</th>\n",
       "      <th>457</th>\n",
       "      <th>458</th>\n",
       "      <th>459</th>\n",
       "      <th>460</th>\n",
       "    </tr>\n",
       "  </thead>\n",
       "  <tbody>\n",
       "    <tr>\n",
       "      <th>595406</th>\n",
       "      <td>230</td>\n",
       "      <td>0977f5a47ccac048220f6b034ba82c6507bd2c68d1f12e...</td>\n",
       "      <td>0.915736</td>\n",
       "      <td>-0.009873</td>\n",
       "      <td>0.227885</td>\n",
       "      <td>0.794135</td>\n",
       "      <td>1.398273</td>\n",
       "      <td>-0.522382</td>\n",
       "      <td>-0.446472</td>\n",
       "      <td>-0.002898</td>\n",
       "      <td>...</td>\n",
       "      <td>-2.202822</td>\n",
       "      <td>-1.440828</td>\n",
       "      <td>1.183228</td>\n",
       "      <td>1.823373</td>\n",
       "      <td>0.646298</td>\n",
       "      <td>-0.248723</td>\n",
       "      <td>0.601144</td>\n",
       "      <td>0.956986</td>\n",
       "      <td>-0.890538</td>\n",
       "      <td>0.810928</td>\n",
       "    </tr>\n",
       "    <tr>\n",
       "      <th>595407</th>\n",
       "      <td>230</td>\n",
       "      <td>34c2668acf702b2a14703c348bd26096114b1829fddbd2...</td>\n",
       "      <td>-0.057720</td>\n",
       "      <td>-0.783656</td>\n",
       "      <td>-0.290305</td>\n",
       "      <td>-0.740137</td>\n",
       "      <td>-0.941091</td>\n",
       "      <td>-0.299490</td>\n",
       "      <td>-1.190424</td>\n",
       "      <td>-1.086950</td>\n",
       "      <td>...</td>\n",
       "      <td>0.921004</td>\n",
       "      <td>-1.058998</td>\n",
       "      <td>0.317589</td>\n",
       "      <td>-0.146035</td>\n",
       "      <td>-0.277556</td>\n",
       "      <td>-1.151363</td>\n",
       "      <td>0.019373</td>\n",
       "      <td>0.142905</td>\n",
       "      <td>-1.511336</td>\n",
       "      <td>0.086593</td>\n",
       "    </tr>\n",
       "    <tr>\n",
       "      <th>595408</th>\n",
       "      <td>230</td>\n",
       "      <td>5ff27db43cd97e5b15af0e0647a89e8b5f8307a00ef334...</td>\n",
       "      <td>-0.488367</td>\n",
       "      <td>-0.410409</td>\n",
       "      <td>-0.850352</td>\n",
       "      <td>0.187171</td>\n",
       "      <td>-0.952577</td>\n",
       "      <td>0.194464</td>\n",
       "      <td>0.246688</td>\n",
       "      <td>0.758820</td>\n",
       "      <td>...</td>\n",
       "      <td>1.550771</td>\n",
       "      <td>-0.237884</td>\n",
       "      <td>-0.605789</td>\n",
       "      <td>1.193946</td>\n",
       "      <td>-0.452425</td>\n",
       "      <td>-0.234220</td>\n",
       "      <td>-0.177900</td>\n",
       "      <td>-0.535949</td>\n",
       "      <td>-0.977012</td>\n",
       "      <td>0.745278</td>\n",
       "    </tr>\n",
       "    <tr>\n",
       "      <th>595409</th>\n",
       "      <td>230</td>\n",
       "      <td>fadd62182f8ba0d77295e62043232792c66641a73afb64...</td>\n",
       "      <td>0.093536</td>\n",
       "      <td>-0.364950</td>\n",
       "      <td>0.831907</td>\n",
       "      <td>0.596220</td>\n",
       "      <td>1.584107</td>\n",
       "      <td>1.145510</td>\n",
       "      <td>-0.344829</td>\n",
       "      <td>-1.564130</td>\n",
       "      <td>...</td>\n",
       "      <td>1.143580</td>\n",
       "      <td>-0.108078</td>\n",
       "      <td>1.571716</td>\n",
       "      <td>0.905618</td>\n",
       "      <td>-0.526750</td>\n",
       "      <td>0.477192</td>\n",
       "      <td>0.632056</td>\n",
       "      <td>-0.078048</td>\n",
       "      <td>0.492667</td>\n",
       "      <td>-0.482480</td>\n",
       "    </tr>\n",
       "    <tr>\n",
       "      <th>595410</th>\n",
       "      <td>230</td>\n",
       "      <td>bbd324fe9ae9d15ce4ae38fe4d3088cf7f4b58df394af3...</td>\n",
       "      <td>-1.088501</td>\n",
       "      <td>1.188931</td>\n",
       "      <td>1.353126</td>\n",
       "      <td>-0.069721</td>\n",
       "      <td>0.646174</td>\n",
       "      <td>-0.330662</td>\n",
       "      <td>-0.413437</td>\n",
       "      <td>0.488905</td>\n",
       "      <td>...</td>\n",
       "      <td>-0.749659</td>\n",
       "      <td>-0.854367</td>\n",
       "      <td>1.434475</td>\n",
       "      <td>0.260351</td>\n",
       "      <td>-0.349109</td>\n",
       "      <td>-0.830712</td>\n",
       "      <td>0.187419</td>\n",
       "      <td>0.446949</td>\n",
       "      <td>-1.126225</td>\n",
       "      <td>1.590658</td>\n",
       "    </tr>\n",
       "  </tbody>\n",
       "</table>\n",
       "<p>5 rows × 463 columns</p>\n",
       "</div>"
      ],
      "text/plain": [
       "        date                                                 id         0  \\\n",
       "595406   230  0977f5a47ccac048220f6b034ba82c6507bd2c68d1f12e...  0.915736   \n",
       "595407   230  34c2668acf702b2a14703c348bd26096114b1829fddbd2... -0.057720   \n",
       "595408   230  5ff27db43cd97e5b15af0e0647a89e8b5f8307a00ef334... -0.488367   \n",
       "595409   230  fadd62182f8ba0d77295e62043232792c66641a73afb64...  0.093536   \n",
       "595410   230  bbd324fe9ae9d15ce4ae38fe4d3088cf7f4b58df394af3... -1.088501   \n",
       "\n",
       "               1         2         3         4         5         6         7  \\\n",
       "595406 -0.009873  0.227885  0.794135  1.398273 -0.522382 -0.446472 -0.002898   \n",
       "595407 -0.783656 -0.290305 -0.740137 -0.941091 -0.299490 -1.190424 -1.086950   \n",
       "595408 -0.410409 -0.850352  0.187171 -0.952577  0.194464  0.246688  0.758820   \n",
       "595409 -0.364950  0.831907  0.596220  1.584107  1.145510 -0.344829 -1.564130   \n",
       "595410  1.188931  1.353126 -0.069721  0.646174 -0.330662 -0.413437  0.488905   \n",
       "\n",
       "        ...       451       452       453       454       455       456  \\\n",
       "595406  ... -2.202822 -1.440828  1.183228  1.823373  0.646298 -0.248723   \n",
       "595407  ...  0.921004 -1.058998  0.317589 -0.146035 -0.277556 -1.151363   \n",
       "595408  ...  1.550771 -0.237884 -0.605789  1.193946 -0.452425 -0.234220   \n",
       "595409  ...  1.143580 -0.108078  1.571716  0.905618 -0.526750  0.477192   \n",
       "595410  ... -0.749659 -0.854367  1.434475  0.260351 -0.349109 -0.830712   \n",
       "\n",
       "             457       458       459       460  \n",
       "595406  0.601144  0.956986 -0.890538  0.810928  \n",
       "595407  0.019373  0.142905 -1.511336  0.086593  \n",
       "595408 -0.177900 -0.535949 -0.977012  0.745278  \n",
       "595409  0.632056 -0.078048  0.492667 -0.482480  \n",
       "595410  0.187419  0.446949 -1.126225  1.590658  \n",
       "\n",
       "[5 rows x 463 columns]"
      ]
     },
     "execution_count": 5,
     "metadata": {},
     "output_type": "execute_result"
    }
   ],
   "source": [
    "X_train.tail()"
   ]
  },
  {
   "cell_type": "code",
   "execution_count": 6,
   "id": "93a3bced-6e22-4714-96a0-4e498042ca33",
   "metadata": {
    "tags": []
   },
   "outputs": [
    {
     "data": {
      "text/html": [
       "<div>\n",
       "<style scoped>\n",
       "    .dataframe tbody tr th:only-of-type {\n",
       "        vertical-align: middle;\n",
       "    }\n",
       "\n",
       "    .dataframe tbody tr th {\n",
       "        vertical-align: top;\n",
       "    }\n",
       "\n",
       "    .dataframe thead th {\n",
       "        text-align: right;\n",
       "    }\n",
       "</style>\n",
       "<table border=\"1\" class=\"dataframe\">\n",
       "  <thead>\n",
       "    <tr style=\"text-align: right;\">\n",
       "      <th></th>\n",
       "      <th>date</th>\n",
       "      <th>id</th>\n",
       "      <th>0</th>\n",
       "      <th>1</th>\n",
       "      <th>2</th>\n",
       "      <th>3</th>\n",
       "      <th>4</th>\n",
       "      <th>5</th>\n",
       "      <th>6</th>\n",
       "      <th>7</th>\n",
       "      <th>...</th>\n",
       "      <th>451</th>\n",
       "      <th>452</th>\n",
       "      <th>453</th>\n",
       "      <th>454</th>\n",
       "      <th>455</th>\n",
       "      <th>456</th>\n",
       "      <th>457</th>\n",
       "      <th>458</th>\n",
       "      <th>459</th>\n",
       "      <th>460</th>\n",
       "    </tr>\n",
       "  </thead>\n",
       "  <tbody>\n",
       "    <tr>\n",
       "      <th>595411</th>\n",
       "      <td>231</td>\n",
       "      <td>a6809fee20392224e54b8450cd8b0e437d0cef77bd5da4...</td>\n",
       "      <td>-0.680147</td>\n",
       "      <td>1.260474</td>\n",
       "      <td>-0.453504</td>\n",
       "      <td>0.177937</td>\n",
       "      <td>-1.600160</td>\n",
       "      <td>1.314191</td>\n",
       "      <td>0.116122</td>\n",
       "      <td>-0.135393</td>\n",
       "      <td>...</td>\n",
       "      <td>0.540786</td>\n",
       "      <td>1.614841</td>\n",
       "      <td>-0.703755</td>\n",
       "      <td>0.745201</td>\n",
       "      <td>0.242272</td>\n",
       "      <td>-1.067609</td>\n",
       "      <td>-0.660520</td>\n",
       "      <td>-0.933815</td>\n",
       "      <td>-1.087864</td>\n",
       "      <td>0.375882</td>\n",
       "    </tr>\n",
       "    <tr>\n",
       "      <th>595412</th>\n",
       "      <td>231</td>\n",
       "      <td>c75e2ca85a6d30ba71523b686a82c117ba12c70da8348d...</td>\n",
       "      <td>0.424848</td>\n",
       "      <td>-2.181913</td>\n",
       "      <td>-1.124953</td>\n",
       "      <td>0.518796</td>\n",
       "      <td>-1.130703</td>\n",
       "      <td>-0.008386</td>\n",
       "      <td>1.129705</td>\n",
       "      <td>-0.214017</td>\n",
       "      <td>...</td>\n",
       "      <td>0.714138</td>\n",
       "      <td>2.942027</td>\n",
       "      <td>0.697394</td>\n",
       "      <td>-1.232427</td>\n",
       "      <td>-2.354766</td>\n",
       "      <td>-0.523435</td>\n",
       "      <td>0.136194</td>\n",
       "      <td>0.209052</td>\n",
       "      <td>0.073544</td>\n",
       "      <td>-0.355840</td>\n",
       "    </tr>\n",
       "    <tr>\n",
       "      <th>595413</th>\n",
       "      <td>231</td>\n",
       "      <td>a93992138e25bb217b65a99a5f651bdbc2ba26b0266cb2...</td>\n",
       "      <td>-0.254230</td>\n",
       "      <td>1.600029</td>\n",
       "      <td>-0.453175</td>\n",
       "      <td>-2.003238</td>\n",
       "      <td>0.256290</td>\n",
       "      <td>-0.426001</td>\n",
       "      <td>-0.175929</td>\n",
       "      <td>-0.820087</td>\n",
       "      <td>...</td>\n",
       "      <td>-0.935556</td>\n",
       "      <td>0.154621</td>\n",
       "      <td>-0.402665</td>\n",
       "      <td>-0.200069</td>\n",
       "      <td>0.028470</td>\n",
       "      <td>0.681284</td>\n",
       "      <td>0.096306</td>\n",
       "      <td>-1.471745</td>\n",
       "      <td>0.024057</td>\n",
       "      <td>1.164956</td>\n",
       "    </tr>\n",
       "    <tr>\n",
       "      <th>595414</th>\n",
       "      <td>231</td>\n",
       "      <td>583c4cce7934e652c01ca43600cdc54ae6695d1d71f342...</td>\n",
       "      <td>1.870631</td>\n",
       "      <td>1.084600</td>\n",
       "      <td>-0.445278</td>\n",
       "      <td>-0.949804</td>\n",
       "      <td>1.103963</td>\n",
       "      <td>-0.198156</td>\n",
       "      <td>-0.662312</td>\n",
       "      <td>-0.672722</td>\n",
       "      <td>...</td>\n",
       "      <td>1.150978</td>\n",
       "      <td>-1.040806</td>\n",
       "      <td>-1.171546</td>\n",
       "      <td>-0.387898</td>\n",
       "      <td>-0.142381</td>\n",
       "      <td>1.273763</td>\n",
       "      <td>0.107711</td>\n",
       "      <td>1.183794</td>\n",
       "      <td>-0.427609</td>\n",
       "      <td>-1.204504</td>\n",
       "    </tr>\n",
       "    <tr>\n",
       "      <th>595415</th>\n",
       "      <td>231</td>\n",
       "      <td>781f7c7897da7fb2db24b44a9735ab3dca227a9e49998b...</td>\n",
       "      <td>-0.135822</td>\n",
       "      <td>-1.043441</td>\n",
       "      <td>0.304029</td>\n",
       "      <td>0.609359</td>\n",
       "      <td>-0.325438</td>\n",
       "      <td>1.527977</td>\n",
       "      <td>-0.839068</td>\n",
       "      <td>0.931433</td>\n",
       "      <td>...</td>\n",
       "      <td>2.382727</td>\n",
       "      <td>0.855549</td>\n",
       "      <td>0.537741</td>\n",
       "      <td>1.068949</td>\n",
       "      <td>0.401399</td>\n",
       "      <td>-0.764428</td>\n",
       "      <td>1.069790</td>\n",
       "      <td>1.497228</td>\n",
       "      <td>-0.616554</td>\n",
       "      <td>-0.385112</td>\n",
       "    </tr>\n",
       "  </tbody>\n",
       "</table>\n",
       "<p>5 rows × 463 columns</p>\n",
       "</div>"
      ],
      "text/plain": [
       "        date                                                 id         0  \\\n",
       "595411   231  a6809fee20392224e54b8450cd8b0e437d0cef77bd5da4... -0.680147   \n",
       "595412   231  c75e2ca85a6d30ba71523b686a82c117ba12c70da8348d...  0.424848   \n",
       "595413   231  a93992138e25bb217b65a99a5f651bdbc2ba26b0266cb2... -0.254230   \n",
       "595414   231  583c4cce7934e652c01ca43600cdc54ae6695d1d71f342...  1.870631   \n",
       "595415   231  781f7c7897da7fb2db24b44a9735ab3dca227a9e49998b... -0.135822   \n",
       "\n",
       "               1         2         3         4         5         6         7  \\\n",
       "595411  1.260474 -0.453504  0.177937 -1.600160  1.314191  0.116122 -0.135393   \n",
       "595412 -2.181913 -1.124953  0.518796 -1.130703 -0.008386  1.129705 -0.214017   \n",
       "595413  1.600029 -0.453175 -2.003238  0.256290 -0.426001 -0.175929 -0.820087   \n",
       "595414  1.084600 -0.445278 -0.949804  1.103963 -0.198156 -0.662312 -0.672722   \n",
       "595415 -1.043441  0.304029  0.609359 -0.325438  1.527977 -0.839068  0.931433   \n",
       "\n",
       "        ...       451       452       453       454       455       456  \\\n",
       "595411  ...  0.540786  1.614841 -0.703755  0.745201  0.242272 -1.067609   \n",
       "595412  ...  0.714138  2.942027  0.697394 -1.232427 -2.354766 -0.523435   \n",
       "595413  ... -0.935556  0.154621 -0.402665 -0.200069  0.028470  0.681284   \n",
       "595414  ...  1.150978 -1.040806 -1.171546 -0.387898 -0.142381  1.273763   \n",
       "595415  ...  2.382727  0.855549  0.537741  1.068949  0.401399 -0.764428   \n",
       "\n",
       "             457       458       459       460  \n",
       "595411 -0.660520 -0.933815 -1.087864  0.375882  \n",
       "595412  0.136194  0.209052  0.073544 -0.355840  \n",
       "595413  0.096306 -1.471745  0.024057  1.164956  \n",
       "595414  0.107711  1.183794 -0.427609 -1.204504  \n",
       "595415  1.069790  1.497228 -0.616554 -0.385112  \n",
       "\n",
       "[5 rows x 463 columns]"
      ]
     },
     "execution_count": 6,
     "metadata": {},
     "output_type": "execute_result"
    }
   ],
   "source": [
    "X_val.head()"
   ]
  },
  {
   "cell_type": "code",
   "execution_count": 7,
   "id": "6c6e4309-c4b2-449f-95b5-2febe6c694f9",
   "metadata": {
    "tags": []
   },
   "outputs": [
    {
     "data": {
      "text/plain": [
       "array([187, 188, 189, 190, 191, 192, 193, 194, 195, 196, 197, 198, 199,\n",
       "       200, 201, 202, 203, 204, 205, 206, 207, 208, 209, 210, 211, 212,\n",
       "       213, 214, 215, 216, 217, 218, 219, 220, 221, 222, 223, 224, 225,\n",
       "       226, 227, 228, 229, 230])"
      ]
     },
     "execution_count": 7,
     "metadata": {},
     "output_type": "execute_result"
    }
   ],
   "source": [
    "X_train['date'].unique()"
   ]
  },
  {
   "cell_type": "code",
   "execution_count": 8,
   "id": "939082f1-ace5-4381-8b38-3d912d8de443",
   "metadata": {
    "tags": []
   },
   "outputs": [
    {
     "data": {
      "text/plain": [
       "array([231, 232, 233, 234, 235, 236, 237, 238, 239, 240, 241, 242, 243,\n",
       "       244, 245, 246, 247, 248, 249, 250, 251, 252, 253, 254, 255, 256,\n",
       "       257, 258, 259, 260, 261, 262, 263, 264, 265, 266, 267, 268])"
      ]
     },
     "execution_count": 8,
     "metadata": {},
     "output_type": "execute_result"
    }
   ],
   "source": [
    "X_val['date'].unique()"
   ]
  },
  {
   "cell_type": "markdown",
   "id": "d5ec27e4-e341-4148-90b7-02ca6e442730",
   "metadata": {},
   "source": [
    "We can see that the splitting is correctly done, indeed the training and the validation set do not overlap. However it is impossible to put an embargo with GroupTimeSeriesSPlit form sklego."
   ]
  },
  {
   "cell_type": "markdown",
   "id": "6578fe0a-4268-4992-978f-d6bb60185aeb",
   "metadata": {},
   "source": [
    "### Application of GroupTimeSeriesSplit in Supervised Learning\n",
    "\n",
    "In this section, we will use GroupTimeSeriesSplit to perform Cross Validation on the ADIA Lab Market Prediction Competition data.\n",
    "\n",
    "The model to generate the predictions is described as follows:\n",
    "- preprocessing: as we are using a linear model with an mse loss function, models benefit from data being identically distributed: data are cross-sectionally Gaussianised.\n",
    "- modeling: we perform a linear regression using scikit-learn for the training and the inference.\n",
    "\n",
    "The performance of our model will nevertheless be assessed using the spearman rank correlation."
   ]
  },
  {
   "cell_type": "markdown",
   "id": "943193b4-057f-419a-96fa-27c5f91bd617",
   "metadata": {},
   "source": [
    "#### Preprocessing step"
   ]
  },
  {
   "cell_type": "code",
   "execution_count": 9,
   "id": "97cd7631-413b-4d5b-8dec-e6fd27aa82a7",
   "metadata": {
    "tags": []
   },
   "outputs": [],
   "source": [
    "def gaussianise_df(x):\n",
    "    nstocks = x.shape[0]\n",
    "    x0 = np.linspace(-3, 3, nstocks)\n",
    "    cdf_vector = norm.cdf(x0)\n",
    "    xx = np.linspace(cdf_vector[0], cdf_vector[-1], nstocks)\n",
    "    gx = norm.ppf(xx)\n",
    "    gauss_xc = np.empty_like(gx)\n",
    "    for c in x.columns[2:]:\n",
    "        indices = np.argsort(x[c].values)\n",
    "        gauss_xc[indices] = gx\n",
    "        x[c] = gauss_xc\n",
    "    return x"
   ]
  },
  {
   "cell_type": "code",
   "execution_count": 10,
   "id": "23099325-5257-4175-bcdb-c5d12bef885a",
   "metadata": {
    "tags": []
   },
   "outputs": [
    {
     "data": {
      "application/vnd.jupyter.widget-view+json": {
       "model_id": "45cef4fb5f4f4ce98089e025c6cd7a52",
       "version_major": 2,
       "version_minor": 0
      },
      "text/plain": [
       "  0%|          | 0/269 [00:00<?, ?it/s]"
      ]
     },
     "metadata": {},
     "output_type": "display_data"
    }
   ],
   "source": [
    "gauss_df = df.groupby('date', group_keys=False).progress_apply(lambda x: gaussianise_df(x))"
   ]
  },
  {
   "cell_type": "markdown",
   "id": "ed7d7177-4084-4de4-ba12-f9ae1aa9dc0d",
   "metadata": {},
   "source": [
    "Let's compare the data before and after the transformation. The choice of the plotted features is purely random."
   ]
  },
  {
   "cell_type": "code",
   "execution_count": 11,
   "id": "1ec78d6e-28a7-447f-99d5-952c1375c425",
   "metadata": {
    "tags": []
   },
   "outputs": [
    {
     "data": {
      "image/png": "[encoded data removed]",
      "text/plain": [
       "<Figure size 1400x1200 with 6 Axes>"
      ]
     },
     "metadata": {},
     "output_type": "display_data"
    }
   ],
   "source": [
    "fig = plt.figure(figsize=(14,12))\n",
    "ax1 = fig.add_subplot(321)\n",
    "ax2 = fig.add_subplot(322)\n",
    "ax3 = fig.add_subplot(323)\n",
    "ax4 = fig.add_subplot(324)\n",
    "ax5 = fig.add_subplot(325)\n",
    "ax6 = fig.add_subplot(326)\n",
    "\n",
    "df['55'].plot(kind='hist', bins=100, ax=ax1, title='feature 55')\n",
    "gauss_df['55'].plot(kind='hist', bins=100, ax=ax2, title='Gaussian feature 55')\n",
    "df['400'].plot(kind='hist', bins=100, ax=ax3, title='feature 400')\n",
    "gauss_df['400'].plot(kind='hist', bins=100, ax=ax4, title='Gaussian feature 400')\n",
    "df['y'].plot(kind='hist', bins=100, ax=ax5, title='target')\n",
    "gauss_df['y'].plot(kind='hist', bins=100, ax=ax6, title='Gaussian target')\n",
    "\n",
    "fig.show()"
   ]
  },
  {
   "cell_type": "markdown",
   "id": "abdd2024-68ee-47c7-80bd-b582e5d27970",
   "metadata": {},
   "source": [
    "#### Prediction step\n",
    "The following function takes as an input the predictions of the target, the actual target, val_refs which contains the *date* and *id* columns of the validation sets. It returns the spearman rank correlation for each date."
   ]
  },
  {
   "cell_type": "code",
   "execution_count": 12,
   "id": "4f8ae5df-a754-4b6c-8fe7-d3316b6bc8e5",
   "metadata": {
    "tags": []
   },
   "outputs": [],
   "source": [
    "def get_spearman_results(preds, y_test, val_refs):\n",
    "    preds.rename({f'{target}':f'pred_{target}' for target in preds.columns}, axis=1, inplace=True)\n",
    "    preds_ref = pd.concat([preds.reset_index(drop=True), val_refs.reset_index(drop=True), y_test.reset_index(drop=True)], axis=1)\n",
    "    spearman = pd.DataFrame()\n",
    "    \n",
    "    target_suffixes = [col.split('_')[-1] for col in preds_ref.columns if 'pred' in col]\n",
    "    for suffix in target_suffixes:\n",
    "        spearman[f'target_{suffix}'] = preds_ref.groupby('date')[[f'pred_{suffix}', f'{suffix}']].corr(method='spearman').unstack().iloc[:,1]\n",
    "\n",
    "    return spearman"
   ]
  },
  {
   "cell_type": "markdown",
   "id": "4dc038dc-0f2d-4f33-b3c0-30e741a5c36f",
   "metadata": {},
   "source": [
    "The following function defines the linear model that we use to predict the target. It takes as input X_train, y_train, X_val, y_val, val_refs and the target. It returns the average spearman rank correlation over the validation set."
   ]
  },
  {
   "cell_type": "code",
   "execution_count": 13,
   "id": "3cda54c3-8fdf-4577-9995-a001ff7579d1",
   "metadata": {
    "tags": []
   },
   "outputs": [],
   "source": [
    "def linear_model(X_train, y_train, X_val, y_val, val_refs, target):\n",
    "    model = LinearRegression(n_jobs=10, positive=False)\n",
    "    model.fit(X_train, y_train[target])\n",
    "    importance = model.coef_\n",
    "    preds = pd.DataFrame(model.predict(X_val), columns=[target])\n",
    "    spearman_results = get_spearman_results(preds, y_val, val_refs)\n",
    "\n",
    "    return spearman_results.mean().values"
   ]
  },
  {
   "cell_type": "markdown",
   "id": "569a2625-7dff-44bc-9341-66124c1af091",
   "metadata": {},
   "source": [
    "The following function sets up the cross validation. It takes as input the arguments of GroupTimeSeriesSplit, the dataset, the features and the target. It returns the spearman rank correlation for each fold."
   ]
  },
  {
   "cell_type": "code",
   "execution_count": 14,
   "id": "9b151a71-fc20-4640-a1b0-9b8f19c06ae8",
   "metadata": {
    "tags": []
   },
   "outputs": [],
   "source": [
    "def cross_validation(n_splits, df, features, target):\n",
    "    val_score = []\n",
    "    CV = GroupTimeSeriesSplit(n_splits=n_splits)\n",
    "    refs = df.iloc[:, :2]\n",
    "    X = df[features]\n",
    "    y = df[target]\n",
    "    X = pd.concat([refs, X], axis=1)\n",
    "    y = pd.concat([refs, y], axis=1)\n",
    "    \n",
    "    # creating the folds\n",
    "    for train_index, val_index in tqdm(CV.split(X, y, groups)):\n",
    "        train_set = df.iloc[train_index]\n",
    "        val_set = df.iloc[val_index]\n",
    "        X_train, y_train = train_set[features], train_set[target]\n",
    "        X_val, y_val = val_set[features], val_set[target]\n",
    "        val_refs = val_set.iloc[:, :2]\n",
    "        \n",
    "    # training and validation steps\n",
    "        spearman_score = linear_model(X_train, y_train, X_val, y_val, val_refs, 'y')\n",
    "        val_score.append(spearman_score*100)\n",
    "    return val_score"
   ]
  },
  {
   "cell_type": "markdown",
   "id": "a2136307-5ca1-4285-a209-85928bba1d6f",
   "metadata": {},
   "source": [
    "We are going to run the cross validation with 4 splits."
   ]
  },
  {
   "cell_type": "code",
   "execution_count": 15,
   "id": "79bbcf93-fe8e-4d7d-a1be-bc7e7a0d18ae",
   "metadata": {
    "tags": []
   },
   "outputs": [
    {
     "data": {
      "application/vnd.jupyter.widget-view+json": {
       "model_id": "1b7669aecf7842d8815422bfff83f92f",
       "version_major": 2,
       "version_minor": 0
      },
      "text/plain": [
       "  0%|          | 0/4 [00:00<?, ?it/s]"
      ]
     },
     "metadata": {},
     "output_type": "display_data"
    }
   ],
   "source": [
    "n_split = 4\n",
    "features = gauss_df.columns.drop(['id', 'date', 'y'])\n",
    "target = ['y']\n",
    "\n",
    "gauss_val_score = cross_validation(n_split, gauss_df, features, target)"
   ]
  },
  {
   "cell_type": "code",
   "execution_count": 16,
   "id": "735924bf-a4ab-48c7-9520-7b11b84189bf",
   "metadata": {
    "tags": []
   },
   "outputs": [
    {
     "data": {
      "image/png": "[encoded data removed]",
      "text/plain": [
       "<Figure size 640x480 with 1 Axes>"
      ]
     },
     "metadata": {},
     "output_type": "display_data"
    }
   ],
   "source": [
    "fig = plt.figure()\n",
    "ax = fig.add_subplot(111)\n",
    "\n",
    "n_split = len(gauss_val_score)\n",
    "x = [i for i in range(1, n_split+1)]\n",
    "xticks = ['Fold {}'.format(i) for i in range(1, n_split+1)]\n",
    "ax.plot(x, gauss_val_score, '-o')\n",
    "ax.set_xticks(x, xticks)\n",
    "ax.set_title('Spearman rank correlation (%) for each fold')\n",
    "ax.set_ylabel('Spearman rank correlation (%)')\n",
    "fig.show()"
   ]
  },
  {
   "cell_type": "code",
   "execution_count": 17,
   "id": "13fe169b-57c3-4168-9639-79dfab87effe",
   "metadata": {
    "tags": []
   },
   "outputs": [
    {
     "name": "stdout",
     "output_type": "stream",
     "text": [
      "The spearman rank correlation mean over the folds is equal to 3.41\n"
     ]
    }
   ],
   "source": [
    "print(\"The spearman rank correlation mean over the folds is equal to {:.2f}\".format(np.mean(gauss_val_score)))"
   ]
  },
  {
   "cell_type": "markdown",
   "id": "26d2d7e6-4ee0-4724-b241-56136f8bb5dd",
   "metadata": {},
   "source": [
    "The obtained results are quite good for such a simple model that does not take into account non-linearities."
   ]
  },
  {
   "cell_type": "markdown",
   "id": "dcf90aa4-48c0-4fe5-ab48-65bf59194b08",
   "metadata": {},
   "source": [
    "## Conclusion\n",
    "\n",
    "The purpose of this notebook is to demonstrate the need for a time series cross validator in Financial Machine Learning and to show how to apply it via an already existing library: GroupTimeSeriesSplit.\n",
    "\n",
    "Even if GroupTimeSeriesSplit from sklego is an interesting module allowing its user to perform cross validation in a rolling window fashion, it possesses several flaws :\n",
    "- The cross validation methodology is limited to a rolling window. It would be interesting to add an expanding window setting.\n",
    "- The performance of the module needs to be improved. The splits are correctly made, but it takes a long time to create them.\n",
    "- Some parameters are missing from the module. It would be interesting to be able to control the size of the test size and to be able to set an embargo [1] between the train and the validation set. "
   ]
  },
  {
   "cell_type": "markdown",
   "id": "104a052b-30a0-450e-aba6-d9ab4406d987",
   "metadata": {},
   "source": [
    "## References\n",
    "\n",
    "[1] López de Prado, Marcos. Advances in Financial Machine Learning. Wiley, 2018.\n",
    "\n",
    "[2] Cross Validation — scikit-lego latest documentation. https://scikit-lego.netlify.app/crossvalidation.html#GroupTimeSeriesSplit. Last visited, 18th july 2023."
   ]
  }
 ],
 "metadata": {
  "kernelspec": {
   "display_name": "Python 3 (ipykernel)",
   "language": "python",
   "name": "python3"
  },
  "language_info": {
   "codemirror_mode": {
    "name": "ipython",
    "version": 3
   },
   "file_extension": ".py",
   "mimetype": "text/x-python",
   "name": "python",
   "nbconvert_exporter": "python",
   "pygments_lexer": "ipython3",
   "version": "3.10.11"
  }
 },
 "nbformat": 4,
 "nbformat_minor": 5
}
