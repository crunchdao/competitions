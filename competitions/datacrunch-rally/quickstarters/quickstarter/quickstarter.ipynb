{
 "cells": [
  {
   "cell_type": "markdown",
   "metadata": {},
   "source": [
    "![Cover](https://raw.githubusercontent.com/crunchdao/quickstarters/refs/heads/master/competitions/datacrunch-rally/cover.jpeg)"
   ]
  },
  {
   "cell_type": "markdown",
   "metadata": {},
   "source": [
    "# Abstract\n",
    "\n",
    "This notebook is a quickstarter for DataCrunching. It is a collection of code snippets and explanations to get you started with the DataCrunch code competition. It should give you a good starting point to understand how to work with the Crunch Foundation infrastructure.\n",
    "\n",
    "It shows how to load the data, how to create a submission file and how to submit it.\n",
    "\n",
    "The main goal of this notebook is to show how to make use of the function `crunch.alpha_score()` through the API in the context of your Machine Learning modeling. This function is used to calculate the scores of a prediction dataframe. It returns the score as calculated by the Crunch Foundation, with the un-obfuscated target and the same prediction transformations.\n",
    "\n",
    "The cumulative product of this metric has an 84% correlation with the DataCrunch fund performance. This is to be compared with the 60% correlation of the spearman metric: it is reasonable to anticipate, [ceteris paribus](https://en.wikipedia.org/wiki/Ceteris_paribus), a 40% increase in the post-execution performance of the DataCrunch competition! We therefore believe this is a major step towards a more realistic and fair evaluation of the performance of the participants.\n",
    "\n",
    "The scores on the leaderboard will be computed using the exact same prediction transformations and un-obfuscated target; this makes it possible for you to cross-validate your models against the actual scoring function and obtain reasonable expectations about your Out-of-Sample performance, defined by the scoring metric."
   ]
  },
  {
   "cell_type": "markdown",
   "metadata": {},
   "source": [
    "# Environment setup"
   ]
  },
  {
   "cell_type": "markdown",
   "metadata": {},
   "source": [
    "Get your environment setup command on the following link: http://hub.crunchdao.com/competitions/datacrunch-rally/submit"
   ]
  },
  {
   "cell_type": "code",
   "execution_count": 12,
   "metadata": {},
   "outputs": [
    {
     "name": "stdout",
     "output_type": "stream",
     "text": [
      "Requirement already satisfied: crunch-cli in /opt/conda/lib/python3.10/site-packages (3.1.1)\n",
      "Requirement already satisfied: click in /opt/conda/lib/python3.10/site-packages (from crunch-cli) (8.1.1)\n",
      "Requirement already satisfied: coloredlogs in /opt/conda/lib/python3.10/site-packages (from crunch-cli) (15.0.1)\n",
      "Requirement already satisfied: dataclasses-json in /opt/conda/lib/python3.10/site-packages (from crunch-cli) (0.6.4)\n",
      "Requirement already satisfied: gitignorefile in /opt/conda/lib/python3.10/site-packages (from crunch-cli) (1.1.2)\n",
      "Requirement already satisfied: humanfriendly in /opt/conda/lib/python3.10/site-packages (from crunch-cli) (10.0)\n",
      "Requirement already satisfied: inflection in /opt/conda/lib/python3.10/site-packages (from crunch-cli) (0.5.1)\n",
      "Requirement already satisfied: inquirer in /opt/conda/lib/python3.10/site-packages (from crunch-cli) (3.2.4)\n",
      "Requirement already satisfied: joblib in /opt/conda/lib/python3.10/site-packages (from crunch-cli) (1.2.0)\n",
      "Requirement already satisfied: packaging in /opt/conda/lib/python3.10/site-packages (from crunch-cli) (23.1)\n",
      "Requirement already satisfied: pandas in /opt/conda/lib/python3.10/site-packages (from crunch-cli) (1.5.3)\n",
      "Requirement already satisfied: psutil in /opt/conda/lib/python3.10/site-packages (from crunch-cli) (5.9.5)\n",
      "Requirement already satisfied: pyarrow in /opt/conda/lib/python3.10/site-packages (from crunch-cli) (11.0.0)\n",
      "Requirement already satisfied: pytest in /opt/conda/lib/python3.10/site-packages (from crunch-cli) (7.2.2)\n",
      "Requirement already satisfied: python-dotenv in /opt/conda/lib/python3.10/site-packages (from crunch-cli) (0.21.1)\n",
      "Requirement already satisfied: requests in /opt/conda/lib/python3.10/site-packages (from crunch-cli) (2.31.0)\n",
      "Requirement already satisfied: requirements-parser in /opt/conda/lib/python3.10/site-packages (from crunch-cli) (0.5.0)\n",
      "Requirement already satisfied: scikit-learn in /opt/conda/lib/python3.10/site-packages (from crunch-cli) (1.1.3)\n",
      "Requirement already satisfied: scipy in /opt/conda/lib/python3.10/site-packages (from crunch-cli) (1.10.1)\n",
      "Requirement already satisfied: tqdm in /opt/conda/lib/python3.10/site-packages (from crunch-cli) (4.64.1)\n",
      "Requirement already satisfied: marshmallow<4.0.0,>=3.18.0 in /opt/conda/lib/python3.10/site-packages (from dataclasses-json->crunch-cli) (3.21.1)\n",
      "Requirement already satisfied: typing-inspect<1,>=0.4.0 in /opt/conda/lib/python3.10/site-packages (from dataclasses-json->crunch-cli) (0.9.0)\n",
      "Requirement already satisfied: blessed>=1.19.0 in /opt/conda/lib/python3.10/site-packages (from inquirer->crunch-cli) (1.20.0)\n",
      "Requirement already satisfied: editor>=1.6.0 in /opt/conda/lib/python3.10/site-packages (from inquirer->crunch-cli) (1.6.6)\n",
      "Requirement already satisfied: readchar>=3.0.6 in /opt/conda/lib/python3.10/site-packages (from inquirer->crunch-cli) (4.0.6)\n",
      "Requirement already satisfied: python-dateutil>=2.8.1 in /opt/conda/lib/python3.10/site-packages (from pandas->crunch-cli) (2.8.2)\n",
      "Requirement already satisfied: pytz>=2020.1 in /opt/conda/lib/python3.10/site-packages (from pandas->crunch-cli) (2023.3)\n",
      "Requirement already satisfied: numpy>=1.21.0 in /opt/conda/lib/python3.10/site-packages (from pandas->crunch-cli) (1.24.3)\n",
      "Requirement already satisfied: attrs>=19.2.0 in /opt/conda/lib/python3.10/site-packages (from pytest->crunch-cli) (23.1.0)\n",
      "Requirement already satisfied: iniconfig in /opt/conda/lib/python3.10/site-packages (from pytest->crunch-cli) (2.0.0)\n",
      "Requirement already satisfied: pluggy<2.0,>=0.12 in /opt/conda/lib/python3.10/site-packages (from pytest->crunch-cli) (1.0.0)\n",
      "Requirement already satisfied: exceptiongroup>=1.0.0rc8 in /opt/conda/lib/python3.10/site-packages (from pytest->crunch-cli) (1.2.0)\n",
      "Requirement already satisfied: tomli>=1.0.0 in /opt/conda/lib/python3.10/site-packages (from pytest->crunch-cli) (2.0.1)\n",
      "Requirement already satisfied: charset-normalizer<4,>=2 in /opt/conda/lib/python3.10/site-packages (from requests->crunch-cli) (3.1.0)\n",
      "Requirement already satisfied: idna<4,>=2.5 in /opt/conda/lib/python3.10/site-packages (from requests->crunch-cli) (3.4)\n",
      "Requirement already satisfied: urllib3<3,>=1.21.1 in /opt/conda/lib/python3.10/site-packages (from requests->crunch-cli) (2.0.2)\n",
      "Requirement already satisfied: certifi>=2017.4.17 in /opt/conda/lib/python3.10/site-packages (from requests->crunch-cli) (2023.5.7)\n",
      "Requirement already satisfied: types-setuptools>=57.0.0 in /opt/conda/lib/python3.10/site-packages (from requirements-parser->crunch-cli) (69.1.0.20240302)\n",
      "Requirement already satisfied: threadpoolctl>=2.0.0 in /opt/conda/lib/python3.10/site-packages (from scikit-learn->crunch-cli) (3.1.0)\n",
      "Requirement already satisfied: wcwidth>=0.1.4 in /opt/conda/lib/python3.10/site-packages (from blessed>=1.19.0->inquirer->crunch-cli) (0.2.6)\n",
      "Requirement already satisfied: six>=1.9.0 in /opt/conda/lib/python3.10/site-packages (from blessed>=1.19.0->inquirer->crunch-cli) (1.16.0)\n",
      "Requirement already satisfied: runs in /opt/conda/lib/python3.10/site-packages (from editor>=1.6.0->inquirer->crunch-cli) (1.2.2)\n",
      "Requirement already satisfied: xmod in /opt/conda/lib/python3.10/site-packages (from editor>=1.6.0->inquirer->crunch-cli) (1.8.1)\n",
      "Requirement already satisfied: setuptools>=41.0 in /opt/conda/lib/python3.10/site-packages (from readchar>=3.0.6->inquirer->crunch-cli) (67.7.2)\n",
      "Requirement already satisfied: mypy-extensions>=0.3.0 in /opt/conda/lib/python3.10/site-packages (from typing-inspect<1,>=0.4.0->dataclasses-json->crunch-cli) (1.0.0)\n",
      "Requirement already satisfied: typing-extensions>=3.7.4 in /opt/conda/lib/python3.10/site-packages (from typing-inspect<1,>=0.4.0->dataclasses-json->crunch-cli) (4.6.2)\n",
      "\n",
      "\u001b[1m[\u001b[0m\u001b[34;49mnotice\u001b[0m\u001b[1;39;49m]\u001b[0m\u001b[39;49m A new release of pip is available: \u001b[0m\u001b[31;49m23.3.2\u001b[0m\u001b[39;49m -> \u001b[0m\u001b[32;49m24.0\u001b[0m\n",
      "\u001b[1m[\u001b[0m\u001b[34;49mnotice\u001b[0m\u001b[1;39;49m]\u001b[0m\u001b[39;49m To update, run: \u001b[0m\u001b[32;49mpip install --upgrade pip\u001b[0m\n",
      "Note: you may need to restart the kernel to use updated packages.\n",
      "\n",
      "---\n",
      "Your token seems to have expired or is invalid.\n",
      "\n",
      "Please follow this link to copy and paste your new setup command:\n",
      "https://hub.crunchdao.com/competitions/datacrunch-rally/submit\n",
      "\n",
      "If you think that is an error, please contact an administrator.\n"
     ]
    }
   ],
   "source": [
    "# Install\n",
    "%pip install crunch-cli --upgrade\n",
    "!crunch setup datacrunch-rally . --token p7dZYGZd8RsdYW0JMU6vjxPSPFQggzfRW6vWCb3kc47vFvzK7fpRXe --force # <- replace with your token: https://hub.crunchdao.com/competitions/datacrunch-rally/submit/via/notebook"
   ]
  },
  {
   "cell_type": "markdown",
   "metadata": {},
   "source": [
    "# Import"
   ]
  },
  {
   "cell_type": "markdown",
   "metadata": {},
   "source": [
    "**IMPORTANT**: For each library import, in order to avoid any issue related to the library version, it is strongly recommended to specify the version of the library you are using. This to ensure that the notebook will be reproducible in the Crunch Foundation environment without any undesirable modification to the behavior of your code.\n",
    "\n",
    "If you submit through the cli, fill the `requirements.txt` with the libraries used and their respective versions."
   ]
  },
  {
   "cell_type": "code",
   "execution_count": 13,
   "metadata": {},
   "outputs": [
    {
     "name": "stdout",
     "output_type": "stream",
     "text": [
      "Requirement already satisfied: readwrite in /opt/conda/lib/python3.10/site-packages (0.5.0)\n",
      "Requirement already satisfied: click in /opt/conda/lib/python3.10/site-packages (from readwrite) (8.1.1)\n",
      "Requirement already satisfied: pandas in /opt/conda/lib/python3.10/site-packages (from readwrite) (1.5.3)\n",
      "Requirement already satisfied: pytest in /opt/conda/lib/python3.10/site-packages (from readwrite) (7.2.2)\n",
      "Requirement already satisfied: pyarrow in /opt/conda/lib/python3.10/site-packages (from readwrite) (11.0.0)\n",
      "Requirement already satisfied: tqdm in /opt/conda/lib/python3.10/site-packages (from readwrite) (4.64.1)\n",
      "Requirement already satisfied: pyyaml in /opt/conda/lib/python3.10/site-packages (from readwrite) (6.0)\n",
      "Requirement already satisfied: toml in /opt/conda/lib/python3.10/site-packages (from readwrite) (0.10.2)\n",
      "Requirement already satisfied: openpyxl in /opt/conda/lib/python3.10/site-packages (from readwrite) (3.1.2)\n",
      "Requirement already satisfied: et-xmlfile in /opt/conda/lib/python3.10/site-packages (from openpyxl->readwrite) (1.1.0)\n",
      "Requirement already satisfied: python-dateutil>=2.8.1 in /opt/conda/lib/python3.10/site-packages (from pandas->readwrite) (2.8.2)\n",
      "Requirement already satisfied: pytz>=2020.1 in /opt/conda/lib/python3.10/site-packages (from pandas->readwrite) (2023.3)\n",
      "Requirement already satisfied: numpy>=1.21.0 in /opt/conda/lib/python3.10/site-packages (from pandas->readwrite) (1.24.3)\n",
      "Requirement already satisfied: attrs>=19.2.0 in /opt/conda/lib/python3.10/site-packages (from pytest->readwrite) (23.1.0)\n",
      "Requirement already satisfied: iniconfig in /opt/conda/lib/python3.10/site-packages (from pytest->readwrite) (2.0.0)\n",
      "Requirement already satisfied: packaging in /opt/conda/lib/python3.10/site-packages (from pytest->readwrite) (23.1)\n",
      "Requirement already satisfied: pluggy<2.0,>=0.12 in /opt/conda/lib/python3.10/site-packages (from pytest->readwrite) (1.0.0)\n",
      "Requirement already satisfied: exceptiongroup>=1.0.0rc8 in /opt/conda/lib/python3.10/site-packages (from pytest->readwrite) (1.2.0)\n",
      "Requirement already satisfied: tomli>=1.0.0 in /opt/conda/lib/python3.10/site-packages (from pytest->readwrite) (2.0.1)\n",
      "Requirement already satisfied: six>=1.5 in /opt/conda/lib/python3.10/site-packages (from python-dateutil>=2.8.1->pandas->readwrite) (1.16.0)\n",
      "\n",
      "\u001b[1m[\u001b[0m\u001b[34;49mnotice\u001b[0m\u001b[1;39;49m]\u001b[0m\u001b[39;49m A new release of pip is available: \u001b[0m\u001b[31;49m23.3.2\u001b[0m\u001b[39;49m -> \u001b[0m\u001b[32;49m24.0\u001b[0m\n",
      "\u001b[1m[\u001b[0m\u001b[34;49mnotice\u001b[0m\u001b[1;39;49m]\u001b[0m\u001b[39;49m To update, run: \u001b[0m\u001b[32;49mpip install --upgrade pip\u001b[0m\n",
      "Note: you may need to restart the kernel to use updated packages.\n"
     ]
    }
   ],
   "source": [
    "# Install the necessary packages\n",
    "%pip install readwrite\n",
    "#%pip install [package_name]"
   ]
  },
  {
   "cell_type": "code",
   "execution_count": 14,
   "metadata": {},
   "outputs": [],
   "source": [
    "# Imports\n",
    "import os\n",
    "\n",
    "# Specify the library version with the `==` operator. Follow the examples below for any other library added.\n",
    "# You can get the version of the library you are using by running the command `!pip show <library_name>`, or '!pip freeze | grep <library_name>'.\n",
    "# If you submit a .py file, you can add the library version to the requirements.txt file.\n",
    "import joblib # == 1.3.2\n",
    "import pandas as pd # == 2.1.0\n",
    "import numpy as np # == 1.24.3\n",
    "import xgboost as xgb # == 2.0.0\n",
    "import crunch # == 3.0.0\n",
    "import readwrite as rw # == 0.5.1\n",
    "from tqdm import tqdm # == 4.64.1\n",
    "import matplotlib.pyplot as plt # == 3.6.3"
   ]
  },
  {
   "cell_type": "markdown",
   "metadata": {},
   "source": [
    "# Get the data"
   ]
  },
  {
   "cell_type": "code",
   "execution_count": 15,
   "metadata": {},
   "outputs": [
    {
     "name": "stdout",
     "output_type": "stream",
     "text": [
      "loaded inline runner with module: <module '__main__'>\n",
      "download data/X_train.parquet from https://crunchdao--competition--production.s3.eu-west-1.amazonaws.com/data-releases/33/X_train.parquet (88467892 bytes)\n",
      "already exists: file length match\n",
      "download data/y_train.parquet from https://crunchdao--competition--production.s3.eu-west-1.amazonaws.com/data-releases/33/y_train.parquet (3120772 bytes)\n",
      "already exists: file length match\n",
      "download data/X_test.parquet from https://crunchdao--competition--production.s3.eu-west-1.amazonaws.com/data-releases/33/X_test_reduced.parquet (2353754 bytes)\n",
      "already exists: file length match\n",
      "download data/y_test.parquet from https://crunchdao--competition--production.s3.eu-west-1.amazonaws.com/data-releases/33/y_test_reduced.parquet (77379 bytes)\n",
      "already exists: file length match\n",
      "download data/example_prediction.parquet from https://crunchdao--competition--production.s3.eu-west-1.amazonaws.com/data-releases/33/example_prediction_reduced.parquet (95117 bytes)\n",
      "already exists: file length match\n"
     ]
    }
   ],
   "source": [
    "# Getting the data\n",
    "crunch = crunch.load_notebook()\n",
    "X_train, y_train, X_test = crunch.load_data()"
   ]
  },
  {
   "cell_type": "markdown",
   "metadata": {},
   "source": [
    "# Train"
   ]
  },
  {
   "cell_type": "markdown",
   "metadata": {},
   "source": [
    "The train function that will be called by the Crunch platform is defined below.\n",
    "\n",
    "This function will be called in a frequency that is defined by your `training frequency` parameter that you will define when deploying your model on the Crunch platform."
   ]
  },
  {
   "cell_type": "code",
   "execution_count": 16,
   "metadata": {},
   "outputs": [],
   "source": [
    "# Uncomment the parameter(s) that you need!\n",
    "def train(\n",
    "    X_train: pd.DataFrame,\n",
    "    y_train: pd.DataFrame,\n",
    "    number_of_features: int,\n",
    "    model_directory_path: str,\n",
    "    id_column_name: str,\n",
    "    moon_column_name: str,\n",
    "    # target_column_name: str,\n",
    "    prediction_column_name: str,\n",
    "    # moon: int,\n",
    "    embargo: int,\n",
    "    # has_gpu: bool,\n",
    ") -> None:\n",
    "    \"\"\"\n",
    "    Do your model training here.\n",
    "    At each retrain this function will have to save an updated version of\n",
    "    the model under the model_directiory_path, as in the example below.\n",
    "    Note: You can use other serialization methods than joblib.dump(), as\n",
    "    long as it matches what reads the model in infer().\n",
    "\n",
    "    Args:\n",
    "        X_train, y_train: the data to train the model.\n",
    "        number_of_features: the number of features of the dataset.\n",
    "        model_directory_path: the path to save your updated model.\n",
    "        id_column_name: the name of the id column.\n",
    "        moon_column_name: the name of the moon column.\n",
    "        target_column_name: the name of the target column.\n",
    "        prediction_column_name: the name of the prediction column.\n",
    "        moon, current_moon: the moon currently being processed.\n",
    "        embargo: data embargo.\n",
    "        has_gpu: if the runner has a gpu.\n",
    "\n",
    "    Returns:\n",
    "        None\n",
    "    \"\"\"\n",
    "    target_column_name = 'target_w'\n",
    "    \n",
    "    features_columns = [column for column in X_train.columns if'Feature' in column]\n",
    "\n",
    "    # Train-Validation split (80-20%)\n",
    "    moons = X_train[moon_column_name].unique()\n",
    "    moon_split = moons[int(len(moons) * 0.8)]\n",
    "    \n",
    "    Xtrain = X_train.loc[X_train[moon_column_name] < moon_split - embargo].set_index([moon_column_name, id_column_name])\n",
    "    ytrain = y_train.loc[X_train[moon_column_name] < moon_split - embargo]\n",
    "\n",
    "    Xval = X_train.loc[X_train[moon_column_name] >= moon_split].set_index([moon_column_name, id_column_name])\n",
    "    yval = y_train.loc[X_train[moon_column_name] >= moon_split]\n",
    "\n",
    "    # Create DMatrix objects for the training and validation sets\n",
    "    dtrain = xgb.DMatrix(Xtrain, label=ytrain[target_column_name])\n",
    "    dval = xgb.DMatrix(Xval, label=yval[target_column_name])\n",
    "\n",
    "    def cumulative_product_alpha_score(preds, dmat):\n",
    "        \"\"\"\n",
    "        Scoring function associated to the competition.\n",
    "        The alpha score function details can be found in the documentation:\n",
    "        https://docs.crunchdao.com/rallies/rallies/datacrunch-rally#the-performance-metric\n",
    "        \"\"\"\n",
    "        if preds.shape[0] == Xval.shape[0]:\n",
    "            preds_df = pd.DataFrame(preds, index=Xval.index, columns=[prediction_column_name])\n",
    "            merged_df = pd.concat([Xval[[]], preds_df], axis=1)\n",
    "        else:\n",
    "            preds_df = pd.DataFrame(preds, index=Xtrain.index, columns=[prediction_column_name])\n",
    "            merged_df = pd.concat([Xtrain[[]], preds_df], axis=1)\n",
    "\n",
    "        # API call to compute the alpha score\n",
    "        alpha_score = crunch.alpha_score(merged_df.reset_index())\n",
    "\n",
    "        # Compute the cumulative product of the alpha score. This is the metric we want to maximise. Can be changed for another metric (eg. sharpe).\n",
    "        cumprod = np.cumprod(alpha_score + 1) - 1\n",
    "\n",
    "        return 'cumprod_alpha_score', -cumprod.iloc[-1] # Return the negative value as the custom metric is minimized\n",
    "\n",
    "    # Define hyperparameters for XGBoost model\n",
    "    params = {\n",
    "        'objective': 'reg:squarederror',\n",
    "        'max_depth': 1,\n",
    "        'eta': 0.05,\n",
    "        'subsample': 1,\n",
    "        'colsample_bytree': 0.1,\n",
    "    }\n",
    "\n",
    "    # Specify the validation set for early stopping\n",
    "    evals = [(dtrain, 'train'), (dval, 'eval')]\n",
    "\n",
    "    # Run the model\n",
    "    model = xgb.train(params, dtrain, evals=evals, custom_metric=cumulative_product_alpha_score, early_stopping_rounds=10)\n",
    "\n",
    "    # Save the model\n",
    "    joblib.dump(\n",
    "        model,\n",
    "        os.path.join(model_directory_path, \"model.joblib\")\n",
    "    )"
   ]
  },
  {
   "cell_type": "markdown",
   "metadata": {},
   "source": [
    "# Infer"
   ]
  },
  {
   "cell_type": "markdown",
   "metadata": {},
   "source": [
    "The `infer` function that will be called by the Crunch platform is defined below.\n",
    "\n",
    "This function will be called on every `moon` of the `Out-Of-Sample`."
   ]
  },
  {
   "cell_type": "code",
   "execution_count": 17,
   "metadata": {},
   "outputs": [],
   "source": [
    "# Uncomment the parameter(s) that you need!\n",
    "def infer(\n",
    "    X_test: pd.DataFrame,\n",
    "    # number_of_features: int,\n",
    "    model_directory_path: str,\n",
    "    id_column_name: str,\n",
    "    moon_column_name: str,\n",
    "    # target_column_name: str,\n",
    "    # moon: int,\n",
    "    # has_gpu: bool,\n",
    "    # has_trained: bool,\n",
    ") -> pd.DataFrame:\n",
    "    \"\"\"\n",
    "    Do your inference here.\n",
    "    This function will load the model saved at the previous iteration and use\n",
    "    it to produce your inference on the current date.\n",
    "    It is mandatory to send your inferences with the ids so the system\n",
    "    can match it correctly.\n",
    "\n",
    "    Args:\n",
    "        X_test: the independant  variables of the current date passed to your model.\n",
    "        number_of_features: the number of features of the dataset\n",
    "        model_directory_path: the path to the directory to the directory in wich we will be saving your updated model.\n",
    "        id_column_name: the name of the id column\n",
    "        moon_column_name: the name of the moon column\n",
    "        target_column_name: the name of the target column\n",
    "        moon: the moon currently being processed\n",
    "        has_gpu: if the runner has a gpu\n",
    "        has_trained: if the moon will train\n",
    "\n",
    "    Returns:\n",
    "        A dataframe (moon, id, prediction) with the inferences of your model for the current moon.\n",
    "    \"\"\"\n",
    "    features_columns = [column for column in X_test.columns if'Feature' in column]\n",
    "\n",
    "    # Loading the model saved by the train function at previous iteration\n",
    "    model = joblib.load(os.path.join(model_directory_path, \"model.joblib\"))\n",
    "\n",
    "    # Create Dmatrix object\n",
    "    dtest = xgb.DMatrix(X_test.loc[:, features_columns])\n",
    "\n",
    "    # creating the predicted label dataframe with correct dates and ids\n",
    "    prediction = X_test[[moon_column_name, id_column_name]].copy()\n",
    "    prediction['prediction'] = model.predict(dtest)\n",
    "\n",
    "    return prediction"
   ]
  },
  {
   "cell_type": "markdown",
   "metadata": {},
   "source": [
    "# Cross-validate on a Walk-Forward framework"
   ]
  },
  {
   "cell_type": "code",
   "execution_count": 18,
   "metadata": {},
   "outputs": [],
   "source": [
    "df = pd.merge(X_train, y_train, on=['moon', 'id'])"
   ]
  },
  {
   "cell_type": "code",
   "execution_count": 19,
   "metadata": {},
   "outputs": [],
   "source": [
    "def splitter(\n",
    "    Xy_train: pd.DataFrame,\n",
    "    training_target: str,\n",
    "    start_train_size,\n",
    "    validation_size,\n",
    "    expanding_window: bool,\n",
    "    verbose,\n",
    "    output_path,\n",
    "    predictions_path,\n",
    "    id_column_name: str,\n",
    "    moon_column_name: str,\n",
    "    embargo: int,\n",
    "):\n",
    "    \"\"\"\n",
    "        Split data and train a machine learning model on each split.\n",
    "        This function takes input data `Xy_train`, splits it into training and validation sets\n",
    "        using time-series cross-validation, and train and infer on these splits.\n",
    "\n",
    "        Args:\n",
    "            Xy_train (pd.DataFrame): The input data with the features and the target(s).\n",
    "            training_target (str): The name of the target variable to train the model on.\n",
    "            model_name (str): The name of the model to use.\n",
    "            start_train_size (int): The number of observations to use for the initial training set.\n",
    "            validation_size (int): The number of observations to use for the validation set.\n",
    "            expanding_window (bool): Whether to use an expanding window or a rolling window.\n",
    "            verbose (bool): Whether to print the progress of the function.\n",
    "            output_path (str): The path to the output directory.\n",
    "            predictions_path (str): The path to the output dataframe.\n",
    "            id_column_name (str): The name of the column containing the symbols.\n",
    "            moon_column_name (str): The name of the column containing the time variable.\n",
    "            embargo (int): The number of moon_column_name cross-section to exclude from the training set to avoid lookahead bias.\n",
    "    \"\"\"\n",
    "    features = [c for c in Xy_train.columns if \"Feature\" in c]\n",
    "\n",
    "    # Select the targets columns name:\n",
    "    targets = [c for c in Xy_train.columns if \"target\" in c]\n",
    "    \n",
    "    print( \"--------------------------------- Starting Walk Forward ---------------------------------\")\n",
    "    df_epochs = Xy_train[moon_column_name].unique()\n",
    "    print(f\"The input dataset has {len(df_epochs)} epochs: {df_epochs[0]} to {df_epochs[-1]}.\")\n",
    "    n_epochs = len(df_epochs)\n",
    "\n",
    "    print(f\"Number of features: {len(features)}.\")\n",
    "    print(f\"Number of targets: {len(targets)}.\")\n",
    "    uni_size = Xy_train.groupby(moon_column_name)[moon_column_name].count().mean()\n",
    "    print(f\"Average universe size: {int(uni_size)}.\")\n",
    "    print(\"------------------------------------------------------------------------------------------\")\n",
    "\n",
    "    # Create a list to store the predictions\n",
    "    predictions = []\n",
    "\n",
    "    # Define the start and end date for the training and validation sets\n",
    "    start_date = Xy_train[moon_column_name].min() + start_train_size + embargo\n",
    "    end_date = Xy_train[moon_column_name].max()\n",
    "\n",
    "    cv_splits = []\n",
    "    # Define the splits for the time-series cross-validation\n",
    "    while start_date + embargo < end_date:\n",
    "        if expanding_window:\n",
    "            train_data = Xy_train[(Xy_train[moon_column_name] <= start_date - embargo)]\n",
    "        else:\n",
    "            train_data = Xy_train[(Xy_train[moon_column_name] <= start_date - embargo) & (Xy_train[moon_column_name] > start_date - embargo - start_train_size)]\n",
    "        test_data = Xy_train[(Xy_train[moon_column_name] > start_date) & (Xy_train[moon_column_name] <= start_date + validation_size)]\n",
    "\n",
    "        cv_splits.append((train_data.index, test_data.index))\n",
    "\n",
    "        start_date = start_date + validation_size\n",
    "\n",
    "    n_splits = len(cv_splits)\n",
    "\n",
    "    try:\n",
    "        # Iterate over each split and train and infer on the data\n",
    "        for train_index, test_index in tqdm(cv_splits, total=n_splits):\n",
    "            train_set = Xy_train.loc[train_index]\n",
    "            X_train = train_set[[moon_column_name, id_column_name] + features]\n",
    "            y_train = train_set[[moon_column_name, id_column_name, training_target]]\n",
    "\n",
    "            test_set = Xy_train.iloc[test_index]\n",
    "            X_test = test_set[[moon_column_name, id_column_name] + features]\n",
    "\n",
    "            # Train the model and save it in the resources directory\n",
    "            train(\n",
    "                X_train=X_train,\n",
    "                y_train=y_train,\n",
    "                number_of_features=len(features),\n",
    "                model_directory_path=output_path,\n",
    "                id_column_name=id_column_name,\n",
    "                moon_column_name=moon_column_name,\n",
    "                prediction_column_name = 'prediction',\n",
    "                embargo=embargo,\n",
    "            )\n",
    "            print(f\"Model trained from moon {train_set[moon_column_name].min()} to moon {train_set[moon_column_name].max()}.\")\n",
    "\n",
    "            # Infer on the test set\n",
    "            y_pred = infer(\n",
    "                X_test=X_test,\n",
    "                model_directory_path=output_path,\n",
    "                id_column_name=id_column_name,\n",
    "                moon_column_name=moon_column_name,\n",
    "            )\n",
    "            print(f\"Model tested from moon {test_set[moon_column_name].min()} to moon {test_set[moon_column_name].max()}.\")\n",
    "\n",
    "            # Append the predictions to the list.\n",
    "            # The overall predictions list will contains all the consecutive moons from the start date + 1 moon.\n",
    "            predictions.append(y_pred)\n",
    "\n",
    "            # Compute the alpha score with the API call\n",
    "            alpha_score = crunch.alpha_score(y_pred[[id_column_name, moon_column_name, 'prediction']])\n",
    "            \n",
    "            # Print a bunch of metrics\n",
    "            grp_sharpe = alpha_score.mean() / alpha_score.std() * np.sqrt(52) # Annualized sharpe ratio.\n",
    "            grp_cumprod = (np.cumprod(alpha_score + 1) - 1).iloc[-1]\n",
    "            print(f\"Annualized Sharpe Ratio based on Alpha Score on the period: {grp_sharpe}\")\n",
    "            print(f\"Final Cumulative Product of the Alpha Score on the period: {grp_cumprod}\")\n",
    "    finally:\n",
    "        if len(predictions) != 0:\n",
    "            os.makedirs(os.path.dirname(predictions_path), exist_ok=True)\n",
    "            df = pd.concat(predictions, axis=0).reset_index(drop=True)\n",
    "            # Save the predictions in the predictions_path folder so we can study them later.\n",
    "            rw.write(df, predictions_path)"
   ]
  },
  {
   "cell_type": "markdown",
   "metadata": {},
   "source": [
    "## Run splitter"
   ]
  },
  {
   "cell_type": "code",
   "execution_count": 20,
   "metadata": {},
   "outputs": [
    {
     "name": "stdout",
     "output_type": "stream",
     "text": [
      "--------------------------------- Starting Walk Forward ---------------------------------\n",
      "The input dataset has 273 epochs: 0 to 272.\n",
      "Number of features: 767.\n",
      "Number of targets: 13.\n",
      "Average universe size: 1093.\n",
      "------------------------------------------------------------------------------------------\n"
     ]
    },
    {
     "name": "stderr",
     "output_type": "stream",
     "text": [
      "  0%|          | 0/9 [00:00<?, ?it/s]"
     ]
    },
    {
     "name": "stdout",
     "output_type": "stream",
     "text": [
      "[0]\ttrain-rmse:0.04904\ttrain-cumprod_alpha_score:-0.06645\teval-rmse:0.04033\teval-cumprod_alpha_score:0.00400\n",
      "[1]\ttrain-rmse:0.04904\ttrain-cumprod_alpha_score:-0.07820\teval-rmse:0.04033\teval-cumprod_alpha_score:0.00629\n",
      "[2]\ttrain-rmse:0.04903\ttrain-cumprod_alpha_score:-0.07820\teval-rmse:0.04033\teval-cumprod_alpha_score:0.00629\n",
      "[3]\ttrain-rmse:0.04903\ttrain-cumprod_alpha_score:-0.07820\teval-rmse:0.04033\teval-cumprod_alpha_score:0.00629\n",
      "[4]\ttrain-rmse:0.04903\ttrain-cumprod_alpha_score:-0.10068\teval-rmse:0.04033\teval-cumprod_alpha_score:0.00800\n",
      "[5]\ttrain-rmse:0.04903\ttrain-cumprod_alpha_score:-0.11436\teval-rmse:0.04033\teval-cumprod_alpha_score:0.01714\n",
      "[6]\ttrain-rmse:0.04903\ttrain-cumprod_alpha_score:-0.11681\teval-rmse:0.04033\teval-cumprod_alpha_score:0.01305\n",
      "[7]\ttrain-rmse:0.04902\ttrain-cumprod_alpha_score:-0.12028\teval-rmse:0.04033\teval-cumprod_alpha_score:0.01304\n",
      "[8]\ttrain-rmse:0.04902\ttrain-cumprod_alpha_score:-0.13081\teval-rmse:0.04034\teval-cumprod_alpha_score:0.01536\n",
      "[9]\ttrain-rmse:0.04902\ttrain-cumprod_alpha_score:-0.13388\teval-rmse:0.04034\teval-cumprod_alpha_score:0.01534\n",
      "Model trained from moon 1 to moon 52.\n",
      "Model tested from moon 54 to moon 79.\n"
     ]
    },
    {
     "name": "stderr",
     "output_type": "stream",
     "text": [
      " 11%|█         | 1/9 [00:30<04:04, 30.53s/it]"
     ]
    },
    {
     "name": "stdout",
     "output_type": "stream",
     "text": [
      "Annualized Sharpe Ratio based on Alpha Score on the period: alpha-score   -2.063305\n",
      "dtype: float64\n",
      "Final Cumulative Product of the Alpha Score on the period: alpha-score   -0.035824\n",
      "Name: 79, dtype: float64\n",
      "[0]\ttrain-rmse:0.04580\ttrain-cumprod_alpha_score:-0.04239\teval-rmse:0.04555\teval-cumprod_alpha_score:0.00395\n",
      "[1]\ttrain-rmse:0.04580\ttrain-cumprod_alpha_score:-0.06522\teval-rmse:0.04555\teval-cumprod_alpha_score:-0.00395\n",
      "[2]\ttrain-rmse:0.04580\ttrain-cumprod_alpha_score:-0.07119\teval-rmse:0.04555\teval-cumprod_alpha_score:0.00024\n",
      "[3]\ttrain-rmse:0.04580\ttrain-cumprod_alpha_score:-0.07599\teval-rmse:0.04555\teval-cumprod_alpha_score:0.00082\n",
      "[4]\ttrain-rmse:0.04579\ttrain-cumprod_alpha_score:-0.08658\teval-rmse:0.04555\teval-cumprod_alpha_score:0.00164\n",
      "[5]\ttrain-rmse:0.04579\ttrain-cumprod_alpha_score:-0.09569\teval-rmse:0.04555\teval-cumprod_alpha_score:-0.00296\n",
      "[6]\ttrain-rmse:0.04579\ttrain-cumprod_alpha_score:-0.09334\teval-rmse:0.04555\teval-cumprod_alpha_score:-0.00098\n",
      "[7]\ttrain-rmse:0.04579\ttrain-cumprod_alpha_score:-0.09904\teval-rmse:0.04555\teval-cumprod_alpha_score:-0.00669\n",
      "[8]\ttrain-rmse:0.04579\ttrain-cumprod_alpha_score:-0.10111\teval-rmse:0.04555\teval-cumprod_alpha_score:-0.00381\n",
      "[9]\ttrain-rmse:0.04579\ttrain-cumprod_alpha_score:-0.10834\teval-rmse:0.04555\teval-cumprod_alpha_score:-0.00333\n",
      "Model trained from moon 27 to moon 78.\n",
      "Model tested from moon 80 to moon 105.\n"
     ]
    },
    {
     "name": "stderr",
     "output_type": "stream",
     "text": [
      " 22%|██▏       | 2/9 [01:03<03:43, 31.89s/it]"
     ]
    },
    {
     "name": "stdout",
     "output_type": "stream",
     "text": [
      "Annualized Sharpe Ratio based on Alpha Score on the period: alpha-score   -0.795975\n",
      "dtype: float64\n",
      "Final Cumulative Product of the Alpha Score on the period: alpha-score   -0.011051\n",
      "Name: 105, dtype: float64\n",
      "[0]\ttrain-rmse:0.04453\ttrain-cumprod_alpha_score:-0.13562\teval-rmse:0.04781\teval-cumprod_alpha_score:-0.00354\n",
      "[1]\ttrain-rmse:0.04452\ttrain-cumprod_alpha_score:-0.09557\teval-rmse:0.04781\teval-cumprod_alpha_score:-0.01695\n",
      "[2]\ttrain-rmse:0.04452\ttrain-cumprod_alpha_score:-0.09609\teval-rmse:0.04781\teval-cumprod_alpha_score:-0.01581\n",
      "[3]\ttrain-rmse:0.04452\ttrain-cumprod_alpha_score:-0.08658\teval-rmse:0.04781\teval-cumprod_alpha_score:-0.02279\n",
      "[4]\ttrain-rmse:0.04452\ttrain-cumprod_alpha_score:-0.08923\teval-rmse:0.04781\teval-cumprod_alpha_score:-0.02305\n",
      "[5]\ttrain-rmse:0.04452\ttrain-cumprod_alpha_score:-0.08658\teval-rmse:0.04781\teval-cumprod_alpha_score:-0.02371\n",
      "[6]\ttrain-rmse:0.04452\ttrain-cumprod_alpha_score:-0.08717\teval-rmse:0.04780\teval-cumprod_alpha_score:-0.02325\n",
      "[7]\ttrain-rmse:0.04451\ttrain-cumprod_alpha_score:-0.08755\teval-rmse:0.04781\teval-cumprod_alpha_score:-0.02293\n",
      "[8]\ttrain-rmse:0.04451\ttrain-cumprod_alpha_score:-0.08881\teval-rmse:0.04780\teval-cumprod_alpha_score:-0.02467\n",
      "[9]\ttrain-rmse:0.04451\ttrain-cumprod_alpha_score:-0.09121\teval-rmse:0.04781\teval-cumprod_alpha_score:-0.02364\n",
      "Model trained from moon 53 to moon 104.\n",
      "Model tested from moon 106 to moon 131.\n"
     ]
    },
    {
     "name": "stderr",
     "output_type": "stream",
     "text": [
      " 33%|███▎      | 3/9 [01:37<03:16, 32.79s/it]"
     ]
    },
    {
     "name": "stdout",
     "output_type": "stream",
     "text": [
      "Annualized Sharpe Ratio based on Alpha Score on the period: alpha-score   -0.138114\n",
      "dtype: float64\n",
      "Final Cumulative Product of the Alpha Score on the period: alpha-score   -0.002101\n",
      "Name: 131, dtype: float64\n",
      "[0]\ttrain-rmse:0.04775\ttrain-cumprod_alpha_score:-0.08406\teval-rmse:0.04694\teval-cumprod_alpha_score:0.00671\n",
      "[1]\ttrain-rmse:0.04775\ttrain-cumprod_alpha_score:-0.10989\teval-rmse:0.04694\teval-cumprod_alpha_score:-0.01053\n",
      "[2]\ttrain-rmse:0.04775\ttrain-cumprod_alpha_score:-0.11373\teval-rmse:0.04694\teval-cumprod_alpha_score:-0.00583\n",
      "[3]\ttrain-rmse:0.04775\ttrain-cumprod_alpha_score:-0.12204\teval-rmse:0.04694\teval-cumprod_alpha_score:-0.00997\n",
      "[4]\ttrain-rmse:0.04775\ttrain-cumprod_alpha_score:-0.13580\teval-rmse:0.04694\teval-cumprod_alpha_score:-0.01055\n",
      "[5]\ttrain-rmse:0.04774\ttrain-cumprod_alpha_score:-0.15402\teval-rmse:0.04694\teval-cumprod_alpha_score:-0.00499\n",
      "[6]\ttrain-rmse:0.04774\ttrain-cumprod_alpha_score:-0.15824\teval-rmse:0.04693\teval-cumprod_alpha_score:-0.00777\n",
      "[7]\ttrain-rmse:0.04774\ttrain-cumprod_alpha_score:-0.16076\teval-rmse:0.04693\teval-cumprod_alpha_score:-0.00984\n",
      "[8]\ttrain-rmse:0.04774\ttrain-cumprod_alpha_score:-0.16105\teval-rmse:0.04693\teval-cumprod_alpha_score:-0.00699\n",
      "[9]\ttrain-rmse:0.04774\ttrain-cumprod_alpha_score:-0.15765\teval-rmse:0.04694\teval-cumprod_alpha_score:-0.00444\n",
      "Model trained from moon 79 to moon 130.\n",
      "Model tested from moon 132 to moon 157.\n"
     ]
    },
    {
     "name": "stderr",
     "output_type": "stream",
     "text": [
      " 44%|████▍     | 4/9 [02:08<02:40, 32.07s/it]"
     ]
    },
    {
     "name": "stdout",
     "output_type": "stream",
     "text": [
      "Annualized Sharpe Ratio based on Alpha Score on the period: alpha-score   -1.62436\n",
      "dtype: float64\n",
      "Final Cumulative Product of the Alpha Score on the period: alpha-score   -0.029526\n",
      "Name: 157, dtype: float64\n",
      "[0]\ttrain-rmse:0.05246\ttrain-cumprod_alpha_score:-0.05733\teval-rmse:0.06134\teval-cumprod_alpha_score:0.00853\n",
      "[1]\ttrain-rmse:0.05246\ttrain-cumprod_alpha_score:-0.08158\teval-rmse:0.06134\teval-cumprod_alpha_score:0.00593\n",
      "[2]\ttrain-rmse:0.05246\ttrain-cumprod_alpha_score:-0.08651\teval-rmse:0.06134\teval-cumprod_alpha_score:0.01271\n",
      "[3]\ttrain-rmse:0.05246\ttrain-cumprod_alpha_score:-0.09089\teval-rmse:0.06134\teval-cumprod_alpha_score:0.01386\n",
      "[4]\ttrain-rmse:0.05246\ttrain-cumprod_alpha_score:-0.09183\teval-rmse:0.06134\teval-cumprod_alpha_score:0.01267\n",
      "[5]\ttrain-rmse:0.05246\ttrain-cumprod_alpha_score:-0.10344\teval-rmse:0.06135\teval-cumprod_alpha_score:0.02356\n",
      "[6]\ttrain-rmse:0.05245\ttrain-cumprod_alpha_score:-0.10331\teval-rmse:0.06135\teval-cumprod_alpha_score:0.02311\n",
      "[7]\ttrain-rmse:0.05245\ttrain-cumprod_alpha_score:-0.11712\teval-rmse:0.06134\teval-cumprod_alpha_score:0.01625\n",
      "[8]\ttrain-rmse:0.05245\ttrain-cumprod_alpha_score:-0.13039\teval-rmse:0.06134\teval-cumprod_alpha_score:0.01749\n",
      "[9]\ttrain-rmse:0.05245\ttrain-cumprod_alpha_score:-0.13075\teval-rmse:0.06135\teval-cumprod_alpha_score:0.02022\n",
      "Model trained from moon 105 to moon 156.\n",
      "Model tested from moon 158 to moon 183.\n"
     ]
    },
    {
     "name": "stderr",
     "output_type": "stream",
     "text": [
      " 56%|█████▌    | 5/9 [02:38<02:05, 31.36s/it]"
     ]
    },
    {
     "name": "stdout",
     "output_type": "stream",
     "text": [
      "Annualized Sharpe Ratio based on Alpha Score on the period: alpha-score    2.476205\n",
      "dtype: float64\n",
      "Final Cumulative Product of the Alpha Score on the period: alpha-score    0.042898\n",
      "Name: 183, dtype: float64\n",
      "[0]\ttrain-rmse:0.05754\ttrain-cumprod_alpha_score:-0.07488\teval-rmse:0.05124\teval-cumprod_alpha_score:-0.01845\n",
      "[1]\ttrain-rmse:0.05754\ttrain-cumprod_alpha_score:-0.10870\teval-rmse:0.05124\teval-cumprod_alpha_score:-0.03101\n",
      "[2]\ttrain-rmse:0.05753\ttrain-cumprod_alpha_score:-0.13175\teval-rmse:0.05123\teval-cumprod_alpha_score:-0.02727\n",
      "[3]\ttrain-rmse:0.05753\ttrain-cumprod_alpha_score:-0.13098\teval-rmse:0.05123\teval-cumprod_alpha_score:-0.02640\n",
      "[4]\ttrain-rmse:0.05753\ttrain-cumprod_alpha_score:-0.13881\teval-rmse:0.05123\teval-cumprod_alpha_score:-0.03161\n",
      "[5]\ttrain-rmse:0.05753\ttrain-cumprod_alpha_score:-0.14915\teval-rmse:0.05123\teval-cumprod_alpha_score:-0.02898\n",
      "[6]\ttrain-rmse:0.05752\ttrain-cumprod_alpha_score:-0.14887\teval-rmse:0.05122\teval-cumprod_alpha_score:-0.03308\n",
      "[7]\ttrain-rmse:0.05752\ttrain-cumprod_alpha_score:-0.16342\teval-rmse:0.05122\teval-cumprod_alpha_score:-0.03258\n",
      "[8]\ttrain-rmse:0.05752\ttrain-cumprod_alpha_score:-0.17173\teval-rmse:0.05122\teval-cumprod_alpha_score:-0.03768\n",
      "[9]\ttrain-rmse:0.05752\ttrain-cumprod_alpha_score:-0.17376\teval-rmse:0.05122\teval-cumprod_alpha_score:-0.04039\n",
      "Model trained from moon 131 to moon 182.\n",
      "Model tested from moon 184 to moon 209.\n"
     ]
    },
    {
     "name": "stderr",
     "output_type": "stream",
     "text": [
      " 67%|██████▋   | 6/9 [03:08<01:32, 30.92s/it]"
     ]
    },
    {
     "name": "stdout",
     "output_type": "stream",
     "text": [
      "Annualized Sharpe Ratio based on Alpha Score on the period: alpha-score    0.490399\n",
      "dtype: float64\n",
      "Final Cumulative Product of the Alpha Score on the period: alpha-score    0.018209\n",
      "Name: 209, dtype: float64\n",
      "[0]\ttrain-rmse:0.05254\ttrain-cumprod_alpha_score:-0.14027\teval-rmse:0.05823\teval-cumprod_alpha_score:0.00931\n",
      "[1]\ttrain-rmse:0.05254\ttrain-cumprod_alpha_score:-0.14027\teval-rmse:0.05823\teval-cumprod_alpha_score:0.00931\n",
      "[2]\ttrain-rmse:0.05254\ttrain-cumprod_alpha_score:-0.15497\teval-rmse:0.05824\teval-cumprod_alpha_score:0.01444\n",
      "[3]\ttrain-rmse:0.05253\ttrain-cumprod_alpha_score:-0.12201\teval-rmse:0.05823\teval-cumprod_alpha_score:-0.00640\n",
      "[4]\ttrain-rmse:0.05253\ttrain-cumprod_alpha_score:-0.12506\teval-rmse:0.05823\teval-cumprod_alpha_score:-0.00081\n",
      "[5]\ttrain-rmse:0.05253\ttrain-cumprod_alpha_score:-0.12420\teval-rmse:0.05824\teval-cumprod_alpha_score:0.00120\n",
      "[6]\ttrain-rmse:0.05253\ttrain-cumprod_alpha_score:-0.12544\teval-rmse:0.05823\teval-cumprod_alpha_score:-0.00443\n",
      "[7]\ttrain-rmse:0.05253\ttrain-cumprod_alpha_score:-0.12525\teval-rmse:0.05823\teval-cumprod_alpha_score:-0.00441\n",
      "[8]\ttrain-rmse:0.05252\ttrain-cumprod_alpha_score:-0.13852\teval-rmse:0.05823\teval-cumprod_alpha_score:-0.00675\n",
      "[9]\ttrain-rmse:0.05252\ttrain-cumprod_alpha_score:-0.13879\teval-rmse:0.05824\teval-cumprod_alpha_score:-0.00359\n",
      "Model trained from moon 157 to moon 208.\n",
      "Model tested from moon 210 to moon 235.\n"
     ]
    },
    {
     "name": "stderr",
     "output_type": "stream",
     "text": [
      " 78%|███████▊  | 7/9 [03:37<01:00, 30.44s/it]"
     ]
    },
    {
     "name": "stdout",
     "output_type": "stream",
     "text": [
      "Annualized Sharpe Ratio based on Alpha Score on the period: alpha-score   -0.159331\n",
      "dtype: float64\n",
      "Final Cumulative Product of the Alpha Score on the period: alpha-score   -0.020535\n",
      "Name: 235, dtype: float64\n",
      "[0]\ttrain-rmse:0.09038\ttrain-cumprod_alpha_score:-0.13174\teval-rmse:0.07072\teval-cumprod_alpha_score:0.02350\n",
      "[1]\ttrain-rmse:0.09038\ttrain-cumprod_alpha_score:-0.14681\teval-rmse:0.07073\teval-cumprod_alpha_score:0.03970\n",
      "[2]\ttrain-rmse:0.09038\ttrain-cumprod_alpha_score:-0.17239\teval-rmse:0.07072\teval-cumprod_alpha_score:0.02894\n",
      "[3]\ttrain-rmse:0.09037\ttrain-cumprod_alpha_score:-0.17338\teval-rmse:0.07072\teval-cumprod_alpha_score:0.02246\n",
      "[4]\ttrain-rmse:0.09037\ttrain-cumprod_alpha_score:-0.17705\teval-rmse:0.07072\teval-cumprod_alpha_score:0.01400\n",
      "[5]\ttrain-rmse:0.09036\ttrain-cumprod_alpha_score:-0.17785\teval-rmse:0.07073\teval-cumprod_alpha_score:0.01677\n",
      "[6]\ttrain-rmse:0.09036\ttrain-cumprod_alpha_score:-0.17585\teval-rmse:0.07073\teval-cumprod_alpha_score:0.01587\n",
      "[7]\ttrain-rmse:0.09036\ttrain-cumprod_alpha_score:-0.17797\teval-rmse:0.07074\teval-cumprod_alpha_score:0.02719\n",
      "[8]\ttrain-rmse:0.09035\ttrain-cumprod_alpha_score:-0.20485\teval-rmse:0.07074\teval-cumprod_alpha_score:0.01905\n",
      "[9]\ttrain-rmse:0.09035\ttrain-cumprod_alpha_score:-0.22025\teval-rmse:0.07073\teval-cumprod_alpha_score:0.01624\n",
      "Model trained from moon 183 to moon 234.\n",
      "Model tested from moon 236 to moon 261.\n"
     ]
    },
    {
     "name": "stderr",
     "output_type": "stream",
     "text": [
      " 89%|████████▉ | 8/9 [04:09<00:30, 30.80s/it]"
     ]
    },
    {
     "name": "stdout",
     "output_type": "stream",
     "text": [
      "Annualized Sharpe Ratio based on Alpha Score on the period: alpha-score    0.958922\n",
      "dtype: float64\n",
      "Final Cumulative Product of the Alpha Score on the period: alpha-score    0.016125\n",
      "Name: 261, dtype: float64\n",
      "[0]\ttrain-rmse:0.09511\ttrain-cumprod_alpha_score:-0.12851\teval-rmse:0.06609\teval-cumprod_alpha_score:-0.03644\n",
      "[1]\ttrain-rmse:0.09510\ttrain-cumprod_alpha_score:-0.19072\teval-rmse:0.06608\teval-cumprod_alpha_score:-0.05725\n",
      "[2]\ttrain-rmse:0.09510\ttrain-cumprod_alpha_score:-0.21443\teval-rmse:0.06608\teval-cumprod_alpha_score:-0.05443\n",
      "[3]\ttrain-rmse:0.09510\ttrain-cumprod_alpha_score:-0.21499\teval-rmse:0.06608\teval-cumprod_alpha_score:-0.05439\n",
      "[4]\ttrain-rmse:0.09509\ttrain-cumprod_alpha_score:-0.26411\teval-rmse:0.06607\teval-cumprod_alpha_score:-0.05770\n",
      "[5]\ttrain-rmse:0.09509\ttrain-cumprod_alpha_score:-0.30884\teval-rmse:0.06608\teval-cumprod_alpha_score:-0.04514\n",
      "[6]\ttrain-rmse:0.09508\ttrain-cumprod_alpha_score:-0.33365\teval-rmse:0.06607\teval-cumprod_alpha_score:-0.04840\n",
      "[7]\ttrain-rmse:0.09508\ttrain-cumprod_alpha_score:-0.34561\teval-rmse:0.06608\teval-cumprod_alpha_score:-0.03736\n",
      "[8]\ttrain-rmse:0.09508\ttrain-cumprod_alpha_score:-0.34820\teval-rmse:0.06608\teval-cumprod_alpha_score:-0.03142\n",
      "[9]\ttrain-rmse:0.09507\ttrain-cumprod_alpha_score:-0.34080\teval-rmse:0.06608\teval-cumprod_alpha_score:-0.02634\n",
      "Model trained from moon 209 to moon 260.\n",
      "Model tested from moon 262 to moon 272.\n"
     ]
    },
    {
     "name": "stderr",
     "output_type": "stream",
     "text": [
      "100%|██████████| 9/9 [04:40<00:00, 31.21s/it]"
     ]
    },
    {
     "name": "stdout",
     "output_type": "stream",
     "text": [
      "Annualized Sharpe Ratio based on Alpha Score on the period: alpha-score   -0.519322\n",
      "dtype: float64\n",
      "Final Cumulative Product of the Alpha Score on the period: alpha-score   -0.011792\n",
      "Name: 272, dtype: float64\n"
     ]
    },
    {
     "name": "stderr",
     "output_type": "stream",
     "text": [
      "\n"
     ]
    }
   ],
   "source": [
    "# Train and infer on the data in a walk-forward manner\n",
    "splitter(\n",
    "    Xy_train=df,\n",
    "    training_target='target_w',\n",
    "    start_train_size=52,\n",
    "    validation_size=26, # 1 moon if you want to replicate the competition framework\n",
    "    expanding_window=False, # Expanding window will add more data to the training set at each iteration.\n",
    "    verbose=True,\n",
    "    output_path=crunch.model_directory,\n",
    "    predictions_path=f'{crunch.model_directory}/quickstarter_predictions.parquet',\n",
    "    id_column_name='id',\n",
    "    moon_column_name='moon',\n",
    "    embargo=1, # Use 1 to avoid lookahead bias if you are training on the target_w, 4 for _r_ target, 9 for _g_ targets, 13 for _b_ targets.\n",
    ")"
   ]
  },
  {
   "cell_type": "markdown",
   "metadata": {},
   "source": [
    "# Review the performance of the model"
   ]
  },
  {
   "cell_type": "code",
   "execution_count": 21,
   "metadata": {},
   "outputs": [],
   "source": [
    "res = rw.read(f'{crunch.model_directory}/quickstarter_predictions.parquet')"
   ]
  },
  {
   "cell_type": "code",
   "execution_count": 22,
   "metadata": {},
   "outputs": [
    {
     "data": {
      "text/html": [
       "<div>\n",
       "<style scoped>\n",
       "    .dataframe tbody tr th:only-of-type {\n",
       "        vertical-align: middle;\n",
       "    }\n",
       "\n",
       "    .dataframe tbody tr th {\n",
       "        vertical-align: top;\n",
       "    }\n",
       "\n",
       "    .dataframe thead th {\n",
       "        text-align: right;\n",
       "    }\n",
       "</style>\n",
       "<table border=\"1\" class=\"dataframe\">\n",
       "  <thead>\n",
       "    <tr style=\"text-align: right;\">\n",
       "      <th></th>\n",
       "      <th>moon</th>\n",
       "      <th>id</th>\n",
       "      <th>prediction</th>\n",
       "    </tr>\n",
       "  </thead>\n",
       "  <tbody>\n",
       "    <tr>\n",
       "      <th>0</th>\n",
       "      <td>54</td>\n",
       "      <td>59560</td>\n",
       "      <td>0.007896</td>\n",
       "    </tr>\n",
       "    <tr>\n",
       "      <th>1</th>\n",
       "      <td>54</td>\n",
       "      <td>59559</td>\n",
       "      <td>0.008742</td>\n",
       "    </tr>\n",
       "    <tr>\n",
       "      <th>2</th>\n",
       "      <td>54</td>\n",
       "      <td>59558</td>\n",
       "      <td>0.007729</td>\n",
       "    </tr>\n",
       "    <tr>\n",
       "      <th>3</th>\n",
       "      <td>54</td>\n",
       "      <td>59557</td>\n",
       "      <td>0.007584</td>\n",
       "    </tr>\n",
       "    <tr>\n",
       "      <th>4</th>\n",
       "      <td>54</td>\n",
       "      <td>59556</td>\n",
       "      <td>0.007896</td>\n",
       "    </tr>\n",
       "    <tr>\n",
       "      <th>...</th>\n",
       "      <td>...</td>\n",
       "      <td>...</td>\n",
       "      <td>...</td>\n",
       "    </tr>\n",
       "    <tr>\n",
       "      <th>239668</th>\n",
       "      <td>272</td>\n",
       "      <td>297686</td>\n",
       "      <td>0.007286</td>\n",
       "    </tr>\n",
       "    <tr>\n",
       "      <th>239669</th>\n",
       "      <td>272</td>\n",
       "      <td>297685</td>\n",
       "      <td>0.006645</td>\n",
       "    </tr>\n",
       "    <tr>\n",
       "      <th>239670</th>\n",
       "      <td>272</td>\n",
       "      <td>297684</td>\n",
       "      <td>0.005971</td>\n",
       "    </tr>\n",
       "    <tr>\n",
       "      <th>239671</th>\n",
       "      <td>272</td>\n",
       "      <td>297683</td>\n",
       "      <td>0.006253</td>\n",
       "    </tr>\n",
       "    <tr>\n",
       "      <th>239672</th>\n",
       "      <td>272</td>\n",
       "      <td>297688</td>\n",
       "      <td>0.007177</td>\n",
       "    </tr>\n",
       "  </tbody>\n",
       "</table>\n",
       "<p>239673 rows × 3 columns</p>\n",
       "</div>"
      ],
      "text/plain": [
       "        moon      id  prediction\n",
       "0         54   59560    0.007896\n",
       "1         54   59559    0.008742\n",
       "2         54   59558    0.007729\n",
       "3         54   59557    0.007584\n",
       "4         54   59556    0.007896\n",
       "...      ...     ...         ...\n",
       "239668   272  297686    0.007286\n",
       "239669   272  297685    0.006645\n",
       "239670   272  297684    0.005971\n",
       "239671   272  297683    0.006253\n",
       "239672   272  297688    0.007177\n",
       "\n",
       "[239673 rows x 3 columns]"
      ]
     },
     "execution_count": 22,
     "metadata": {},
     "output_type": "execute_result"
    }
   ],
   "source": [
    "res"
   ]
  },
  {
   "cell_type": "code",
   "execution_count": 23,
   "metadata": {},
   "outputs": [],
   "source": [
    "# Get the alpha score on the overall predictions\n",
    "alpha_score = crunch.alpha_score(res[['moon', 'id', 'prediction']].copy())"
   ]
  },
  {
   "cell_type": "code",
   "execution_count": 24,
   "metadata": {},
   "outputs": [
    {
     "name": "stdout",
     "output_type": "stream",
     "text": [
      "Alpha Scores:       alpha-score\n",
      "moon             \n",
      "54      -0.001812\n",
      "55      -0.005056\n",
      "56       0.002125\n",
      "57      -0.002154\n",
      "58      -0.003002\n",
      "...           ...\n",
      "268     -0.003500\n",
      "269      0.006113\n",
      "270     -0.017171\n",
      "271     -0.010695\n",
      "272      0.005804\n",
      "\n",
      "[219 rows x 1 columns]\n",
      "Alpha Score Cumulative Product:       alpha-score\n",
      "moon             \n",
      "54      -0.001812\n",
      "55      -0.006858\n",
      "56      -0.004748\n",
      "57      -0.006892\n",
      "58      -0.009873\n",
      "...           ...\n",
      "268     -0.019843\n",
      "269     -0.013851\n",
      "270     -0.030784\n",
      "271     -0.041150\n",
      "272     -0.035586\n",
      "\n",
      "[219 rows x 1 columns]\n",
      "Alpha Score Sharpe: alpha-score   -0.081255\n",
      "dtype: float64\n"
     ]
    }
   ],
   "source": [
    "cumprod = np.cumprod(alpha_score + 1) - 1\n",
    "sharpe = alpha_score.mean() / alpha_score.std() * np.sqrt(52)\n",
    "\n",
    "print(f\"Alpha Scores: {alpha_score}\")\n",
    "print(f\"Alpha Score Cumulative Product: {cumprod}\")\n",
    "print(f\"Alpha Score Sharpe: {sharpe}\")"
   ]
  },
  {
   "cell_type": "code",
   "execution_count": 25,
   "metadata": {},
   "outputs": [
    {
     "data": {
      "image/png": "[encoded data removed]",
      "text/plain": [
       "<Figure size 1500x400 with 1 Axes>"
      ]
     },
     "metadata": {},
     "output_type": "display_data"
    }
   ],
   "source": [
    "# Show the cumulative product of the alpha score\n",
    "cumprod.plot(title=f'Cumulative Product of the Alpha Score (sharpe: {sharpe})', figsize=(15, 4), grid=True)\n",
    "plt.show()"
   ]
  },
  {
   "cell_type": "markdown",
   "metadata": {},
   "source": [
    "This vanilla batched boosting estimator doesn't seem to perform here. Try to find a better model!"
   ]
  },
  {
   "cell_type": "markdown",
   "metadata": {},
   "source": [
    "# Test your model"
   ]
  },
  {
   "cell_type": "code",
   "execution_count": null,
   "metadata": {},
   "outputs": [],
   "source": [
    "crunch.test()"
   ]
  },
  {
   "cell_type": "markdown",
   "metadata": {},
   "source": [
    "# Submit your model"
   ]
  },
  {
   "cell_type": "markdown",
   "metadata": {},
   "source": [
    "## Through the API"
   ]
  },
  {
   "cell_type": "code",
   "execution_count": 26,
   "metadata": {},
   "outputs": [],
   "source": [
    "# Save the libraries in a requirements.txt file \n",
    "libraries = ['joblib', 'pandas', 'numpy', 'xgboost', 'readwrite', 'tqdm', 'matplotlib']\n",
    "with open('requirements.txt', 'w') as f:\n",
    "    for lib in libraries:\n",
    "        f.write(f\"{lib}\\n\")"
   ]
  },
  {
   "cell_type": "code",
   "execution_count": 27,
   "metadata": {},
   "outputs": [
    {
     "name": "stdout",
     "output_type": "stream",
     "text": [
      "convert cell_0 skip since not code: markdown\n",
      "convert cell_1 skip since not code: markdown\n",
      "convert cell_2 skip since not code: markdown\n",
      "convert cell_3 skip since not code: markdown\n",
      "convert cell_4 skip since empty (without !bash, %magic and #comment)\n",
      "convert cell_5 skip since not code: markdown\n",
      "convert cell_6 skip since not code: markdown\n",
      "convert cell_7 skip since empty (without !bash, %magic and #comment)\n",
      "convert cell_8 used 9/9 node(s)\n",
      "convert cell_9 skip since not code: markdown\n",
      "convert cell_10 skip since no valid node\n",
      "convert cell_11 skip since not code: markdown\n",
      "convert cell_12 skip since not code: markdown\n",
      "convert cell_13 used 1/1 node(s)\n",
      "convert cell_14 skip since not code: markdown\n",
      "convert cell_15 skip since not code: markdown\n",
      "convert cell_16 used 1/1 node(s)\n",
      "convert cell_17 skip since not code: markdown\n",
      "convert cell_18 skip since no valid node\n",
      "convert cell_19 used 1/1 node(s)\n",
      "convert cell_20 skip since not code: markdown\n",
      "convert cell_21 skip since no valid node\n",
      "convert cell_22 skip since not code: markdown\n",
      "convert cell_23 skip since no valid node\n",
      "convert cell_24 skip since no valid node\n",
      "convert cell_25 skip since no valid node\n",
      "convert cell_26 skip since no valid node\n",
      "convert cell_27 skip since no valid node\n",
      "convert cell_28 skip since not code: markdown\n",
      "convert cell_29 skip since not code: markdown\n",
      "convert cell_30 skip since not code: markdown\n",
      "convert cell_31 skip since no valid node\n",
      "convert cell_32 skip since no valid node\n",
      "convert cell_33 skip since not code: markdown\n",
      "found project: /home/jovyan/work/quickstarters/competitions/datacrunch-rally/quickstarter\n",
      "compress requirements.txt\n",
      "compress quickstarter.ipynb\n",
      "compress quickstarter.json\n",
      "compress main.py\n",
      "compress .gitignore\n",
      "model model.joblib\n",
      "model quickstarter_predictions.parquet\n",
      "export datacrunch-rally:project/1713\n",
      "create\n",
      "\n",
      "---\n",
      "submission #5 succesfully uploaded!\n",
      "Find it on your dashboard: https://hub.crunchdao.com/competitions/datacrunch-rally/projects/1713/submissions/5\n"
     ]
    }
   ],
   "source": [
    "# NOTE: this cell does not work in Google Colab\n",
    "\n",
    "# Convert the notebook to a .py file\n",
    "!crunch convert --override quickstarter.ipynb main.py\n",
    "# Push your code to the platform\n",
    "!crunch push --message \"Quickstarter datacrunch\""
   ]
  },
  {
   "cell_type": "markdown",
   "metadata": {},
   "source": [
    "## Through the website\n",
    "\n",
    "Deposit this notebook in the submit window of the competition: https://hub.crunchdao.com/competitions/datacrunch-rally/submit/via/notebook"
   ]
  }
 ],
 "metadata": {
  "kernelspec": {
   "display_name": "Python 3 (ipykernel)",
   "language": "python",
   "name": "python3"
  },
  "language_info": {
   "codemirror_mode": {
    "name": "ipython",
    "version": 3
   },
   "file_extension": ".py",
   "mimetype": "text/x-python",
   "name": "python",
   "nbconvert_exporter": "python",
   "pygments_lexer": "ipython3",
   "version": "3.10.11"
  }
 },
 "nbformat": 4,
 "nbformat_minor": 4
}
