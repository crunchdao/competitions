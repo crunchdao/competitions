{
 "cells": [
  {
   "cell_type": "markdown",
   "metadata": {},
   "source": "[![Open In Colab](https://colab.research.google.com/assets/colab-badge.svg)](https://colab.research.google.com/github/crunchdao/quickstarters/blob/master/competitions/broad-2/quickstarters/random-submission/random-submission.ipynb)"
  },
  {
   "cell_type": "markdown",
   "metadata": {},
   "source": "![Cover](https://raw.githubusercontent.com/crunchdao/quickstarters/refs/heads/master/competitions/broad-1/cover.jpg)"
  },
  {
   "cell_type": "code",
   "metadata": {},
   "source": "%pip install --upgrade crunch-cli",
   "outputs": [],
   "execution_count": null
  },
  {
   "cell_type": "markdown",
   "metadata": {},
   "source": "Get a new token: https://hub.crunchdao.com/competitions/broad-2/submit/via/notebook"
  },
  {
   "cell_type": "code",
   "metadata": {},
   "source": [
    "!pip install spatialdata"
   ],
   "outputs": [],
   "execution_count": null
  },
  {
   "cell_type": "code",
   "metadata": {
    "ExecuteTime": {
     "end_time": "2024-11-14T15:48:32.912791Z",
     "start_time": "2024-11-14T15:48:24.845092Z"
    }
   },
   "source": [
    "import spatialdata\n",
    "import scanpy\n",
    "import numpy\n",
    "import pandas\n",
    "import os"
   ],
   "outputs": [],
   "execution_count": 1
  },
  {
   "cell_type": "code",
   "metadata": {},
   "source": [
    "import crunch\n",
    "crunch = crunch.load_notebook()"
   ],
   "outputs": [],
   "execution_count": null
  },
  {
   "cell_type": "code",
   "metadata": {
    "ExecuteTime": {
     "end_time": "2024-11-14T14:37:56.606276Z",
     "start_time": "2024-11-14T14:37:56.601999Z"
    }
   },
   "source": [
    "# In the training function, users build and train the model to make inferences on the test data.\n",
    "# Your model must be stored in the resources/ directory.\n",
    "def train(\n",
    "    train_directory_path: str\n",
    "):\n",
    "    # no train\n",
    "    print(train_directory_path)"
   ],
   "outputs": [],
   "execution_count": 3
  },
  {
   "cell_type": "code",
   "metadata": {
    "ExecuteTime": {
     "end_time": "2024-11-14T14:37:58.616475Z",
     "start_time": "2024-11-14T14:37:58.610841Z"
    }
   },
   "source": [
    "import itertools\n",
    "\n",
    "\n",
    "# In the inference function, the trained model is loaded and used to make inferences on a\n",
    "# sample of data that matches the characteristics of the training test.\n",
    "def infer(\n",
    "    data_file_path: str,\n",
    "):\n",
    "    data_path = os.path.dirname(data_file_path)\n",
    "    print(data_file_path)\n",
    "    print(data_path)\n",
    "    if not hasattr(infer, \"scRNAseq\"):\n",
    "        display('loading scRNAseq data')\n",
    "        infer.scRNAseq = scanpy.read_h5ad(f'{data_path}/Crunch2_scRNAseq.h5ad') \n",
    "                \n",
    "    if not hasattr(infer, \"gene_list\"):\n",
    "        display('loading Genes to predict')\n",
    "        infer.genes_to_predict = pandas.read_csv(f'{data_path}/Crunch2_gene_list.csv')        \n",
    "    \n",
    "    sdata = spatialdata.read_zarr(data_file_path)\n",
    "    cell_ids = sdata[\"cell_id-group\"].obs.query(\"group == 'test' or group == 'validation'\")[\"cell_id\"]\n",
    "    gene_names = infer.genes_to_predict['gene_symbols']\n",
    "    \n",
    "    values = numpy.random.rand(len(cell_ids), len(gene_names))\n",
    "    numpy.round(values, 2, out=values)\n",
    "    prediction = pandas.DataFrame(values, index=cell_ids, columns=gene_names)\n",
    "        \n",
    "    \n",
    "    return prediction"
   ],
   "outputs": [],
   "execution_count": 4
  },
  {
   "metadata": {},
   "cell_type": "code",
   "source": [
    "# This command is running a local test with your submission\n",
    "# making sure that your submission can be accepted by the system\n",
    "crunch.test(\n",
    "    no_determinism_check=True,\n",
    ")"
   ],
   "outputs": [],
   "execution_count": null
  },
  {
   "cell_type": "markdown",
   "metadata": {},
   "source": "Now remember to download this notebook and then submit it at https://hub.crunchdao.com/competitions/broad-2/submit/"
  },
  {
   "cell_type": "markdown",
   "metadata": {},
   "source": []
  }
 ],
 "metadata": {
  "kernelspec": {
   "display_name": "Python 3",
   "language": "python",
   "name": "python3"
  },
  "language_info": {
   "codemirror_mode": {
    "name": "ipython",
    "version": 3
   },
   "file_extension": ".py",
   "mimetype": "text/x-python",
   "name": "python",
   "nbconvert_exporter": "python",
   "pygments_lexer": "ipython3",
   "version": "3.10.11"
  }
 },
 "nbformat": 4,
 "nbformat_minor": 2
}
