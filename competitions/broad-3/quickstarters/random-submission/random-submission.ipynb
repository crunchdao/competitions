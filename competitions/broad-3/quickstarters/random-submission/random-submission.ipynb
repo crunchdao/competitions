{
 "cells": [
  {
   "cell_type": "markdown",
   "metadata": {},
   "source": "[![Open In Colab](https://colab.research.google.com/assets/colab-badge.svg)](https://colab.research.google.com/github/crunchdao/quickstarters/blob/master/competitions/broad-3/quickstarters/random-submission/random-submission.ipynb)"
  },
  {
   "cell_type": "markdown",
   "metadata": {},
   "source": "![Cover](https://raw.githubusercontent.com/crunchdao/competitions/refs/heads/master/competitions/broad-3/assets/cover.png)"
  },
  {
   "cell_type": "code",
   "metadata": {
    "ExecuteTime": {
     "end_time": "2024-12-09T19:27:17.583738Z",
     "start_time": "2024-12-09T19:27:07.357972Z"
    }
   },
   "source": [
    "%pip install --upgrade crunch-cli"
   ],
   "outputs": [
    {
     "name": "stdout",
     "output_type": "stream",
     "text": [
      "Requirement already satisfied: crunch-cli in /Users/aboutrig/miniconda3/lib/python3.12/site-packages (5.4.2)\r\n",
      "Collecting crunch-cli\r\n",
      "  Downloading crunch_cli-5.7.0-py3-none-any.whl.metadata (3.1 kB)\r\n",
      "Requirement already satisfied: click in /Users/aboutrig/miniconda3/lib/python3.12/site-packages (from crunch-cli) (8.1.7)\r\n",
      "Requirement already satisfied: coloredlogs in /Users/aboutrig/miniconda3/lib/python3.12/site-packages (from crunch-cli) (15.0.1)\r\n",
      "Requirement already satisfied: dataclasses_json in /Users/aboutrig/miniconda3/lib/python3.12/site-packages (from crunch-cli) (0.6.7)\r\n",
      "Requirement already satisfied: importlib_metadata in /Users/aboutrig/miniconda3/lib/python3.12/site-packages (from crunch-cli) (8.5.0)\r\n",
      "Requirement already satisfied: inquirer in /Users/aboutrig/miniconda3/lib/python3.12/site-packages (from crunch-cli) (3.4.0)\r\n",
      "Requirement already satisfied: joblib in /Users/aboutrig/miniconda3/lib/python3.12/site-packages (from crunch-cli) (1.4.2)\r\n",
      "Requirement already satisfied: networkx in /Users/aboutrig/miniconda3/lib/python3.12/site-packages (from crunch-cli) (3.4.1)\r\n",
      "Collecting packaging>=24.2 (from crunch-cli)\r\n",
      "  Downloading packaging-24.2-py3-none-any.whl.metadata (3.2 kB)\r\n",
      "Requirement already satisfied: pandas in /Users/aboutrig/miniconda3/lib/python3.12/site-packages (from crunch-cli) (2.2.2)\r\n",
      "Requirement already satisfied: psutil in /Users/aboutrig/miniconda3/lib/python3.12/site-packages (from crunch-cli) (5.9.0)\r\n",
      "Requirement already satisfied: pyarrow in /Users/aboutrig/miniconda3/lib/python3.12/site-packages (from crunch-cli) (17.0.0)\r\n",
      "Requirement already satisfied: pytest in /Users/aboutrig/miniconda3/lib/python3.12/site-packages (from crunch-cli) (8.3.3)\r\n",
      "Requirement already satisfied: python-dotenv in /Users/aboutrig/miniconda3/lib/python3.12/site-packages (from crunch-cli) (1.0.1)\r\n",
      "Requirement already satisfied: pyyaml in /Users/aboutrig/miniconda3/lib/python3.12/site-packages (from crunch-cli) (6.0.2)\r\n",
      "Collecting redbaron (from crunch-cli)\r\n",
      "  Downloading redbaron-0.9.2-py2.py3-none-any.whl.metadata (15 kB)\r\n",
      "Requirement already satisfied: requests in /Users/aboutrig/miniconda3/lib/python3.12/site-packages (from crunch-cli) (2.31.0)\r\n",
      "Requirement already satisfied: requests-toolbelt in /Users/aboutrig/miniconda3/lib/python3.12/site-packages (from crunch-cli) (1.0.0)\r\n",
      "Requirement already satisfied: requirements-parser in /Users/aboutrig/miniconda3/lib/python3.12/site-packages (from crunch-cli) (0.11.0)\r\n",
      "Requirement already satisfied: scikit-learn in /Users/aboutrig/miniconda3/lib/python3.12/site-packages (from crunch-cli) (1.5.2)\r\n",
      "Requirement already satisfied: scipy in /Users/aboutrig/miniconda3/lib/python3.12/site-packages (from crunch-cli) (1.14.1)\r\n",
      "Requirement already satisfied: tqdm in /Users/aboutrig/miniconda3/lib/python3.12/site-packages (from crunch-cli) (4.65.0)\r\n",
      "Requirement already satisfied: spatialdata-plot in /Users/aboutrig/miniconda3/lib/python3.12/site-packages (from crunch-cli) (0.2.6)\r\n",
      "Requirement already satisfied: humanfriendly>=9.1 in /Users/aboutrig/miniconda3/lib/python3.12/site-packages (from coloredlogs->crunch-cli) (10.0)\r\n",
      "Requirement already satisfied: marshmallow<4.0.0,>=3.18.0 in /Users/aboutrig/miniconda3/lib/python3.12/site-packages (from dataclasses_json->crunch-cli) (3.23.0)\r\n",
      "Requirement already satisfied: typing-inspect<1,>=0.4.0 in /Users/aboutrig/miniconda3/lib/python3.12/site-packages (from dataclasses_json->crunch-cli) (0.9.0)\r\n",
      "Requirement already satisfied: zipp>=3.20 in /Users/aboutrig/miniconda3/lib/python3.12/site-packages (from importlib_metadata->crunch-cli) (3.20.2)\r\n",
      "Requirement already satisfied: blessed>=1.19.0 in /Users/aboutrig/miniconda3/lib/python3.12/site-packages (from inquirer->crunch-cli) (1.20.0)\r\n",
      "Requirement already satisfied: editor>=1.6.0 in /Users/aboutrig/miniconda3/lib/python3.12/site-packages (from inquirer->crunch-cli) (1.6.6)\r\n",
      "Requirement already satisfied: readchar>=4.2.0 in /Users/aboutrig/miniconda3/lib/python3.12/site-packages (from inquirer->crunch-cli) (4.2.0)\r\n",
      "Requirement already satisfied: numpy>=1.26.0 in /Users/aboutrig/miniconda3/lib/python3.12/site-packages (from pandas->crunch-cli) (1.26.4)\r\n",
      "Requirement already satisfied: python-dateutil>=2.8.2 in /Users/aboutrig/miniconda3/lib/python3.12/site-packages (from pandas->crunch-cli) (2.9.0.post0)\r\n",
      "Requirement already satisfied: pytz>=2020.1 in /Users/aboutrig/miniconda3/lib/python3.12/site-packages (from pandas->crunch-cli) (2024.1)\r\n",
      "Requirement already satisfied: tzdata>=2022.7 in /Users/aboutrig/miniconda3/lib/python3.12/site-packages (from pandas->crunch-cli) (2023.3)\r\n",
      "Requirement already satisfied: iniconfig in /Users/aboutrig/miniconda3/lib/python3.12/site-packages (from pytest->crunch-cli) (2.0.0)\r\n",
      "Requirement already satisfied: pluggy<2,>=1.5 in /Users/aboutrig/miniconda3/lib/python3.12/site-packages (from pytest->crunch-cli) (1.5.0)\r\n",
      "Collecting baron>=0.7 (from redbaron->crunch-cli)\r\n",
      "  Downloading baron-0.10.1-py2.py3-none-any.whl.metadata (16 kB)\r\n",
      "Requirement already satisfied: charset-normalizer<4,>=2 in /Users/aboutrig/miniconda3/lib/python3.12/site-packages (from requests->crunch-cli) (2.0.4)\r\n",
      "Requirement already satisfied: idna<4,>=2.5 in /Users/aboutrig/miniconda3/lib/python3.12/site-packages (from requests->crunch-cli) (3.4)\r\n",
      "Requirement already satisfied: urllib3<3,>=1.21.1 in /Users/aboutrig/miniconda3/lib/python3.12/site-packages (from requests->crunch-cli) (1.26.20)\r\n",
      "Requirement already satisfied: certifi>=2017.4.17 in /Users/aboutrig/miniconda3/lib/python3.12/site-packages (from requests->crunch-cli) (2024.8.30)\r\n",
      "Requirement already satisfied: types-setuptools>=69.1.0 in /Users/aboutrig/miniconda3/lib/python3.12/site-packages (from requirements-parser->crunch-cli) (75.2.0.20241025)\r\n",
      "Requirement already satisfied: threadpoolctl>=3.1.0 in /Users/aboutrig/miniconda3/lib/python3.12/site-packages (from scikit-learn->crunch-cli) (3.5.0)\r\n",
      "Requirement already satisfied: matplotlib in /Users/aboutrig/miniconda3/lib/python3.12/site-packages (from spatialdata-plot->crunch-cli) (3.9.2)\r\n",
      "Requirement already satisfied: matplotlib-scalebar in /Users/aboutrig/miniconda3/lib/python3.12/site-packages (from spatialdata-plot->crunch-cli) (0.8.1)\r\n",
      "Requirement already satisfied: scanpy in /Users/aboutrig/miniconda3/lib/python3.12/site-packages (from spatialdata-plot->crunch-cli) (1.10.3)\r\n",
      "Requirement already satisfied: spatialdata>=0.2.1 in /Users/aboutrig/miniconda3/lib/python3.12/site-packages (from spatialdata-plot->crunch-cli) (0.2.3)\r\n",
      "Collecting rply (from baron>=0.7->redbaron->crunch-cli)\r\n",
      "  Downloading rply-0.7.8-py2.py3-none-any.whl.metadata (4.2 kB)\r\n",
      "Requirement already satisfied: wcwidth>=0.1.4 in /Users/aboutrig/miniconda3/lib/python3.12/site-packages (from blessed>=1.19.0->inquirer->crunch-cli) (0.2.5)\r\n",
      "Requirement already satisfied: six>=1.9.0 in /Users/aboutrig/miniconda3/lib/python3.12/site-packages (from blessed>=1.19.0->inquirer->crunch-cli) (1.16.0)\r\n",
      "Requirement already satisfied: runs in /Users/aboutrig/miniconda3/lib/python3.12/site-packages (from editor>=1.6.0->inquirer->crunch-cli) (1.2.2)\r\n",
      "Requirement already satisfied: xmod in /Users/aboutrig/miniconda3/lib/python3.12/site-packages (from editor>=1.6.0->inquirer->crunch-cli) (1.8.1)\r\n",
      "Requirement already satisfied: anndata>=0.9.1 in /Users/aboutrig/miniconda3/lib/python3.12/site-packages (from spatialdata>=0.2.1->spatialdata-plot->crunch-cli) (0.10.9)\r\n",
      "Requirement already satisfied: dask-image in /Users/aboutrig/miniconda3/lib/python3.12/site-packages (from spatialdata>=0.2.1->spatialdata-plot->crunch-cli) (2024.5.3)\r\n",
      "Requirement already satisfied: dask>=2024.4.1 in /Users/aboutrig/miniconda3/lib/python3.12/site-packages (from spatialdata>=0.2.1->spatialdata-plot->crunch-cli) (2024.10.0)\r\n",
      "Requirement already satisfied: fsspec<=2023.6 in /Users/aboutrig/miniconda3/lib/python3.12/site-packages (from spatialdata>=0.2.1->spatialdata-plot->crunch-cli) (2023.6.0)\r\n",
      "Requirement already satisfied: geopandas>=0.14 in /Users/aboutrig/miniconda3/lib/python3.12/site-packages (from spatialdata>=0.2.1->spatialdata-plot->crunch-cli) (1.0.1)\r\n",
      "Requirement already satisfied: multiscale-spatial-image>=1.0.0 in /Users/aboutrig/miniconda3/lib/python3.12/site-packages (from spatialdata>=0.2.1->spatialdata-plot->crunch-cli) (1.0.1)\r\n",
      "Requirement already satisfied: ome-zarr>=0.8.4 in /Users/aboutrig/miniconda3/lib/python3.12/site-packages (from spatialdata>=0.2.1->spatialdata-plot->crunch-cli) (0.9.0)\r\n",
      "Requirement already satisfied: pooch in /Users/aboutrig/miniconda3/lib/python3.12/site-packages (from spatialdata>=0.2.1->spatialdata-plot->crunch-cli) (1.8.2)\r\n",
      "Requirement already satisfied: rich in /Users/aboutrig/miniconda3/lib/python3.12/site-packages (from spatialdata>=0.2.1->spatialdata-plot->crunch-cli) (13.9.2)\r\n",
      "Requirement already satisfied: scikit-image in /Users/aboutrig/miniconda3/lib/python3.12/site-packages (from spatialdata>=0.2.1->spatialdata-plot->crunch-cli) (0.24.0)\r\n",
      "Requirement already satisfied: setuptools in /Users/aboutrig/miniconda3/lib/python3.12/site-packages (from spatialdata>=0.2.1->spatialdata-plot->crunch-cli) (68.2.2)\r\n",
      "Requirement already satisfied: shapely>=2.0.1 in /Users/aboutrig/miniconda3/lib/python3.12/site-packages (from spatialdata>=0.2.1->spatialdata-plot->crunch-cli) (2.0.6)\r\n",
      "Requirement already satisfied: spatial-image>=1.0.0 in /Users/aboutrig/miniconda3/lib/python3.12/site-packages (from spatialdata>=0.2.1->spatialdata-plot->crunch-cli) (1.1.0)\r\n",
      "Requirement already satisfied: typing-extensions>=4.8.0 in /Users/aboutrig/miniconda3/lib/python3.12/site-packages (from spatialdata>=0.2.1->spatialdata-plot->crunch-cli) (4.11.0)\r\n",
      "Requirement already satisfied: xarray in /Users/aboutrig/miniconda3/lib/python3.12/site-packages (from spatialdata>=0.2.1->spatialdata-plot->crunch-cli) (2024.9.0)\r\n",
      "Requirement already satisfied: xarray-datatree in /Users/aboutrig/miniconda3/lib/python3.12/site-packages (from spatialdata>=0.2.1->spatialdata-plot->crunch-cli) (0.0.14)\r\n",
      "Requirement already satisfied: xarray-schema in /Users/aboutrig/miniconda3/lib/python3.12/site-packages (from spatialdata>=0.2.1->spatialdata-plot->crunch-cli) (0.0.3)\r\n",
      "Requirement already satisfied: xarray-spatial>=0.3.5 in /Users/aboutrig/miniconda3/lib/python3.12/site-packages (from spatialdata>=0.2.1->spatialdata-plot->crunch-cli) (0.4.0)\r\n",
      "Requirement already satisfied: zarr in /Users/aboutrig/miniconda3/lib/python3.12/site-packages (from spatialdata>=0.2.1->spatialdata-plot->crunch-cli) (2.18.3)\r\n",
      "Requirement already satisfied: mypy-extensions>=0.3.0 in /Users/aboutrig/miniconda3/lib/python3.12/site-packages (from typing-inspect<1,>=0.4.0->dataclasses_json->crunch-cli) (1.0.0)\r\n",
      "Requirement already satisfied: contourpy>=1.0.1 in /Users/aboutrig/miniconda3/lib/python3.12/site-packages (from matplotlib->spatialdata-plot->crunch-cli) (1.2.0)\r\n",
      "Requirement already satisfied: cycler>=0.10 in /Users/aboutrig/miniconda3/lib/python3.12/site-packages (from matplotlib->spatialdata-plot->crunch-cli) (0.11.0)\r\n",
      "Requirement already satisfied: fonttools>=4.22.0 in /Users/aboutrig/miniconda3/lib/python3.12/site-packages (from matplotlib->spatialdata-plot->crunch-cli) (4.51.0)\r\n",
      "Requirement already satisfied: kiwisolver>=1.3.1 in /Users/aboutrig/miniconda3/lib/python3.12/site-packages (from matplotlib->spatialdata-plot->crunch-cli) (1.4.4)\r\n",
      "Requirement already satisfied: pillow>=8 in /Users/aboutrig/miniconda3/lib/python3.12/site-packages (from matplotlib->spatialdata-plot->crunch-cli) (10.4.0)\r\n",
      "Requirement already satisfied: pyparsing>=2.3.1 in /Users/aboutrig/miniconda3/lib/python3.12/site-packages (from matplotlib->spatialdata-plot->crunch-cli) (3.1.2)\r\n",
      "Requirement already satisfied: h5py>=3.1 in /Users/aboutrig/miniconda3/lib/python3.12/site-packages (from scanpy->spatialdata-plot->crunch-cli) (3.12.1)\r\n",
      "Requirement already satisfied: legacy-api-wrap>=1.4 in /Users/aboutrig/miniconda3/lib/python3.12/site-packages (from scanpy->spatialdata-plot->crunch-cli) (1.4)\r\n",
      "Requirement already satisfied: natsort in /Users/aboutrig/miniconda3/lib/python3.12/site-packages (from scanpy->spatialdata-plot->crunch-cli) (8.4.0)\r\n",
      "Requirement already satisfied: numba>=0.56 in /Users/aboutrig/miniconda3/lib/python3.12/site-packages (from scanpy->spatialdata-plot->crunch-cli) (0.60.0)\r\n",
      "Requirement already satisfied: patsy in /Users/aboutrig/miniconda3/lib/python3.12/site-packages (from scanpy->spatialdata-plot->crunch-cli) (0.5.6)\r\n",
      "Requirement already satisfied: pynndescent>=0.5 in /Users/aboutrig/miniconda3/lib/python3.12/site-packages (from scanpy->spatialdata-plot->crunch-cli) (0.5.13)\r\n",
      "Requirement already satisfied: seaborn>=0.13 in /Users/aboutrig/miniconda3/lib/python3.12/site-packages (from scanpy->spatialdata-plot->crunch-cli) (0.13.2)\r\n",
      "Requirement already satisfied: session-info in /Users/aboutrig/miniconda3/lib/python3.12/site-packages (from scanpy->spatialdata-plot->crunch-cli) (1.0.0)\r\n",
      "Requirement already satisfied: statsmodels>=0.13 in /Users/aboutrig/miniconda3/lib/python3.12/site-packages (from scanpy->spatialdata-plot->crunch-cli) (0.14.4)\r\n",
      "Requirement already satisfied: umap-learn!=0.5.0,>=0.5 in /Users/aboutrig/miniconda3/lib/python3.12/site-packages (from scanpy->spatialdata-plot->crunch-cli) (0.5.6)\r\n",
      "Requirement already satisfied: array-api-compat!=1.5,>1.4 in /Users/aboutrig/miniconda3/lib/python3.12/site-packages (from anndata>=0.9.1->spatialdata>=0.2.1->spatialdata-plot->crunch-cli) (1.9)\r\n",
      "Requirement already satisfied: cloudpickle>=3.0.0 in /Users/aboutrig/miniconda3/lib/python3.12/site-packages (from dask>=2024.4.1->spatialdata>=0.2.1->spatialdata-plot->crunch-cli) (3.1.0)\r\n",
      "Requirement already satisfied: partd>=1.4.0 in /Users/aboutrig/miniconda3/lib/python3.12/site-packages (from dask>=2024.4.1->spatialdata>=0.2.1->spatialdata-plot->crunch-cli) (1.4.2)\r\n",
      "Requirement already satisfied: toolz>=0.10.0 in /Users/aboutrig/miniconda3/lib/python3.12/site-packages (from dask>=2024.4.1->spatialdata>=0.2.1->spatialdata-plot->crunch-cli) (1.0.0)\r\n",
      "Requirement already satisfied: pyogrio>=0.7.2 in /Users/aboutrig/miniconda3/lib/python3.12/site-packages (from geopandas>=0.14->spatialdata>=0.2.1->spatialdata-plot->crunch-cli) (0.10.0)\r\n",
      "Requirement already satisfied: pyproj>=3.3.0 in /Users/aboutrig/miniconda3/lib/python3.12/site-packages (from geopandas>=0.14->spatialdata>=0.2.1->spatialdata-plot->crunch-cli) (3.7.0)\r\n",
      "Requirement already satisfied: llvmlite<0.44,>=0.43.0dev0 in /Users/aboutrig/miniconda3/lib/python3.12/site-packages (from numba>=0.56->scanpy->spatialdata-plot->crunch-cli) (0.43.0)\r\n",
      "Requirement already satisfied: aiohttp<4 in /Users/aboutrig/miniconda3/lib/python3.12/site-packages (from ome-zarr>=0.8.4->spatialdata>=0.2.1->spatialdata-plot->crunch-cli) (3.10.10)\r\n",
      "Requirement already satisfied: distributed in /Users/aboutrig/miniconda3/lib/python3.12/site-packages (from ome-zarr>=0.8.4->spatialdata>=0.2.1->spatialdata-plot->crunch-cli) (2024.10.0)\r\n",
      "Requirement already satisfied: xarray-dataclasses>=1.1.0 in /Users/aboutrig/miniconda3/lib/python3.12/site-packages (from spatial-image>=1.0.0->spatialdata>=0.2.1->spatialdata-plot->crunch-cli) (1.8.0)\r\n",
      "Requirement already satisfied: datashader>=0.15.0 in /Users/aboutrig/miniconda3/lib/python3.12/site-packages (from xarray-spatial>=0.3.5->spatialdata>=0.2.1->spatialdata-plot->crunch-cli) (0.16.3)\r\n",
      "Requirement already satisfied: asciitree in /Users/aboutrig/miniconda3/lib/python3.12/site-packages (from zarr->spatialdata>=0.2.1->spatialdata-plot->crunch-cli) (0.3.3)\r\n",
      "Requirement already satisfied: numcodecs>=0.10.0 in /Users/aboutrig/miniconda3/lib/python3.12/site-packages (from zarr->spatialdata>=0.2.1->spatialdata-plot->crunch-cli) (0.13.1)\r\n",
      "Requirement already satisfied: fasteners in /Users/aboutrig/miniconda3/lib/python3.12/site-packages (from zarr->spatialdata>=0.2.1->spatialdata-plot->crunch-cli) (0.19)\r\n",
      "Requirement already satisfied: pims>=0.4.1 in /Users/aboutrig/miniconda3/lib/python3.12/site-packages (from dask-image->spatialdata>=0.2.1->spatialdata-plot->crunch-cli) (0.7)\r\n",
      "Requirement already satisfied: tifffile>=2018.10.18 in /Users/aboutrig/miniconda3/lib/python3.12/site-packages (from dask-image->spatialdata>=0.2.1->spatialdata-plot->crunch-cli) (2024.9.20)\r\n",
      "Requirement already satisfied: platformdirs>=2.5.0 in /Users/aboutrig/miniconda3/lib/python3.12/site-packages (from pooch->spatialdata>=0.2.1->spatialdata-plot->crunch-cli) (3.10.0)\r\n",
      "Requirement already satisfied: markdown-it-py>=2.2.0 in /Users/aboutrig/miniconda3/lib/python3.12/site-packages (from rich->spatialdata>=0.2.1->spatialdata-plot->crunch-cli) (3.0.0)\r\n",
      "Requirement already satisfied: pygments<3.0.0,>=2.13.0 in /Users/aboutrig/miniconda3/lib/python3.12/site-packages (from rich->spatialdata>=0.2.1->spatialdata-plot->crunch-cli) (2.15.1)\r\n",
      "Collecting appdirs (from rply->baron>=0.7->redbaron->crunch-cli)\r\n",
      "  Downloading appdirs-1.4.4-py2.py3-none-any.whl.metadata (9.0 kB)\r\n",
      "Requirement already satisfied: imageio>=2.33 in /Users/aboutrig/miniconda3/lib/python3.12/site-packages (from scikit-image->spatialdata>=0.2.1->spatialdata-plot->crunch-cli) (2.36.0)\r\n",
      "Requirement already satisfied: lazy-loader>=0.4 in /Users/aboutrig/miniconda3/lib/python3.12/site-packages (from scikit-image->spatialdata>=0.2.1->spatialdata-plot->crunch-cli) (0.4)\r\n",
      "Requirement already satisfied: stdlib-list in /Users/aboutrig/miniconda3/lib/python3.12/site-packages (from session-info->scanpy->spatialdata-plot->crunch-cli) (0.11.0)\r\n",
      "Requirement already satisfied: aiohappyeyeballs>=2.3.0 in /Users/aboutrig/miniconda3/lib/python3.12/site-packages (from aiohttp<4->ome-zarr>=0.8.4->spatialdata>=0.2.1->spatialdata-plot->crunch-cli) (2.4.3)\r\n",
      "Requirement already satisfied: aiosignal>=1.1.2 in /Users/aboutrig/miniconda3/lib/python3.12/site-packages (from aiohttp<4->ome-zarr>=0.8.4->spatialdata>=0.2.1->spatialdata-plot->crunch-cli) (1.3.1)\r\n",
      "Requirement already satisfied: attrs>=17.3.0 in /Users/aboutrig/miniconda3/lib/python3.12/site-packages (from aiohttp<4->ome-zarr>=0.8.4->spatialdata>=0.2.1->spatialdata-plot->crunch-cli) (24.2.0)\r\n",
      "Requirement already satisfied: frozenlist>=1.1.1 in /Users/aboutrig/miniconda3/lib/python3.12/site-packages (from aiohttp<4->ome-zarr>=0.8.4->spatialdata>=0.2.1->spatialdata-plot->crunch-cli) (1.4.1)\r\n",
      "Requirement already satisfied: multidict<7.0,>=4.5 in /Users/aboutrig/miniconda3/lib/python3.12/site-packages (from aiohttp<4->ome-zarr>=0.8.4->spatialdata>=0.2.1->spatialdata-plot->crunch-cli) (6.1.0)\r\n",
      "Requirement already satisfied: yarl<2.0,>=1.12.0 in /Users/aboutrig/miniconda3/lib/python3.12/site-packages (from aiohttp<4->ome-zarr>=0.8.4->spatialdata>=0.2.1->spatialdata-plot->crunch-cli) (1.15.5)\r\n",
      "Requirement already satisfied: dask-expr<1.2,>=1.1 in /Users/aboutrig/miniconda3/lib/python3.12/site-packages (from dask[array,dataframe]>=2024.4.1->dask-image->spatialdata>=0.2.1->spatialdata-plot->crunch-cli) (1.1.16)\r\n",
      "Requirement already satisfied: colorcet in /Users/aboutrig/miniconda3/lib/python3.12/site-packages (from datashader>=0.15.0->xarray-spatial>=0.3.5->spatialdata>=0.2.1->spatialdata-plot->crunch-cli) (3.1.0)\r\n",
      "Requirement already satisfied: multipledispatch in /Users/aboutrig/miniconda3/lib/python3.12/site-packages (from datashader>=0.15.0->xarray-spatial>=0.3.5->spatialdata>=0.2.1->spatialdata-plot->crunch-cli) (1.0.0)\r\n",
      "Requirement already satisfied: param in /Users/aboutrig/miniconda3/lib/python3.12/site-packages (from datashader>=0.15.0->xarray-spatial>=0.3.5->spatialdata>=0.2.1->spatialdata-plot->crunch-cli) (2.1.1)\r\n",
      "Requirement already satisfied: pyct in /Users/aboutrig/miniconda3/lib/python3.12/site-packages (from datashader>=0.15.0->xarray-spatial>=0.3.5->spatialdata>=0.2.1->spatialdata-plot->crunch-cli) (0.5.0)\r\n",
      "Requirement already satisfied: s3fs in /Users/aboutrig/miniconda3/lib/python3.12/site-packages (from fsspec[s3]!=2021.07.0,>=0.8->ome-zarr>=0.8.4->spatialdata>=0.2.1->spatialdata-plot->crunch-cli) (2023.6.0)\r\n",
      "Requirement already satisfied: mdurl~=0.1 in /Users/aboutrig/miniconda3/lib/python3.12/site-packages (from markdown-it-py>=2.2.0->rich->spatialdata>=0.2.1->spatialdata-plot->crunch-cli) (0.1.2)\r\n",
      "Requirement already satisfied: locket in /Users/aboutrig/miniconda3/lib/python3.12/site-packages (from partd>=1.4.0->dask>=2024.4.1->spatialdata>=0.2.1->spatialdata-plot->crunch-cli) (1.0.0)\r\n",
      "Requirement already satisfied: slicerator>=0.9.8 in /Users/aboutrig/miniconda3/lib/python3.12/site-packages (from pims>=0.4.1->dask-image->spatialdata>=0.2.1->spatialdata-plot->crunch-cli) (1.1.0)\r\n",
      "Requirement already satisfied: jinja2>=2.10.3 in /Users/aboutrig/miniconda3/lib/python3.12/site-packages (from distributed->ome-zarr>=0.8.4->spatialdata>=0.2.1->spatialdata-plot->crunch-cli) (3.1.4)\r\n",
      "Requirement already satisfied: msgpack>=1.0.2 in /Users/aboutrig/miniconda3/lib/python3.12/site-packages (from distributed->ome-zarr>=0.8.4->spatialdata>=0.2.1->spatialdata-plot->crunch-cli) (1.1.0)\r\n",
      "Requirement already satisfied: sortedcontainers>=2.0.5 in /Users/aboutrig/miniconda3/lib/python3.12/site-packages (from distributed->ome-zarr>=0.8.4->spatialdata>=0.2.1->spatialdata-plot->crunch-cli) (2.4.0)\r\n",
      "Requirement already satisfied: tblib>=1.6.0 in /Users/aboutrig/miniconda3/lib/python3.12/site-packages (from distributed->ome-zarr>=0.8.4->spatialdata>=0.2.1->spatialdata-plot->crunch-cli) (3.0.0)\r\n",
      "Requirement already satisfied: tornado>=6.2.0 in /Users/aboutrig/miniconda3/lib/python3.12/site-packages (from distributed->ome-zarr>=0.8.4->spatialdata>=0.2.1->spatialdata-plot->crunch-cli) (6.4.1)\r\n",
      "Requirement already satisfied: zict>=3.0.0 in /Users/aboutrig/miniconda3/lib/python3.12/site-packages (from distributed->ome-zarr>=0.8.4->spatialdata>=0.2.1->spatialdata-plot->crunch-cli) (3.0.0)\r\n",
      "Requirement already satisfied: MarkupSafe>=2.0 in /Users/aboutrig/miniconda3/lib/python3.12/site-packages (from jinja2>=2.10.3->distributed->ome-zarr>=0.8.4->spatialdata>=0.2.1->spatialdata-plot->crunch-cli) (2.1.3)\r\n",
      "Requirement already satisfied: propcache>=0.2.0 in /Users/aboutrig/miniconda3/lib/python3.12/site-packages (from yarl<2.0,>=1.12.0->aiohttp<4->ome-zarr>=0.8.4->spatialdata>=0.2.1->spatialdata-plot->crunch-cli) (0.2.0)\r\n",
      "Requirement already satisfied: aiobotocore~=2.5.0 in /Users/aboutrig/miniconda3/lib/python3.12/site-packages (from s3fs->fsspec[s3]!=2021.07.0,>=0.8->ome-zarr>=0.8.4->spatialdata>=0.2.1->spatialdata-plot->crunch-cli) (2.5.4)\r\n",
      "Requirement already satisfied: botocore<1.31.18,>=1.31.17 in /Users/aboutrig/miniconda3/lib/python3.12/site-packages (from aiobotocore~=2.5.0->s3fs->fsspec[s3]!=2021.07.0,>=0.8->ome-zarr>=0.8.4->spatialdata>=0.2.1->spatialdata-plot->crunch-cli) (1.31.17)\r\n",
      "Requirement already satisfied: wrapt<2.0.0,>=1.10.10 in /Users/aboutrig/miniconda3/lib/python3.12/site-packages (from aiobotocore~=2.5.0->s3fs->fsspec[s3]!=2021.07.0,>=0.8->ome-zarr>=0.8.4->spatialdata>=0.2.1->spatialdata-plot->crunch-cli) (1.16.0)\r\n",
      "Requirement already satisfied: aioitertools<1.0.0,>=0.5.1 in /Users/aboutrig/miniconda3/lib/python3.12/site-packages (from aiobotocore~=2.5.0->s3fs->fsspec[s3]!=2021.07.0,>=0.8->ome-zarr>=0.8.4->spatialdata>=0.2.1->spatialdata-plot->crunch-cli) (0.12.0)\r\n",
      "Requirement already satisfied: jmespath<2.0.0,>=0.7.1 in /Users/aboutrig/miniconda3/lib/python3.12/site-packages (from botocore<1.31.18,>=1.31.17->aiobotocore~=2.5.0->s3fs->fsspec[s3]!=2021.07.0,>=0.8->ome-zarr>=0.8.4->spatialdata>=0.2.1->spatialdata-plot->crunch-cli) (1.0.1)\r\n",
      "Downloading crunch_cli-5.7.0-py3-none-any.whl (103 kB)\r\n",
      "\u001B[2K   \u001B[90m━━━━━━━━━━━━━━━━━━━━━━━━━━━━━━━━━━━━━━━━\u001B[0m \u001B[32m103.9/103.9 kB\u001B[0m \u001B[31m2.1 MB/s\u001B[0m eta \u001B[36m0:00:00\u001B[0m00:01\u001B[0m\r\n",
      "\u001B[?25hDownloading packaging-24.2-py3-none-any.whl (65 kB)\r\n",
      "\u001B[2K   \u001B[90m━━━━━━━━━━━━━━━━━━━━━━━━━━━━━━━━━━━━━━━━\u001B[0m \u001B[32m65.5/65.5 kB\u001B[0m \u001B[31m2.3 MB/s\u001B[0m eta \u001B[36m0:00:00\u001B[0m\r\n",
      "\u001B[?25hDownloading redbaron-0.9.2-py2.py3-none-any.whl (34 kB)\r\n",
      "Downloading baron-0.10.1-py2.py3-none-any.whl (45 kB)\r\n",
      "\u001B[2K   \u001B[90m━━━━━━━━━━━━━━━━━━━━━━━━━━━━━━━━━━━━━━━━\u001B[0m \u001B[32m45.6/45.6 kB\u001B[0m \u001B[31m1.5 MB/s\u001B[0m eta \u001B[36m0:00:00\u001B[0m\r\n",
      "\u001B[?25hDownloading rply-0.7.8-py2.py3-none-any.whl (16 kB)\r\n",
      "Downloading appdirs-1.4.4-py2.py3-none-any.whl (9.6 kB)\r\n",
      "Installing collected packages: appdirs, rply, packaging, baron, redbaron, crunch-cli\r\n",
      "  Attempting uninstall: packaging\r\n",
      "    Found existing installation: packaging 24.1\r\n",
      "    Uninstalling packaging-24.1:\r\n",
      "      Successfully uninstalled packaging-24.1\r\n",
      "  Attempting uninstall: crunch-cli\r\n",
      "    Found existing installation: crunch-cli 5.4.2\r\n",
      "    Uninstalling crunch-cli-5.4.2:\r\n",
      "      Successfully uninstalled crunch-cli-5.4.2\r\n",
      "Successfully installed appdirs-1.4.4 baron-0.10.1 crunch-cli-5.7.0 packaging-24.2 redbaron-0.9.2 rply-0.7.8\r\n",
      "Note: you may need to restart the kernel to use updated packages.\n"
     ]
    }
   ],
   "execution_count": 1
  },
  {
   "cell_type": "markdown",
   "metadata": {},
   "source": "Get a new token: https://hub.crunchdao.com/competitions/broad-3/submit/via/notebook"
  },
  {
   "cell_type": "code",
   "metadata": {
    "ExecuteTime": {
     "end_time": "2024-12-09T19:41:56.448026Z",
     "start_time": "2024-12-09T19:41:52.583653Z"
    }
   },
   "source": [
    "!crunch setup --notebook broad-3 random --token nxUyCVZJwD8up77ZLXhd1ojtMYulv4kAIzhKJzrnuOTwIevqzBc5Eja5WAKgeQ3B\n",
    "\n",
    "# To retrieve a larger dataset, include the --size large argument as shown below:\n",
    "#!crunch setup --notebook --size large broad-3 hello --token aaaabbbbccccddddeeeeffff"
   ],
   "outputs": [
    {
     "name": "stdout",
     "output_type": "stream",
     "text": [
      "\r\n",
      "---\r\n",
      "Your token seems to have expired or is invalid.\r\n",
      "\r\n",
      "Please follow this link to copy and paste your new setup command:\r\n",
      "https://hub.crunchdao.com/competitions/broad-3/submit\r\n",
      "\r\n",
      "If you think that is an error, please contact an administrator.\r\n"
     ]
    }
   ],
   "execution_count": 6
  },
  {
   "cell_type": "code",
   "execution_count": null,
   "metadata": {},
   "outputs": [],
   "source": [
    "!pip install spatialdata"
   ]
  },
  {
   "cell_type": "code",
   "metadata": {
    "ExecuteTime": {
     "end_time": "2024-12-09T19:33:49.654718Z",
     "start_time": "2024-12-09T19:33:42.263642Z"
    }
   },
   "source": [
    "import spatialdata\n",
    "import scanpy\n",
    "import numpy\n",
    "import pandas\n",
    "import os\n",
    "from skimage import io"
   ],
   "outputs": [],
   "execution_count": 1
  },
  {
   "cell_type": "code",
   "metadata": {
    "ExecuteTime": {
     "end_time": "2024-12-09T19:33:57.154505Z",
     "start_time": "2024-12-09T19:33:57.042218Z"
    }
   },
   "source": [
    "import crunch\n",
    "crunch = crunch.load_notebook()"
   ],
   "outputs": [
    {
     "name": "stdout",
     "output_type": "stream",
     "text": [
      "loaded inline runner with module: <module '__main__'>\n"
     ]
    }
   ],
   "execution_count": 2
  },
  {
   "cell_type": "code",
   "metadata": {
    "ExecuteTime": {
     "end_time": "2024-12-09T19:34:00.540167Z",
     "start_time": "2024-12-09T19:34:00.534830Z"
    }
   },
   "source": [
    "# In the training function, users build and train the model to make inferences on the test data.\n",
    "# Your model must be stored in the `model_directory_path`.\n",
    "def train(\n",
    "    data_directory_path: str, \n",
    "    model_directory_path: str\n",
    "):    \n",
    "    # Loading scRNAseq data\n",
    "    # The single-cell RNA sequencing (scRNA-seq) data provides gene expression data \n",
    "    # for 18,615 protein-coding genes from colon tissue samples with and without dysplasia.\n",
    "    scRNAseq = scanpy.read_h5ad(os.path.join(data_directory_path, 'Crunch3_scRNAseq.h5ad'))\n",
    "    \n",
    "    # Loading Spatial Data\n",
    "    # UC9_I.zarr contains H&E Image noncancerous mucosa (already provided in Crunch 1 and Crunch 2)\n",
    "    sdata = spatialdata.read_zarr(os.path.join(data_directory_path, 'UC9_I.zarr'))\n",
    "    \n",
    "    # Load dysplasia-related files\n",
    "    # These files include:\n",
    "    # - HE: An H&E image of tissue regions exhibiting dysplasia\n",
    "    # - HE_nuc: A nuclear segmentation mask\n",
    "    # - region: An ROI mask indicating dysplastic vs. non-dysplastic regions of the tissue\n",
    "    #\n",
    "    # Using these images, you can extract additional spatial features and labels that may\n",
    "    # be relevant for training or evaluating your model.      \n",
    "    dysplasia_file = {\n",
    "        # H&E image of tissue with dysplasia\n",
    "        'HE': os.path.join(data_directory_path, 'UC9_I-crunch3-HE.tif'), \n",
    "        # Nucleus segmentation of H&E image\n",
    "        'HE_nuc': os.path.join(data_directory_path, 'UC9_I-crunch3-HE-label-stardist.tif'),\n",
    "        # Regions in H&E image highlighting dysplasia and non-dysplasia\n",
    "        'region': os.path.join(data_directory_path, 'UC9_I-crunch3-HE-dysplasia-ROI.tif')\n",
    "    }     \n",
    "        \n",
    "    # Read the dysplasia-related images and store them in a dictionary\n",
    "    dysplasia_img_list = {}\n",
    "    for key in dysplasia_file:\n",
    "        dysplasia_img_list[key] = io.imread(dysplasia_file[key])\n",
    "        \n",
    "    # TODO Add your training code here and save the trained model to the specified model_directory_path.\n",
    "    "
   ],
   "outputs": [],
   "execution_count": 3
  },
  {
   "cell_type": "code",
   "metadata": {
    "ExecuteTime": {
     "end_time": "2024-12-09T19:34:03.532921Z",
     "start_time": "2024-12-09T19:34:03.528462Z"
    }
   },
   "source": [
    "# In the inference function, the trained model is loaded and used to make inferences on a\n",
    "# sample of data that matches the characteristics of the training test.\n",
    "def infer(\n",
    "    data_file_path: str,\n",
    "):\n",
    "    data_path = os.path.dirname(data_file_path)\n",
    "    \n",
    "    # Load the list of genes to predict                 \n",
    "    gene_list = pandas.read_csv(os.path.join(data_path, 'Crunch3_gene_list.csv'))        \n",
    "    gene_names = gene_list['gene_symbols']\n",
    "    \n",
    "    # The intended goal is to rank all 18,615 protein-coding genes based on their ability \n",
    "    # to distinguish dysplasia from noncancerous mucosa regions, assigning them ranks \n",
    "    # from 1 (best discriminator) to 18,615 (worst).\n",
    "    #\n",
    "    # Currently, we generate a random permutation of gene names as a placeholder.\n",
    "    # Replace the logic below with actual model inference:\n",
    "    # 1. Load the trained model from the model directory.\n",
    "    # 2. Use the model to score and rank the genes accordingly.\n",
    "    # 3. Return the predicted ranking as a DataFrame.\n",
    "    \n",
    "    prediction = pandas.DataFrame(\n",
    "        numpy.random.permutation(gene_names), \n",
    "        index=numpy.arange(1, len(gene_names) + 1),\n",
    "        columns=['Gene Name']\n",
    "    )\n",
    "       \n",
    "    return prediction"
   ],
   "outputs": [],
   "execution_count": 4
  },
  {
   "cell_type": "code",
   "metadata": {
    "ExecuteTime": {
     "end_time": "2024-12-09T19:54:49.718058Z",
     "start_time": "2024-12-09T19:54:32.661318Z"
    }
   },
   "source": [
    "# This command is running a local test with your submission\n",
    "# making sure that your submission can be accepted by the system\n",
    "crunch.test(\n",
    "    no_determinism_check=True,\n",
    ")"
   ],
   "outputs": [
    {
     "name": "stderr",
     "output_type": "stream",
     "text": [
      "20:54:32 no forbidden library found\n",
      "20:54:32 \n",
      "20:54:33 started\n",
      "20:54:33 running local test\n",
      "20:54:33 internet access isn't restricted, no check will be done\n",
      "20:54:33 \n",
      "20:54:33 starting spatial loop...\n",
      "20:54:33 call: train\n"
     ]
    },
    {
     "name": "stdout",
     "output_type": "stream",
     "text": [
      "data/UC9_I-crunch3-HE-label-stardist.tif: download from https:crunchdao--competition--production.s3.eu-west-1.amazonaws.com/data-releases/98/UC9_I-crunch3-HE-label-stardist.tif (23778030 bytes)\n",
      "data/UC9_I-crunch3-HE-label-stardist.tif: already exists, file length match\n",
      "data/Crunch3_gene_list.csv: download from https:crunchdao--competition--production.s3.eu-west-1.amazonaws.com/data-releases/98/Crunch3_gene_list.csv (122177 bytes)\n",
      "data/Crunch3_gene_list.csv: already exists, file length match\n",
      "data/Crunch3_scRNAseq.h5ad.zip: download from https:crunchdao--competition--production.s3.eu-west-1.amazonaws.com/data-releases/98/Crunch3_scRNAseq.h5ad.zip (924652673 bytes)\n",
      "data/Crunch3_scRNAseq.h5ad.zip: already exists, file length match\n",
      "data/Crunch3_scRNAseq.h5ad.zip: already uncompressed, marker is present\n",
      "data/UC9_I.zarr.zip: download from https:crunchdao--competition--production.s3.eu-west-1.amazonaws.com/data-releases/98/UC9_I.zarr.zip (927207232 bytes)\n",
      "data/UC9_I.zarr.zip: already exists, file length match\n",
      "data/UC9_I.zarr.zip: already uncompressed, marker is present\n",
      "data/UC9_I-crunch3-HE-dysplasia-ROI.tif: download from https:crunchdao--competition--production.s3.eu-west-1.amazonaws.com/data-releases/98/UC9_I-crunch3-HE-dysplasia-ROI.tif (778109 bytes)\n",
      "data/UC9_I-crunch3-HE-dysplasia-ROI.tif: already exists, file length match\n",
      "data/UC9_I-crunch3-HE.tif.zip: download from https:crunchdao--competition--production.s3.eu-west-1.amazonaws.com/data-releases/98/UC9_I-crunch3-HE.tif.zip (1227303078 bytes)\n",
      "data/UC9_I-crunch3-HE.tif.zip: already exists, file length match\n",
      "data/UC9_I-crunch3-HE.tif.zip: already uncompressed, marker is present\n"
     ]
    },
    {
     "name": "stderr",
     "output_type": "stream",
     "text": [
      "/Users/aboutrig/miniconda3/lib/python3.12/site-packages/zarr/creation.py:614: UserWarning: ignoring keyword argument 'read_only'\n",
      "  compressor, fill_value = _kwargs_compat(compressor, fill_value, kwargs)\n",
      "20:54:49 save prediction - path=data/prediction.parquet\n",
      "20:54:49 duration - time=00:00:16\n",
      "20:54:49 memory - before=\"1.04 GB\" after=\"1.63 GB\" consumed=\"592.95 MB\"\n"
     ]
    },
    {
     "ename": "FileNotFoundError",
     "evalue": "[Errno 2] No such file or directory: '/var/folders/fn/mtvxtck11kzdss39fl63ffdr0000gn/T/tmpirvnxd_4/file.parquet'",
     "output_type": "error",
     "traceback": [
      "\u001B[0;31m---------------------------------------------------------------------------\u001B[0m",
      "\u001B[0;31mFileNotFoundError\u001B[0m                         Traceback (most recent call last)",
      "File \u001B[0;32m~/miniconda3/lib/python3.12/shutil.py:874\u001B[0m, in \u001B[0;36mmove\u001B[0;34m(src, dst, copy_function)\u001B[0m\n\u001B[1;32m    873\u001B[0m \u001B[38;5;28;01mtry\u001B[39;00m:\n\u001B[0;32m--> 874\u001B[0m     os\u001B[38;5;241m.\u001B[39mrename(src, real_dst)\n\u001B[1;32m    875\u001B[0m \u001B[38;5;28;01mexcept\u001B[39;00m \u001B[38;5;167;01mOSError\u001B[39;00m:\n",
      "\u001B[0;31mFileNotFoundError\u001B[0m: [Errno 2] No such file or directory: '/var/folders/fn/mtvxtck11kzdss39fl63ffdr0000gn/T/tmpirvnxd_4/file.parquet' -> 'data/prediction.parquet'",
      "\nDuring handling of the above exception, another exception occurred:\n",
      "\u001B[0;31mFileNotFoundError\u001B[0m                         Traceback (most recent call last)",
      "Cell \u001B[0;32mIn[9], line 3\u001B[0m\n\u001B[1;32m      1\u001B[0m \u001B[38;5;66;03m# This command is running a local test with your submission\u001B[39;00m\n\u001B[1;32m      2\u001B[0m \u001B[38;5;66;03m# making sure that your submission can be accepted by the system\u001B[39;00m\n\u001B[0;32m----> 3\u001B[0m crunch\u001B[38;5;241m.\u001B[39mtest(\n\u001B[1;32m      4\u001B[0m     no_determinism_check\u001B[38;5;241m=\u001B[39m\u001B[38;5;28;01mTrue\u001B[39;00m,\n\u001B[1;32m      5\u001B[0m )\n",
      "File \u001B[0;32m~/miniconda3/lib/python3.12/site-packages/crunch/inline.py:154\u001B[0m, in \u001B[0;36m_Inline.test\u001B[0;34m(self, force_first_train, train_frequency, raise_abort, round_number, no_checks, no_determinism_check, read_kwargs, write_kwargs)\u001B[0m\n\u001B[1;32m    151\u001B[0m     library\u001B[38;5;241m.\u001B[39mscan(module\u001B[38;5;241m=\u001B[39m\u001B[38;5;28mself\u001B[39m\u001B[38;5;241m.\u001B[39mmodule, logger\u001B[38;5;241m=\u001B[39m\u001B[38;5;28mself\u001B[39m\u001B[38;5;241m.\u001B[39mlogger)\n\u001B[1;32m    152\u001B[0m     \u001B[38;5;28mself\u001B[39m\u001B[38;5;241m.\u001B[39mlogger\u001B[38;5;241m.\u001B[39mwarning(\u001B[38;5;124m'\u001B[39m\u001B[38;5;124m'\u001B[39m)\n\u001B[0;32m--> 154\u001B[0m     \u001B[38;5;28;01mreturn\u001B[39;00m tester\u001B[38;5;241m.\u001B[39mrun(\n\u001B[1;32m    155\u001B[0m         \u001B[38;5;28mself\u001B[39m\u001B[38;5;241m.\u001B[39mmodule,\n\u001B[1;32m    156\u001B[0m         \u001B[38;5;28mself\u001B[39m\u001B[38;5;241m.\u001B[39mmodel_directory,\n\u001B[1;32m    157\u001B[0m         force_first_train,\n\u001B[1;32m    158\u001B[0m         train_frequency,\n\u001B[1;32m    159\u001B[0m         round_number,\n\u001B[1;32m    160\u001B[0m         competition,\n\u001B[1;32m    161\u001B[0m         \u001B[38;5;28mself\u001B[39m\u001B[38;5;241m.\u001B[39mhas_gpu,\n\u001B[1;32m    162\u001B[0m         \u001B[38;5;129;01mnot\u001B[39;00m no_checks,\n\u001B[1;32m    163\u001B[0m         no_determinism_check,\n\u001B[1;32m    164\u001B[0m         read_kwargs,\n\u001B[1;32m    165\u001B[0m         write_kwargs,\n\u001B[1;32m    166\u001B[0m     )\n\u001B[1;32m    167\u001B[0m \u001B[38;5;28;01mexcept\u001B[39;00m \u001B[38;5;167;01mKeyboardInterrupt\u001B[39;00m:\n\u001B[1;32m    168\u001B[0m     \u001B[38;5;28mself\u001B[39m\u001B[38;5;241m.\u001B[39mlogger\u001B[38;5;241m.\u001B[39merror(\u001B[38;5;124mf\u001B[39m\u001B[38;5;124m\"\u001B[39m\u001B[38;5;124mCancelled!\u001B[39m\u001B[38;5;124m\"\u001B[39m)\n",
      "File \u001B[0;32m~/miniconda3/lib/python3.12/site-packages/crunch/tester.py:67\u001B[0m, in \u001B[0;36mrun\u001B[0;34m(module, model_directory_path, force_first_train, train_frequency, round_number, competition, has_gpu, checks, no_determinism_check, read_kwargs, write_kwargs)\u001B[0m\n\u001B[1;32m     51\u001B[0m \u001B[38;5;28;01mfrom\u001B[39;00m \u001B[38;5;21;01m.\u001B[39;00m\u001B[38;5;21;01mrunner\u001B[39;00m\u001B[38;5;21;01m.\u001B[39;00m\u001B[38;5;21;01mlocal\u001B[39;00m \u001B[38;5;28;01mimport\u001B[39;00m LocalRunner\n\u001B[1;32m     52\u001B[0m runner \u001B[38;5;241m=\u001B[39m LocalRunner(\n\u001B[1;32m     53\u001B[0m     module,\n\u001B[1;32m     54\u001B[0m     model_directory_path,\n\u001B[0;32m   (...)\u001B[0m\n\u001B[1;32m     64\u001B[0m     logger,\n\u001B[1;32m     65\u001B[0m )\n\u001B[0;32m---> 67\u001B[0m \u001B[38;5;28;01mreturn\u001B[39;00m runner\u001B[38;5;241m.\u001B[39mstart()\n",
      "File \u001B[0;32m~/miniconda3/lib/python3.12/site-packages/crunch/runner/local.py:63\u001B[0m, in \u001B[0;36mLocalRunner.start\u001B[0;34m(self)\u001B[0m\n\u001B[1;32m     60\u001B[0m start \u001B[38;5;241m=\u001B[39m time\u001B[38;5;241m.\u001B[39mtime()\n\u001B[1;32m     62\u001B[0m \u001B[38;5;28;01mtry\u001B[39;00m:\n\u001B[0;32m---> 63\u001B[0m     \u001B[38;5;28;01mreturn\u001B[39;00m \u001B[38;5;28msuper\u001B[39m()\u001B[38;5;241m.\u001B[39mstart()\n\u001B[1;32m     64\u001B[0m \u001B[38;5;28;01mfinally\u001B[39;00m:\n\u001B[1;32m     65\u001B[0m     \u001B[38;5;28mself\u001B[39m\u001B[38;5;241m.\u001B[39mlog(\n\u001B[1;32m     66\u001B[0m         \u001B[38;5;124m'\u001B[39m\u001B[38;5;124mduration - time=\u001B[39m\u001B[38;5;132;01m%s\u001B[39;00m\u001B[38;5;124m'\u001B[39m \u001B[38;5;241m%\u001B[39m (\n\u001B[1;32m     67\u001B[0m             time\u001B[38;5;241m.\u001B[39mstrftime(\u001B[38;5;124m\"\u001B[39m\u001B[38;5;124m%\u001B[39m\u001B[38;5;124mH:\u001B[39m\u001B[38;5;124m%\u001B[39m\u001B[38;5;124mM:\u001B[39m\u001B[38;5;124m%\u001B[39m\u001B[38;5;124mS\u001B[39m\u001B[38;5;124m\"\u001B[39m, time\u001B[38;5;241m.\u001B[39mgmtime(time\u001B[38;5;241m.\u001B[39mtime() \u001B[38;5;241m-\u001B[39m start))\n\u001B[1;32m     68\u001B[0m         ),\n\u001B[1;32m     69\u001B[0m         important\u001B[38;5;241m=\u001B[39m\u001B[38;5;28;01mTrue\u001B[39;00m,\n\u001B[1;32m     70\u001B[0m     )\n",
      "File \u001B[0;32m~/miniconda3/lib/python3.12/site-packages/crunch/runner/runner.py:65\u001B[0m, in \u001B[0;36mRunner.start\u001B[0;34m(self)\u001B[0m\n\u001B[1;32m     62\u001B[0m     \u001B[38;5;28;01melse\u001B[39;00m:\n\u001B[1;32m     63\u001B[0m         \u001B[38;5;28mself\u001B[39m\u001B[38;5;241m.\u001B[39mlog(\u001B[38;5;124mf\u001B[39m\u001B[38;5;124m\"\u001B[39m\u001B[38;5;124mdeterminism check: failed\u001B[39m\u001B[38;5;124m\"\u001B[39m, error\u001B[38;5;241m=\u001B[39m\u001B[38;5;28;01mTrue\u001B[39;00m)\n\u001B[0;32m---> 65\u001B[0m \u001B[38;5;28mself\u001B[39m\u001B[38;5;241m.\u001B[39mfinalize()\n\u001B[1;32m     66\u001B[0m \u001B[38;5;28mself\u001B[39m\u001B[38;5;241m.\u001B[39mlog(\u001B[38;5;124m\"\u001B[39m\u001B[38;5;124mended\u001B[39m\u001B[38;5;124m\"\u001B[39m)\n\u001B[1;32m     68\u001B[0m \u001B[38;5;28mself\u001B[39m\u001B[38;5;241m.\u001B[39mteardown()\n",
      "File \u001B[0;32m~/miniconda3/lib/python3.12/site-packages/crunch/runner/local.py:429\u001B[0m, in \u001B[0;36mLocalRunner.finalize\u001B[0;34m(self)\u001B[0m\n\u001B[1;32m    423\u001B[0m prediction_path \u001B[38;5;241m=\u001B[39m os\u001B[38;5;241m.\u001B[39mpath\u001B[38;5;241m.\u001B[39mjoin(\n\u001B[1;32m    424\u001B[0m     constants\u001B[38;5;241m.\u001B[39mDOT_DATA_DIRECTORY,\n\u001B[1;32m    425\u001B[0m     \u001B[38;5;124m\"\u001B[39m\u001B[38;5;124mprediction.parquet\u001B[39m\u001B[38;5;124m\"\u001B[39m\n\u001B[1;32m    426\u001B[0m )\n\u001B[1;32m    428\u001B[0m \u001B[38;5;28mself\u001B[39m\u001B[38;5;241m.\u001B[39mlog(\u001B[38;5;124m'\u001B[39m\u001B[38;5;124msave prediction - path=\u001B[39m\u001B[38;5;132;01m%s\u001B[39;00m\u001B[38;5;124m'\u001B[39m \u001B[38;5;241m%\u001B[39m prediction_path, important\u001B[38;5;241m=\u001B[39m\u001B[38;5;28;01mTrue\u001B[39;00m)\n\u001B[0;32m--> 429\u001B[0m \u001B[38;5;28mself\u001B[39m\u001B[38;5;241m.\u001B[39mprediction_collector\u001B[38;5;241m.\u001B[39mpersist(prediction_path)\n\u001B[1;32m    431\u001B[0m \u001B[38;5;28;01mif\u001B[39;00m \u001B[38;5;28mself\u001B[39m\u001B[38;5;241m.\u001B[39mchecks \u001B[38;5;129;01mand\u001B[39;00m \u001B[38;5;28mself\u001B[39m\u001B[38;5;241m.\u001B[39mcompetition_format \u001B[38;5;241m!=\u001B[39m api\u001B[38;5;241m.\u001B[39mCompetitionFormat\u001B[38;5;241m.\u001B[39mSPATIAL:\n\u001B[1;32m    432\u001B[0m     prediction \u001B[38;5;241m=\u001B[39m utils\u001B[38;5;241m.\u001B[39mread(prediction_path)\n",
      "File \u001B[0;32m~/miniconda3/lib/python3.12/site-packages/crunch/runner/collector.py:98\u001B[0m, in \u001B[0;36mFilePredictionCollector.persist\u001B[0;34m(self, file_path)\u001B[0m\n\u001B[1;32m     95\u001B[0m \u001B[38;5;28;01mdef\u001B[39;00m \u001B[38;5;21mpersist\u001B[39m(\u001B[38;5;28mself\u001B[39m, file_path: \u001B[38;5;28mstr\u001B[39m):\n\u001B[1;32m     96\u001B[0m     \u001B[38;5;28mself\u001B[39m\u001B[38;5;241m.\u001B[39m_reset()\n\u001B[0;32m---> 98\u001B[0m     shutil\u001B[38;5;241m.\u001B[39mmove(\u001B[38;5;28mself\u001B[39m\u001B[38;5;241m.\u001B[39mtemporary_file_path, file_path)\n\u001B[1;32m    100\u001B[0m     \u001B[38;5;28mself\u001B[39m\u001B[38;5;241m.\u001B[39m_close()\n",
      "File \u001B[0;32m~/miniconda3/lib/python3.12/shutil.py:894\u001B[0m, in \u001B[0;36mmove\u001B[0;34m(src, dst, copy_function)\u001B[0m\n\u001B[1;32m    892\u001B[0m         rmtree(src)\n\u001B[1;32m    893\u001B[0m     \u001B[38;5;28;01melse\u001B[39;00m:\n\u001B[0;32m--> 894\u001B[0m         copy_function(src, real_dst)\n\u001B[1;32m    895\u001B[0m         os\u001B[38;5;241m.\u001B[39munlink(src)\n\u001B[1;32m    896\u001B[0m \u001B[38;5;28;01mreturn\u001B[39;00m real_dst\n",
      "File \u001B[0;32m~/miniconda3/lib/python3.12/shutil.py:463\u001B[0m, in \u001B[0;36mcopy2\u001B[0;34m(src, dst, follow_symlinks)\u001B[0m\n\u001B[1;32m    460\u001B[0m         \u001B[38;5;28;01melse\u001B[39;00m:\n\u001B[1;32m    461\u001B[0m             \u001B[38;5;28;01mraise\u001B[39;00m\n\u001B[0;32m--> 463\u001B[0m copyfile(src, dst, follow_symlinks\u001B[38;5;241m=\u001B[39mfollow_symlinks)\n\u001B[1;32m    464\u001B[0m copystat(src, dst, follow_symlinks\u001B[38;5;241m=\u001B[39mfollow_symlinks)\n\u001B[1;32m    465\u001B[0m \u001B[38;5;28;01mreturn\u001B[39;00m dst\n",
      "File \u001B[0;32m~/miniconda3/lib/python3.12/shutil.py:260\u001B[0m, in \u001B[0;36mcopyfile\u001B[0;34m(src, dst, follow_symlinks)\u001B[0m\n\u001B[1;32m    258\u001B[0m     os\u001B[38;5;241m.\u001B[39msymlink(os\u001B[38;5;241m.\u001B[39mreadlink(src), dst)\n\u001B[1;32m    259\u001B[0m \u001B[38;5;28;01melse\u001B[39;00m:\n\u001B[0;32m--> 260\u001B[0m     \u001B[38;5;28;01mwith\u001B[39;00m \u001B[38;5;28mopen\u001B[39m(src, \u001B[38;5;124m'\u001B[39m\u001B[38;5;124mrb\u001B[39m\u001B[38;5;124m'\u001B[39m) \u001B[38;5;28;01mas\u001B[39;00m fsrc:\n\u001B[1;32m    261\u001B[0m         \u001B[38;5;28;01mtry\u001B[39;00m:\n\u001B[1;32m    262\u001B[0m             \u001B[38;5;28;01mwith\u001B[39;00m \u001B[38;5;28mopen\u001B[39m(dst, \u001B[38;5;124m'\u001B[39m\u001B[38;5;124mwb\u001B[39m\u001B[38;5;124m'\u001B[39m) \u001B[38;5;28;01mas\u001B[39;00m fdst:\n\u001B[1;32m    263\u001B[0m                 \u001B[38;5;66;03m# macOS\u001B[39;00m\n",
      "\u001B[0;31mFileNotFoundError\u001B[0m: [Errno 2] No such file or directory: '/var/folders/fn/mtvxtck11kzdss39fl63ffdr0000gn/T/tmpirvnxd_4/file.parquet'"
     ]
    }
   ],
   "execution_count": 9
  },
  {
   "cell_type": "markdown",
   "metadata": {},
   "source": "Now remember to download this notebook and then submit it at https://hub.crunchdao.com/competitions/broad-3/submit/"
  }
 ],
 "metadata": {
  "kernelspec": {
   "display_name": "Python 3",
   "language": "python",
   "name": "python3"
  },
  "language_info": {
   "codemirror_mode": {
    "name": "ipython",
    "version": 3
   },
   "file_extension": ".py",
   "mimetype": "text/x-python",
   "name": "python",
   "nbconvert_exporter": "python",
   "pygments_lexer": "ipython3",
   "version": "3.10.11"
  }
 },
 "nbformat": 4,
 "nbformat_minor": 2
}
