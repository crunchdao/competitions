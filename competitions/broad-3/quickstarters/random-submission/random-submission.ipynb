{
 "cells": [
  {
   "cell_type": "markdown",
   "metadata": {},
   "source": [
    "[![Open In Colab](https://colab.research.google.com/assets/colab-badge.svg)](https://colab.research.google.com/github/crunchdao/quickstarters/blob/master/competitions/broad-3/quickstarters/random-submission/random-submission.ipynb)"
   ]
  },
  {
   "cell_type": "markdown",
   "metadata": {},
   "source": [
    "![Cover](https://raw.githubusercontent.com/crunchdao/competitions/refs/heads/master/competitions/broad-3/assets/cover.png)"
   ]
  },
  {
   "cell_type": "code",
   "execution_count": null,
   "metadata": {
    "ExecuteTime": {
     "end_time": "2024-12-09T19:27:17.583738Z",
     "start_time": "2024-12-09T19:27:07.357972Z"
    }
   },
   "outputs": [],
   "source": [
    "%pip install --upgrade crunch-cli"
   ]
  },
  {
   "cell_type": "markdown",
   "metadata": {},
   "source": [
    "Get a new token: https://hub.crunchdao.com/competitions/broad-3/submit/via/notebook"
   ]
  },
  {
   "cell_type": "code",
   "execution_count": null,
   "metadata": {
    "ExecuteTime": {
     "end_time": "2024-12-09T19:41:56.448026Z",
     "start_time": "2024-12-09T19:41:52.583653Z"
    }
   },
   "outputs": [],
   "source": [
    "# To retrieve a larger dataset, include the --size large argument as shown below:\n",
    "!crunch setup --notebook --size large broad-3 hello --token aaaabbbbccccddddeeeeffff"
   ]
  },
  {
   "cell_type": "code",
   "execution_count": null,
   "metadata": {},
   "outputs": [],
   "source": [
    "!pip install spatialdata"
   ]
  },
  {
   "cell_type": "code",
   "execution_count": null,
   "metadata": {
    "ExecuteTime": {
     "end_time": "2024-12-09T19:33:49.654718Z",
     "start_time": "2024-12-09T19:33:42.263642Z"
    }
   },
   "outputs": [],
   "source": [
    "import os\n",
    "\n",
    "import numpy\n",
    "import pandas\n",
    "import scanpy\n",
    "import skimage.io\n",
    "import spatialdata"
   ]
  },
  {
   "cell_type": "code",
   "execution_count": null,
   "metadata": {
    "ExecuteTime": {
     "end_time": "2024-12-09T19:33:57.154505Z",
     "start_time": "2024-12-09T19:33:57.042218Z"
    }
   },
   "outputs": [],
   "source": [
    "import crunch\n",
    "crunch = crunch.load_notebook()"
   ]
  },
  {
   "cell_type": "code",
   "execution_count": 12,
   "metadata": {
    "ExecuteTime": {
     "end_time": "2024-12-09T19:34:00.540167Z",
     "start_time": "2024-12-09T19:34:00.534830Z"
    }
   },
   "outputs": [],
   "source": [
    "# In the training function, users build and train the model to make inferences on the test data.\n",
    "# Your model must be stored in the `model_directory_path`.\n",
    "def train(\n",
    "    data_directory_path: str,\n",
    "    model_directory_path: str\n",
    "):\n",
    "    # Loading scRNAseq data\n",
    "    # The single-cell RNA sequencing (scRNA-seq) data provides gene expression data\n",
    "    # for 18,615 protein-coding genes from colon tissue samples with and without dysplasia.\n",
    "    scRNAseq = scanpy.read_h5ad(os.path.join(data_directory_path, 'Crunch3_scRNAseq.h5ad'))\n",
    "\n",
    "    # Loading Spatial Data\n",
    "    # UC9_I.zarr contains H&E Image noncancerous mucosa (already provided in Crunch 1 and Crunch 2)\n",
    "    sdata = spatialdata.read_zarr(os.path.join(data_directory_path, 'UC9_I.zarr'))\n",
    "\n",
    "    # Load dysplasia-related files\n",
    "    # These files include:\n",
    "    # - HE: An H&E image of tissue regions exhibiting dysplasia\n",
    "    # - HE_nuc: A nuclear segmentation mask\n",
    "    # - region: An ROI mask indicating dysplastic vs. non-dysplastic regions of the tissue\n",
    "    #\n",
    "    # Using these images, you can extract additional spatial features and labels that may\n",
    "    # be relevant for training or evaluating your model.\n",
    "    dysplasia_file = {\n",
    "        # H&E image of tissue with dysplasia\n",
    "        'HE': os.path.join(data_directory_path, 'UC9_I-crunch3-HE.tif'),\n",
    "\n",
    "        # Nucleus segmentation of H&E image\n",
    "        'HE_nuc': os.path.join(data_directory_path, 'UC9_I-crunch3-HE-label-stardist.tif'),\n",
    "\n",
    "        # Regions in H&E image highlighting dysplasia and non-dysplasia\n",
    "        'region': os.path.join(data_directory_path, 'UC9_I-crunch3-HE-dysplasia-ROI.tif')\n",
    "    }\n",
    "\n",
    "    # Read the dysplasia-related images and store them in a dictionary\n",
    "    dysplasia_img_list = {}\n",
    "    for key in dysplasia_file:\n",
    "        dysplasia_img_list[key] = skimage.io.imread(dysplasia_file[key])\n",
    "\n",
    "    # TODO Add your training code here and save the trained model to the specified model_directory_path."
   ]
  },
  {
   "cell_type": "code",
   "execution_count": 13,
   "metadata": {
    "ExecuteTime": {
     "end_time": "2024-12-09T19:34:03.532921Z",
     "start_time": "2024-12-09T19:34:03.528462Z"
    }
   },
   "outputs": [],
   "source": [
    "# In the inference function, the trained model is loaded and used to make inferences on a\n",
    "# sample of data that matches the characteristics of the training test.\n",
    "def infer(\n",
    "    data_file_path: str,\n",
    "    data_directory_path: str,\n",
    "    model_directory_path: str\n",
    "):\n",
    "    # Load the list of genes to predict\n",
    "    gene_list = pandas.read_csv(os.path.join(data_directory_path, 'Crunch3_gene_list.csv'))\n",
    "    gene_names = gene_list['gene_symbols']\n",
    "\n",
    "    # The intended goal is to rank all 18,615 protein-coding genes based on their ability\n",
    "    # to distinguish dysplasia from noncancerous mucosa regions, assigning them ranks\n",
    "    # from 1 (best discriminator) to 18,615 (worst).\n",
    "\n",
    "    # Currently, we generate a random permutation of gene names as a placeholder.\n",
    "    # Replace the logic below with actual model inference:\n",
    "    # 1. Load the trained model from the model directory.\n",
    "    # 2. Use the model to score and rank the genes accordingly.\n",
    "    # 3. Return the predicted ranking as a DataFrame.\n",
    "\n",
    "    prediction = pandas.DataFrame(\n",
    "        numpy.random.permutation(gene_names),\n",
    "        index=numpy.arange(1, len(gene_names) + 1),\n",
    "        columns=['Gene Name'],\n",
    "    )\n",
    "\n",
    "    return prediction"
   ]
  },
  {
   "cell_type": "code",
   "execution_count": null,
   "metadata": {
    "ExecuteTime": {
     "end_time": "2024-12-09T19:54:49.718058Z",
     "start_time": "2024-12-09T19:54:32.661318Z"
    }
   },
   "outputs": [],
   "source": [
    "# This command is running a local test with your submission\n",
    "# making sure that your submission can be accepted by the system\n",
    "crunch.test(\n",
    "    no_determinism_check=True,\n",
    ")"
   ]
  },
  {
   "cell_type": "markdown",
   "metadata": {},
   "source": [
    "The final step is to write your report as specified in the [# Justification Report](https://docs.crunchdao.com/competitions/competitions/broad-institute-autoimmune-disease/crunch-3#justification-report).\n",
    "\n",
    "You must:\n",
    "1. Explain how your method works. (5-10 sentences)\n",
    "2. Describe the reasoning behind your gene panel design. (5-10 sentences)\n",
    "3. Specify the datasets and any other resources utilized. (5-10 sentences)\n",
    "\n",
    "Once a Notebook is submitted on the platform, the report cannot be changed anymore. <br />\n",
    "Therefore, it is important to take your time and explain what you have done. <br />\n",
    "The better is your report, the better mark you could get during the Peer Review phase. <br />\n",
    "\n",
    "The limit is about one page."
   ]
  },
  {
   "cell_type": "markdown",
   "metadata": {},
   "source": [
    "---\n",
    "file: REPORT.md\n",
    "---\n",
    "\n",
    "<!-- Don't forget to change me -->\n",
    "\n",
    "# Method Description\n",
    "\n",
    "Explain how your method works. (5-10 sentences)\n",
    "\n",
    "# Rationale\n",
    "\n",
    "Describe the reasoning behind your gene panel design. (5-10 sentences)\n",
    "\n",
    "# Data and Resources Used\n",
    "\n",
    "Specify the datasets and any other resources utilized. (5-10 sentences)"
   ]
  },
  {
   "cell_type": "markdown",
   "metadata": {},
   "source": [
    "---\n",
    "<!-- this cell is not part of the paper, but just serve as a separator -->"
   ]
  },
  {
   "cell_type": "markdown",
   "metadata": {},
   "source": [
    "Now remember to download this notebook and then submit it at https://hub.crunchdao.com/competitions/broad-3/submit/"
   ]
  }
 ],
 "metadata": {
  "kernelspec": {
   "display_name": "Python 3",
   "language": "python",
   "name": "python3"
  },
  "language_info": {
   "codemirror_mode": {
    "name": "ipython",
    "version": 3
   },
   "file_extension": ".py",
   "mimetype": "text/x-python",
   "name": "python",
   "nbconvert_exporter": "python",
   "pygments_lexer": "ipython3",
   "version": "3.10.11"
  }
 },
 "nbformat": 4,
 "nbformat_minor": 2
}
