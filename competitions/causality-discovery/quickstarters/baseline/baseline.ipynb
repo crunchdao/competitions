{
 "cells": [
  {
   "cell_type": "markdown",
   "id": "b56581e0",
   "metadata": {},
   "source": [
    "[![Open In Colab](https://colab.research.google.com/assets/colab-badge.svg)](https://colab.research.google.com/github/crunchdao/quickstarters/blob/master/competitions/causality-discovery/quickstarters/baseline/baseline.ipynb)"
   ]
  },
  {
   "cell_type": "markdown",
   "id": "a7bbac25",
   "metadata": {},
   "source": [
    "![Banner](https://raw.githubusercontent.com/crunchdao/quickstarters/refs/heads/master/competitions/causality-discovery/assets/banner.webp)"
   ]
  },
  {
   "cell_type": "markdown",
   "id": "10682710",
   "metadata": {},
   "source": [
    "## DAG Competition - Baseline Notebook\n",
    "\n",
    "The purpose of this notebook is both to introduce participants to the competition and to suggest some possible starting points. The suggestions presented here are not binding, of course, and can be taken in any number of directions.\n",
    "\n",
    "## The problem\n",
    "\n",
    "The problem of discovering causal relationships among variables from observational data is important in fields like healthcare and economics. Participants in this competition receive datasets with known causal graphs to develop algorithms that reveal the underlying causal structures. The focus is on identifying how other variables influence the relationship between two key variables, X (treatment) and Y (outcome). Both unsupervised and supervised methods are welcome, with evaluation based on the accuracy of predicted causal links. Successful solutions will improve causal inference methods, aiding decision-making and understanding in various domains."
   ]
  },
  {
   "cell_type": "markdown",
   "id": "845a7c99-f6c6-41e2-a924-3d63b520442c",
   "metadata": {},
   "source": [
    "### Preliminary step"
   ]
  },
  {
   "cell_type": "code",
   "execution_count": null,
   "id": "19191dd1",
   "metadata": {},
   "outputs": [],
   "source": [
    "%pip install crunch-cli --upgrade\n",
    "%pip install gcastle torch"
   ]
  },
  {
   "cell_type": "code",
   "execution_count": null,
   "id": "526ab731",
   "metadata": {},
   "outputs": [],
   "source": [
    "# update the token via https://hub.crunchdao.com/competitions/causality-discovery/submit/via/notebook\n",
    "\n",
    "!crunch setup --notebook causality-discovery default --token aaaabbbbccccddddeeeeffff"
   ]
  },
  {
   "cell_type": "code",
   "execution_count": null,
   "id": "3f6e3dd2-888c-4541-b02f-d3caaae44ede",
   "metadata": {},
   "outputs": [],
   "source": [
    "\"\"\"\n",
    "This is a basic example of what you need to do to enter the competition.\n",
    "The code will not have access to the internet (or any socket related operation).\n",
    "\"\"\"\n",
    "\n",
    "import os\n",
    "import typing\n",
    "\n",
    "import castle.algorithms\n",
    "import joblib\n",
    "import networkx as nx\n",
    "import numpy as np\n",
    "import pandas as pd\n",
    "from tqdm.auto import tqdm\n",
    "\n",
    "# keep me, I am needed by castle\n",
    "import torch"
   ]
  },
  {
   "cell_type": "code",
   "execution_count": 2,
   "id": "98414dd1",
   "metadata": {},
   "outputs": [
    {
     "name": "stdout",
     "output_type": "stream",
     "text": [
      "loaded inline runner with module: <module '__main__'>\n"
     ]
    }
   ],
   "source": [
    "import crunch\n",
    "crunch = crunch.load_notebook()"
   ]
  },
  {
   "cell_type": "markdown",
   "id": "d23e9a77-c4f8-42b8-a0d0-27f628c89419",
   "metadata": {},
   "source": [
    "The following function is provided to help you get a DAG from your predicted graph, if it is not a DAG, also ensuring that there is an edge from X to Y as designed. This is only one way to get such a result, and not necessarily optimal for competition. An improved algorithm for obtaining a DAG from your predicted graph could lead to better results."
   ]
  },
  {
   "cell_type": "code",
   "execution_count": 3,
   "id": "84842f10-13d7-40f1-8b16-a3986babbdf5",
   "metadata": {},
   "outputs": [],
   "source": [
    "def fix_DAG(g):\n",
    "    \"\"\"\n",
    "    Ensure that the graph is a DAG and has an edge X→Y\n",
    "\n",
    "    We look for cycles, and remove an edge in each cycle, until there are no cycles left.\n",
    "\n",
    "    Inputs: g: nx.DiGraph\n",
    "    Output: g: nx.DiGraph\n",
    "\n",
    "    This function provides just a possible solution to the problem\n",
    "    of DAG-ifying a graph. Other solutions can be conceived that could\n",
    "    be better for the competition.\n",
    "    \"\"\"\n",
    "\n",
    "    assert 'X' in g.nodes\n",
    "    assert 'Y' in g.nodes\n",
    "\n",
    "    gg = g.copy()\n",
    "\n",
    "    # Add X→Y if it is missing\n",
    "    if ('X', 'Y') not in gg.edges:\n",
    "        gg.add_edge('X', 'Y')\n",
    "\n",
    "    # Look for cycles and remove them\n",
    "    while not nx.is_directed_acyclic_graph(gg):\n",
    "\n",
    "        h = gg.copy()\n",
    "\n",
    "        # Remove all the sources and sinks\n",
    "        while True:\n",
    "            finished = True\n",
    "\n",
    "            for i, v in nx.in_degree_centrality(h).items():\n",
    "                if v == 0:\n",
    "                    h.remove_node(i)\n",
    "                    finished = False\n",
    "\n",
    "            for i, v in nx.out_degree_centrality(h).items():\n",
    "                if v == 0:\n",
    "                    h.remove_node(i)\n",
    "                    finished = False\n",
    "\n",
    "            if finished:\n",
    "                break\n",
    "\n",
    "        # Find a cycle, with a random walk starting at a random node\n",
    "        node = list(h.nodes)[0]\n",
    "        cycle = [node]\n",
    "        while True:\n",
    "            edges = list(h.out_edges(node))\n",
    "            _, node = edges[np.random.choice(len(edges))]\n",
    "\n",
    "            if node in cycle:\n",
    "                break\n",
    "\n",
    "            cycle.append(node)\n",
    "\n",
    "        # We have a path that ends with a cycle: remove the begining, if it is not part of the cycle\n",
    "        cycle = np.array(cycle)\n",
    "        i = np.argwhere(cycle == node)[0][0]\n",
    "        cycle = cycle[i:]\n",
    "        cycle = cycle.tolist() + [node]\n",
    "\n",
    "        # Edges in that cycle\n",
    "        edges = list(zip(cycle[:-1], cycle[1:]))\n",
    "\n",
    "        # Pick an edge at random, but make sure it is not X→Y -- we want to keep that one\n",
    "        edges = [e for e in edges if e != ('X', 'Y')]\n",
    "        edge = edges[np.random.choice(len(edges))]\n",
    "\n",
    "        gg.remove_edge(*edge)\n",
    "\n",
    "    return gg"
   ]
  },
  {
   "cell_type": "markdown",
   "id": "7db4da6e-0ef3-4e84-a432-786cac80bb8e",
   "metadata": {},
   "source": [
    "This is the core of the solution's code, which reads one record at a time, applies the PC algorithm, ensures that the result is a DAG, and then puts the result into a single data frame in the required format, ready for submission."
   ]
  },
  {
   "cell_type": "code",
   "execution_count": 4,
   "id": "5cdf556e-9791-405f-a321-8a3b6931d67c",
   "metadata": {},
   "outputs": [],
   "source": [
    "# Uncomment what you need!\n",
    "def train(\n",
    "    X_train: typing.Dict[str, pd.DataFrame],\n",
    "    y_train: typing.Dict[str, pd.DataFrame],\n",
    "    # number_of_features: int,\n",
    "    model_directory_path: str,\n",
    "    # id_column_name: str,\n",
    "    # prediction_column_name: str,\n",
    "    # has_gpu: bool,\n",
    ") -> None:\n",
    "    # TODO replace me with a real model\n",
    "    model = ...\n",
    "\n",
    "    joblib.dump(\n",
    "        model,\n",
    "        os.path.join(model_directory_path, \"model.joblib\")\n",
    "    )"
   ]
  },
  {
   "cell_type": "code",
   "execution_count": 5,
   "id": "bf152816",
   "metadata": {},
   "outputs": [],
   "source": [
    "# Uncomment what you need!\n",
    "def infer(\n",
    "    X_test: typing.Dict[str, pd.DataFrame],\n",
    "    # number_of_features: int,\n",
    "    model_directory_path: str,\n",
    "    id_column_name: str,\n",
    "    prediction_column_name: str,\n",
    "    # has_gpu: bool,\n",
    "    # has_trained: bool,\n",
    ") -> pd.DataFrame:\n",
    "    # TODO use me\n",
    "    # model = joblib.load(os.path.join(model_directory_path, \"model.joblib\"))\n",
    "\n",
    "    predictions = {}\n",
    "    for dataset_id in tqdm(X_test):\n",
    "        X = X_test[dataset_id]\n",
    "\n",
    "        nodes = X.columns\n",
    "        model = castle.algorithms.PC()\n",
    "        model.learn(X)\n",
    "\n",
    "        A_hat = pd.DataFrame(model.causal_matrix, columns=nodes, index=nodes)\n",
    "        g_hat = nx.from_pandas_adjacency(A_hat, create_using=nx.DiGraph)\n",
    "        g_hat = fix_DAG(g_hat)\n",
    "\n",
    "        G = pd.DataFrame(nx.to_numpy_array(g_hat).astype(int), columns=nodes, index=nodes)\n",
    "        for i in nodes:\n",
    "            for j in nodes:\n",
    "                predictions[f'{dataset_id}_{i}_{j}'] = int(G.loc[i, j])\n",
    "\n",
    "    return pd.DataFrame(\n",
    "        predictions.items(),\n",
    "        columns=[id_column_name, prediction_column_name]\n",
    "    )"
   ]
  },
  {
   "cell_type": "code",
   "execution_count": null,
   "id": "5fceff69-b855-4146-8c57-b32d0ecb666e",
   "metadata": {},
   "outputs": [],
   "source": [
    "crunch.test(\n",
    "    no_determinism_check=True\n",
    ")\n",
    "\n",
    "print(\"Download this notebook and submit it to the platform: https://hub.crunchdao.com/competitions/causality-discovery/submit/via/notebook\")  "
   ]
  }
 ],
 "metadata": {
  "kernelspec": {
   "display_name": "Python 3",
   "language": "python",
   "name": "python3"
  },
  "language_info": {
   "codemirror_mode": {
    "name": "ipython",
    "version": 3
   },
   "file_extension": ".py",
   "mimetype": "text/x-python",
   "name": "python",
   "nbconvert_exporter": "python",
   "pygments_lexer": "ipython3",
   "version": "3.10.11"
  }
 },
 "nbformat": 4,
 "nbformat_minor": 5
}
