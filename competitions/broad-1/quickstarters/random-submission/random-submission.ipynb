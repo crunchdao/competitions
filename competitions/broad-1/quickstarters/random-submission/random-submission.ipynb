{
 "cells": [
  {
   "cell_type": "markdown",
   "metadata": {},
   "source": [
    "[![Open In Colab](https://colab.research.google.com/assets/colab-badge.svg)](https://colab.research.google.com/github/crunchdao/quickstarters/blob/master/competitions/broad-1/quickstarters/random-submission/random-submission.ipynb)"
   ]
  },
  {
   "cell_type": "markdown",
   "metadata": {},
   "source": [
    "![Banner](https://raw.githubusercontent.com/crunchdao/quickstarters/refs/heads/master/competitions/broad-1/assets/banner.webp)"
   ]
  },
  {
   "cell_type": "code",
   "execution_count": null,
   "metadata": {
    "ExecuteTime": {
     "end_time": "2024-10-28T19:58:29.091837Z",
     "start_time": "2024-10-28T19:58:17.956941Z"
    }
   },
   "outputs": [],
   "source": [
    "%pip install --upgrade crunch-cli"
   ]
  },
  {
   "cell_type": "markdown",
   "metadata": {},
   "source": [
    "Get a new token: https://hub.crunchdao.com/competitions/broad-1/submit/via/notebook"
   ]
  },
  {
   "cell_type": "code",
   "execution_count": null,
   "metadata": {
    "ExecuteTime": {
     "end_time": "2024-10-28T20:09:16.219026Z",
     "start_time": "2024-10-28T20:01:12.655472Z"
    }
   },
   "outputs": [],
   "source": [
    "!crunch setup --notebook broad-1 hello --token aaaabbbbccccddddeeeeffff"
   ]
  },
  {
   "cell_type": "code",
   "execution_count": null,
   "metadata": {
    "ExecuteTime": {
     "end_time": "2024-10-28T20:10:16.861852Z",
     "start_time": "2024-10-28T20:10:10.463380Z"
    }
   },
   "outputs": [],
   "source": [
    "!pip install spatialdata"
   ]
  },
  {
   "cell_type": "code",
   "execution_count": 6,
   "metadata": {
    "ExecuteTime": {
     "end_time": "2024-10-28T20:12:18.447106Z",
     "start_time": "2024-10-28T20:11:44.024001Z"
    }
   },
   "outputs": [],
   "source": [
    "import itertools\n",
    "\n",
    "import numpy\n",
    "import pandas\n",
    "import spatialdata"
   ]
  },
  {
   "cell_type": "code",
   "execution_count": 10,
   "metadata": {
    "ExecuteTime": {
     "end_time": "2024-10-28T20:13:12.168568Z",
     "start_time": "2024-10-28T20:13:11.467039Z"
    }
   },
   "outputs": [
    {
     "name": "stdout",
     "output_type": "stream",
     "text": [
      "loaded inline runner with module: <module '__main__'>\n"
     ]
    }
   ],
   "source": [
    "import crunch\n",
    "crunch = crunch.load_notebook()"
   ]
  },
  {
   "cell_type": "code",
   "execution_count": 7,
   "metadata": {
    "ExecuteTime": {
     "end_time": "2024-10-28T20:12:44.782263Z",
     "start_time": "2024-10-28T20:12:44.773022Z"
    }
   },
   "outputs": [],
   "source": [
    "# In the training function, users build and train the model to make inferences on the test data.\n",
    "# Your model must be stored in the resources/ directory.\n",
    "def train(\n",
    "    train_directory_path: str\n",
    "):\n",
    "    # no train\n",
    "    print(train_directory_path)"
   ]
  },
  {
   "cell_type": "code",
   "execution_count": 8,
   "metadata": {
    "ExecuteTime": {
     "end_time": "2024-10-28T20:12:50.292239Z",
     "start_time": "2024-10-28T20:12:50.279737Z"
    }
   },
   "outputs": [],
   "source": [
    "# In the inference function, the trained model is loaded and used to make inferences on a\n",
    "# sample of data that matches the characteristics of the training test.\n",
    "def infer(\n",
    "    data_file_path: str,\n",
    "):\n",
    "    print(data_file_path)\n",
    "\n",
    "    sdata = spatialdata.read_zarr(data_file_path)\n",
    "\n",
    "    cell_ids = sdata[\"cell_id-group\"].obs.query(\"group == 'test' or group == 'validation'\")[\"cell_id\"]\n",
    "    gene_names = sdata[\"anucleus\"].var.index\n",
    "\n",
    "    prediction = pandas.DataFrame(\n",
    "        itertools.product(cell_ids, gene_names),\n",
    "        columns=[\"cell_id\", \"gene\"]\n",
    "    )\n",
    "\n",
    "    prediction[\"prediction\"] = numpy.random.random(len(prediction))\n",
    "\n",
    "    return prediction"
   ]
  },
  {
   "cell_type": "code",
   "execution_count": null,
   "metadata": {
    "ExecuteTime": {
     "end_time": "2024-10-28T20:31:13.603305Z",
     "start_time": "2024-10-28T20:13:17.622508Z"
    }
   },
   "outputs": [],
   "source": [
    "# This command is running a local test with your submission\n",
    "# making sure that your submission can be accepted by the system\n",
    "crunch.test(\n",
    "    no_determinism_check=True,\n",
    ")"
   ]
  },
  {
   "cell_type": "markdown",
   "metadata": {},
   "source": [
    "Now remember to download this notebook and then submit it at https://hub.crunchdao.com/competitions/broad-1/submit/"
   ]
  },
  {
   "cell_type": "markdown",
   "metadata": {},
   "source": []
  }
 ],
 "metadata": {
  "kernelspec": {
   "display_name": "Python 3",
   "language": "python",
   "name": "python3"
  },
  "language_info": {
   "codemirror_mode": {
    "name": "ipython",
    "version": 3
   },
   "file_extension": ".py",
   "mimetype": "text/x-python",
   "name": "python",
   "nbconvert_exporter": "python",
   "pygments_lexer": "ipython3",
   "version": "3.10.11"
  }
 },
 "nbformat": 4,
 "nbformat_minor": 2
}
