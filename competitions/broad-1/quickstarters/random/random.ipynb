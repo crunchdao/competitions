{
 "cells": [
  {
   "cell_type": "markdown",
   "metadata": {},
   "source": [
    "![Cover](https://raw.githubusercontent.com/crunchdao/quickstarters/refs/heads/feat/broad-1/competitions/broad-1/cover.jpg)"
   ]
  },
  {
   "cell_type": "code",
   "execution_count": null,
   "metadata": {},
   "outputs": [],
   "source": [
    "%pip install crunch-cli==5.0.0b7"
   ]
  },
  {
   "cell_type": "code",
   "execution_count": 1,
   "metadata": {},
   "outputs": [
    {
     "name": "stdout",
     "output_type": "stream",
     "text": [
      "env: API_BASE_URL=https://api.hub.crunchdao.io/\n",
      "env: WEB_BASE_URL=https://hub.crunchdao.io/\n"
     ]
    }
   ],
   "source": [
    "%env API_BASE_URL=https://api.hub.crunchdao.io/\n",
    "%env WEB_BASE_URL=https://hub.crunchdao.io/"
   ]
  },
  {
   "cell_type": "markdown",
   "metadata": {},
   "source": [
    "Get a new token: https://hub.crunchdao.io/competitions/broad-1/submit/via/notebook?projectName=hello"
   ]
  },
  {
   "cell_type": "code",
   "execution_count": null,
   "metadata": {},
   "outputs": [],
   "source": [
    "!crunch setup --notebook broad-1 hello --token 2rwTsRW4SjSRGD8fXgCXrAMx9RsfQMgYiA1wbgdaWontxZ16RSRZGkM5W9YPxwjo"
   ]
  },
  {
   "cell_type": "code",
   "execution_count": 2,
   "metadata": {},
   "outputs": [],
   "source": [
    "import itertools\n",
    "\n",
    "import numpy\n",
    "import pandas\n",
    "import spatialdata"
   ]
  },
  {
   "cell_type": "code",
   "execution_count": 3,
   "metadata": {},
   "outputs": [
    {
     "name": "stdout",
     "output_type": "stream",
     "text": [
      "loaded inline runner with module: <module '__main__'>\n"
     ]
    }
   ],
   "source": [
    "import crunch\n",
    "crunch = crunch.load_notebook()"
   ]
  },
  {
   "cell_type": "code",
   "execution_count": 4,
   "metadata": {},
   "outputs": [],
   "source": [
    "def train(\n",
    "    train_directory_path: str\n",
    "):\n",
    "    # no train\n",
    "    print(train_directory_path)"
   ]
  },
  {
   "cell_type": "code",
   "execution_count": 5,
   "metadata": {},
   "outputs": [],
   "source": [
    "def infer(\n",
    "    test_directory_path: str,\n",
    "    data_file_path: str,\n",
    "):\n",
    "    print(test_directory_path)\n",
    "    print(data_file_path)\n",
    "\n",
    "    sdata = spatialdata.read_zarr(data_file_path[:-4])\n",
    "\n",
    "    cell_ids = sdata[\"cell_id-group\"].obs.query(\"group == 'test'\")[\"cell_id\"]\n",
    "    gene_names = sdata[\"anucleus\"].var.index\n",
    "\n",
    "    prediction = pandas.DataFrame(\n",
    "        itertools.product(cell_ids, gene_names),\n",
    "        columns=[\"cell_id\", \"gene\"]\n",
    "    )\n",
    "\n",
    "    prediction[\"prediction\"] = numpy.random.random(len(prediction))\n",
    "\n",
    "    return prediction"
   ]
  },
  {
   "cell_type": "code",
   "execution_count": 7,
   "metadata": {},
   "outputs": [
    {
     "name": "stderr",
     "output_type": "stream",
     "text": [
      "\u001b[32m14:25:57\u001b[0m \u001b[33mno forbidden library found\u001b[0m\n",
      "\u001b[32m14:25:57\u001b[0m \u001b[33m\u001b[0m\n",
      "\u001b[32m14:25:57\u001b[0m started\n",
      "\u001b[32m14:25:57\u001b[0m running local test\n",
      "\u001b[32m14:25:57\u001b[0m \u001b[33minternet access isn't restricted, no check will be done\u001b[0m\n",
      "\u001b[32m14:25:57\u001b[0m \n",
      "\u001b[32m14:25:58\u001b[0m starting spatial loop...\n",
      "\u001b[32m14:25:58\u001b[0m \u001b[33mcall: train\u001b[0m\n",
      "\u001b[32m14:25:58\u001b[0m looping target=`UC1_NI` (1/1)\n",
      "\u001b[32m14:25:58\u001b[0m \u001b[33mcall: infer\u001b[0m\n",
      "\u001b[32m14:25:58\u001b[0m root_attr: multiscales\n",
      "\u001b[32m14:25:58\u001b[0m root_attr: omero\n",
      "\u001b[32m14:25:58\u001b[0m root_attr: spatialdata_attrs\n",
      "\u001b[32m14:25:58\u001b[0m datasets [{'coordinateTransformations': [{'scale': [1.0, 1.0, 1.0], 'type': 'scale'}], 'path': '0'}]\n",
      "c:\\Users\\cacer\\AppData\\Local\\Programs\\Python\\Python310\\lib\\site-packages\\zarr\\creation.py:614: UserWarning: ignoring keyword argument 'read_only'\n",
      "  compressor, fill_value = _kwargs_compat(compressor, fill_value, kwargs)\n",
      "\u001b[32m14:25:58\u001b[0m resolution: 0\n",
      "\u001b[32m14:25:58\u001b[0m  - shape ('c', 'y', 'x') = (1, 21000, 22000)\n",
      "\u001b[32m14:25:58\u001b[0m  - chunks =  ['1', '5792 (+ 3624)', '5792 (+ 4624)']\n",
      "\u001b[32m14:25:58\u001b[0m  - dtype = uint32\n",
      "\u001b[32m14:25:58\u001b[0m root_attr: multiscales\n",
      "\u001b[32m14:25:58\u001b[0m root_attr: omero\n",
      "\u001b[32m14:25:58\u001b[0m root_attr: spatialdata_attrs\n",
      "\u001b[32m14:25:58\u001b[0m root_attr: multiscales\n",
      "\u001b[32m14:25:58\u001b[0m root_attr: omero\n",
      "\u001b[32m14:25:58\u001b[0m root_attr: spatialdata_attrs\n",
      "\u001b[32m14:25:58\u001b[0m datasets [{'coordinateTransformations': [{'scale': [1.0, 1.0, 1.0], 'type': 'scale'}], 'path': '0'}]\n",
      "\u001b[32m14:25:58\u001b[0m resolution: 0\n",
      "\u001b[32m14:25:58\u001b[0m  - shape ('c', 'y', 'x') = (3, 21000, 22000)\n",
      "\u001b[32m14:25:58\u001b[0m  - chunks =  ['3', '6688 (+ 936)', '6688 (+ 1936)']\n",
      "\u001b[32m14:25:58\u001b[0m  - dtype = uint8\n",
      "\u001b[32m14:25:58\u001b[0m root_attr: multiscales\n",
      "\u001b[32m14:25:58\u001b[0m root_attr: omero\n",
      "\u001b[32m14:25:58\u001b[0m root_attr: spatialdata_attrs\n"
     ]
    },
    {
     "name": "stdout",
     "output_type": "stream",
     "text": [
      "data\\train/UC1_NI.zarr.zip: download from https:crunchdao--competition--staging.s3.eu-west-1.amazonaws.com/data-releases/76/train/UC1_NI.zarr.zip (889731697 bytes)\n",
      "data\\train/UC1_NI.zarr.zip: already exists, file length match\n",
      "data\\train/UC1_NI.zarr.zip: already uncompressed, marker is present\n",
      "data\\test/UC1_NI.zarr.zip: download from https:crunchdao--competition--staging.s3.eu-west-1.amazonaws.com/data-releases/76/test/UC1_NI.zarr.zip (945442080 bytes)\n",
      "data\\test/UC1_NI.zarr.zip: already exists, file length match\n",
      "data\\test/UC1_NI.zarr.zip: already uncompressed, marker is present\n",
      "data\\train\n",
      "data\\test\\.UC1_NI.zarr.zip.uncompressed False\n",
      "data\\test\\UC1_NI.zarr True\n",
      "data\\test\\UC1_NI.zarr.zip False\n",
      "data\\test\n",
      "data\\test\\UC1_NI.zarr.zip\n",
      "zarr.convenience._store().open: store=data\\test\\UC1_NI.zarr\n",
      "zarr.convenience._store().open: _store=<zarr.storage.DirectoryStore object at 0x000002763FCCAB90>\n",
      "zarr.convenience._store().open: path=\n",
      "zarr.convenience._store().open: store=c:\\Users\\cacer\\Desktop\\workspaces\\datacrunch\\crunch-cli\\dummy\\staging\\broad-hello\\data\\test\\UC1_NI.zarr\\images/HE_nuc_original\n",
      "zarr.convenience._store().open: _store=<zarr.storage.DirectoryStore object at 0x000002763FCCB970>\n",
      "zarr.convenience._store().open: path=\n",
      "zarr.convenience._store().open: store=c:\\Users\\cacer\\Desktop\\workspaces\\datacrunch\\crunch-cli\\dummy\\staging\\broad-hello\\data\\test\\UC1_NI.zarr\\images/HE_original\n",
      "zarr.convenience._store().open: _store=<zarr.storage.DirectoryStore object at 0x000002763FCCB940>\n",
      "zarr.convenience._store().open: path=\n",
      "zarr.convenience._store().open: store=c:\\Users\\cacer\\Desktop\\workspaces\\datacrunch\\crunch-cli\\dummy\\staging\\broad-hello\\data\\test\\UC1_NI.zarr\\tables/anucleus\n",
      "zarr.convenience._store().open: _store=<zarr.storage.DirectoryStore object at 0x0000027644583220>\n",
      "zarr.convenience._store().open: path=\n"
     ]
    },
    {
     "name": "stderr",
     "output_type": "stream",
     "text": [
      "c:\\Users\\cacer\\AppData\\Local\\Programs\\Python\\Python310\\lib\\site-packages\\anndata\\_core\\anndata.py:1754: UserWarning: Observation names are not unique. To make them unique, call `.obs_names_make_unique`.\n",
      "  utils.warn_names_duplicates(\"obs\")\n"
     ]
    },
    {
     "name": "stdout",
     "output_type": "stream",
     "text": [
      "zarr.convenience._store().open: store=c:\\Users\\cacer\\Desktop\\workspaces\\datacrunch\\crunch-cli\\dummy\\staging\\broad-hello\\data\\test\\UC1_NI.zarr\\tables/anucleus\n",
      "zarr.convenience._store().open: _store=<zarr.storage.DirectoryStore object at 0x0000027644582DA0>\n",
      "zarr.convenience._store().open: path=\n",
      "zarr.convenience._store().open: store=c:\\Users\\cacer\\Desktop\\workspaces\\datacrunch\\crunch-cli\\dummy\\staging\\broad-hello\\data\\test\\UC1_NI.zarr\\tables/cell_id-group\n",
      "zarr.convenience._store().open: _store=<zarr.storage.DirectoryStore object at 0x00000276445816F0>\n",
      "zarr.convenience._store().open: path=\n",
      "zarr.convenience._store().open: store=c:\\Users\\cacer\\Desktop\\workspaces\\datacrunch\\crunch-cli\\dummy\\staging\\broad-hello\\data\\test\\UC1_NI.zarr\\tables/cell_id-group\n",
      "zarr.convenience._store().open: _store=<zarr.storage.DirectoryStore object at 0x0000027644582A10>\n",
      "zarr.convenience._store().open: path=\n"
     ]
    },
    {
     "name": "stderr",
     "output_type": "stream",
     "text": [
      "\u001b[32m14:26:01\u001b[0m \u001b[33msave prediction - path=data\\prediction.csv\u001b[0m\n",
      "\u001b[32m14:26:08\u001b[0m ended\n",
      "\u001b[32m14:26:08\u001b[0m \u001b[33mduration - time=00:00:11\u001b[0m\n",
      "\u001b[32m14:26:08\u001b[0m \u001b[33mmemory - before=\"1.73 GB\" after=\"2.46 GB\" consumed=\"748.73 MB\"\u001b[0m\n"
     ]
    },
    {
     "data": {
      "text/html": [
       "<div>\n",
       "<style scoped>\n",
       "    .dataframe tbody tr th:only-of-type {\n",
       "        vertical-align: middle;\n",
       "    }\n",
       "\n",
       "    .dataframe tbody tr th {\n",
       "        vertical-align: top;\n",
       "    }\n",
       "\n",
       "    .dataframe thead th {\n",
       "        text-align: right;\n",
       "    }\n",
       "</style>\n",
       "<table border=\"1\" class=\"dataframe\">\n",
       "  <thead>\n",
       "    <tr style=\"text-align: right;\">\n",
       "      <th></th>\n",
       "      <th>cell_id</th>\n",
       "      <th>gene</th>\n",
       "      <th>prediction</th>\n",
       "      <th>sample</th>\n",
       "    </tr>\n",
       "  </thead>\n",
       "  <tbody>\n",
       "    <tr>\n",
       "      <th>0</th>\n",
       "      <td>65548</td>\n",
       "      <td>A2M</td>\n",
       "      <td>0.324662</td>\n",
       "      <td>UC1_NI</td>\n",
       "    </tr>\n",
       "    <tr>\n",
       "      <th>1</th>\n",
       "      <td>65548</td>\n",
       "      <td>ACP5</td>\n",
       "      <td>0.100900</td>\n",
       "      <td>UC1_NI</td>\n",
       "    </tr>\n",
       "    <tr>\n",
       "      <th>2</th>\n",
       "      <td>65548</td>\n",
       "      <td>ACTA2</td>\n",
       "      <td>0.076350</td>\n",
       "      <td>UC1_NI</td>\n",
       "    </tr>\n",
       "    <tr>\n",
       "      <th>3</th>\n",
       "      <td>65548</td>\n",
       "      <td>ADAMTSL3</td>\n",
       "      <td>0.634683</td>\n",
       "      <td>UC1_NI</td>\n",
       "    </tr>\n",
       "    <tr>\n",
       "      <th>4</th>\n",
       "      <td>65548</td>\n",
       "      <td>AFAP1L2</td>\n",
       "      <td>0.721001</td>\n",
       "      <td>UC1_NI</td>\n",
       "    </tr>\n",
       "    <tr>\n",
       "      <th>...</th>\n",
       "      <td>...</td>\n",
       "      <td>...</td>\n",
       "      <td>...</td>\n",
       "      <td>...</td>\n",
       "    </tr>\n",
       "    <tr>\n",
       "      <th>3438035</th>\n",
       "      <td>65518</td>\n",
       "      <td>WFDC2</td>\n",
       "      <td>0.861743</td>\n",
       "      <td>UC1_NI</td>\n",
       "    </tr>\n",
       "    <tr>\n",
       "      <th>3438036</th>\n",
       "      <td>65518</td>\n",
       "      <td>XBP1</td>\n",
       "      <td>0.080523</td>\n",
       "      <td>UC1_NI</td>\n",
       "    </tr>\n",
       "    <tr>\n",
       "      <th>3438037</th>\n",
       "      <td>65518</td>\n",
       "      <td>XCL2</td>\n",
       "      <td>0.941023</td>\n",
       "      <td>UC1_NI</td>\n",
       "    </tr>\n",
       "    <tr>\n",
       "      <th>3438038</th>\n",
       "      <td>65518</td>\n",
       "      <td>XCR1</td>\n",
       "      <td>0.133144</td>\n",
       "      <td>UC1_NI</td>\n",
       "    </tr>\n",
       "    <tr>\n",
       "      <th>3438039</th>\n",
       "      <td>65518</td>\n",
       "      <td>ZEB2</td>\n",
       "      <td>0.842401</td>\n",
       "      <td>UC1_NI</td>\n",
       "    </tr>\n",
       "  </tbody>\n",
       "</table>\n",
       "<p>3438040 rows × 4 columns</p>\n",
       "</div>"
      ],
      "text/plain": [
       "         cell_id      gene  prediction  sample\n",
       "0          65548       A2M    0.324662  UC1_NI\n",
       "1          65548      ACP5    0.100900  UC1_NI\n",
       "2          65548     ACTA2    0.076350  UC1_NI\n",
       "3          65548  ADAMTSL3    0.634683  UC1_NI\n",
       "4          65548   AFAP1L2    0.721001  UC1_NI\n",
       "...          ...       ...         ...     ...\n",
       "3438035    65518     WFDC2    0.861743  UC1_NI\n",
       "3438036    65518      XBP1    0.080523  UC1_NI\n",
       "3438037    65518      XCL2    0.941023  UC1_NI\n",
       "3438038    65518      XCR1    0.133144  UC1_NI\n",
       "3438039    65518      ZEB2    0.842401  UC1_NI\n",
       "\n",
       "[3438040 rows x 4 columns]"
      ]
     },
     "execution_count": 7,
     "metadata": {},
     "output_type": "execute_result"
    }
   ],
   "source": [
    "crunch.test(\n",
    "    no_determinism_check=True,\n",
    ")"
   ]
  }
 ],
 "metadata": {
  "kernelspec": {
   "display_name": "Python 3",
   "language": "python",
   "name": "python3"
  },
  "language_info": {
   "codemirror_mode": {
    "name": "ipython",
    "version": 3
   },
   "file_extension": ".py",
   "mimetype": "text/x-python",
   "name": "python",
   "nbconvert_exporter": "python",
   "pygments_lexer": "ipython3",
   "version": "3.10.11"
  }
 },
 "nbformat": 4,
 "nbformat_minor": 2
}
