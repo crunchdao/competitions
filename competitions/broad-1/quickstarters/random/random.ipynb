{
 "cells": [
  {
   "cell_type": "markdown",
   "metadata": {},
   "source": [
    "![Cover](https://raw.githubusercontent.com/crunchdao/quickstarters/refs/heads/master/competitions/broad-1/cover.jpg)"
   ]
  },
  {
   "cell_type": "code",
   "execution_count": null,
   "metadata": {},
   "outputs": [],
   "source": [
    "%pip install --upgrade crunch-cli"
   ]
  },
  {
   "cell_type": "markdown",
   "metadata": {},
   "source": [
    "Get a new token: https://hub.crunchdao.com/competitions/broad-1/submit/via/notebook?projectName=hello"
   ]
  },
  {
   "cell_type": "code",
   "execution_count": null,
   "metadata": {},
   "outputs": [],
   "source": [
    "!crunch setup --notebook broad-1 hello --token 2rwTsRW4SjSRGD8fXgCXrAMx9RsfQMgYiA1wbgdaWontxZ16RSRZGkM5W9YPxwjo"
   ]
  },
  {
   "cell_type": "code",
   "execution_count": 2,
   "metadata": {},
   "outputs": [],
   "source": [
    "import itertools\n",
    "\n",
    "import numpy\n",
    "import pandas\n",
    "import spatialdata"
   ]
  },
  {
   "cell_type": "code",
   "execution_count": 3,
   "metadata": {},
   "outputs": [
    {
     "name": "stdout",
     "output_type": "stream",
     "text": [
      "loaded inline runner with module: <module '__main__'>\n"
     ]
    }
   ],
   "source": [
    "import crunch\n",
    "crunch = crunch.load_notebook()"
   ]
  },
  {
   "cell_type": "code",
   "execution_count": 4,
   "metadata": {},
   "outputs": [],
   "source": [
    "def train(\n",
    "    train_directory_path: str\n",
    "):\n",
    "    # no train\n",
    "    print(train_directory_path)"
   ]
  },
  {
   "cell_type": "code",
   "execution_count": 5,
   "metadata": {},
   "outputs": [],
   "source": [
    "def infer(\n",
    "    test_directory_path: str,\n",
    "    data_file_path: str,\n",
    "):\n",
    "    print(test_directory_path)\n",
    "    print(data_file_path)\n",
    "\n",
    "    sdata = spatialdata.read_zarr(data_file_path[:-4])\n",
    "\n",
    "    cell_ids = sdata[\"cell_id-group\"].obs.query(\"group == 'test'\")[\"cell_id\"]\n",
    "    gene_names = sdata[\"anucleus\"].var.index\n",
    "\n",
    "    prediction = pandas.DataFrame(\n",
    "        itertools.product(cell_ids, gene_names),\n",
    "        columns=[\"cell_id\", \"gene\"]\n",
    "    )\n",
    "\n",
    "    prediction[\"prediction\"] = numpy.random.random(len(prediction))\n",
    "\n",
    "    return prediction"
   ]
  },
  {
   "cell_type": "code",
   "execution_count": null,
   "metadata": {},
   "outputs": [],
   "source": [
    "crunch.test(\n",
    "    no_determinism_check=True,\n",
    ")"
   ]
  }
 ],
 "metadata": {
  "kernelspec": {
   "display_name": "Python 3",
   "language": "python",
   "name": "python3"
  },
  "language_info": {
   "codemirror_mode": {
    "name": "ipython",
    "version": 3
   },
   "file_extension": ".py",
   "mimetype": "text/x-python",
   "name": "python",
   "nbconvert_exporter": "python",
   "pygments_lexer": "ipython3",
   "version": "3.10.11"
  }
 },
 "nbformat": 4,
 "nbformat_minor": 2
}
