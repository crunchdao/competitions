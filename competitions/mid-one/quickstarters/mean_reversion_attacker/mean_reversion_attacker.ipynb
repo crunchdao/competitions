{
  "cells": [
    {
      "cell_type": "markdown",
      "metadata": {
        "colab_type": "text",
        "id": "view-in-github"
      },
      "source": [
        "<a href=\"https://colab.research.google.com/github/crunchdao/quickstarters/blob/master/competitions/mid-one/mean_reversion_attacker/mean_reversion_attacker.ipynb\" target=\"_parent\"><img src=\"https://colab.research.google.com/assets/colab-badge.svg\" alt=\"Open In Colab\"/></a>"
      ]
    },
    {
      "cell_type": "markdown",
      "metadata": {},
      "source": [
        "# ![Cover](https://raw.githubusercontent.com/crunchdao/quickstarters/master/competitions/mid-one/cover.jpg)"
      ]
    },
    {
      "cell_type": "markdown",
      "metadata": {
        "id": "LpCh-JZToCzK"
      },
      "source": [
        "# Mean Reversion Attacker Tutorial\n",
        "This notebook demonstrates how to create an `Attacker` described in [attacker.md](https://github.com/microprediction/midone/blob/main/midone/attackers/attacker.md).\n",
        "\n",
        "\n",
        "## How is `Attacker.predict` different to a forecast?\n",
        "\n",
        "An `Attacker` tries to predict whether a time-series will go up or down on average - though only when it has a strong opinion. To be precise, our attacker will consume a univariate sequence of numerical data points $x_1, x_2, \\dots x_t$ and try to exploit deviations from the [martingale property](https://en.wikipedia.org/wiki/Martingale_(probability_theory)), which is to say that we expect the series $x_t$ to satisfy:\n",
        "\n",
        "$$ E[x_{t+k}] \\approx x_t $$\n",
        "\n",
        "roughly. Of course, there's no such thing in this world as a perfect martingale and it is your job to indicate when\n",
        "\n",
        "$$ E[x_{t+k}] > x_t + \\epsilon $$\n",
        "\n",
        "by returning a positive value when the `predict` method is called,\n",
        "or conversely. Here $\\epsilon$ finds interpretation as a trading cost. The attacker will *typically* return `0` meaning that it thinks:\n",
        "\n",
        "$$  x_t - \\epsilon   > E[x_{t+k}] > x_t + \\epsilon $$\n",
        "\n",
        "because trading opportunities are probably on the rare side - though obviously this is problem dependent. The default $\\epsilon$ and $k$ (`horizon`) parameters are set [here](https://github.com/microprediction/midone/blob/main/midone/gameconfig.py)."
      ]
    },
    {
      "cell_type": "markdown",
      "metadata": {},
      "source": [
        "## Setup"
      ]
    },
    {
      "cell_type": "code",
      "execution_count": null,
      "metadata": {},
      "outputs": [],
      "source": [
        "%pip install --upgrade midone"
      ]
    },
    {
      "cell_type": "code",
      "execution_count": null,
      "metadata": {},
      "outputs": [],
      "source": [
        "# Get a new token here: https://hub.crunchdao.com/competitions/mid-one/submit/via/notebook\n",
        "\n",
        "%pip install --upgrade crunch-cli\n",
        "!crunch setup --notebook mid-one hello --token aaaabbbbccccddddeeeeffff"
      ]
    },
    {
      "cell_type": "markdown",
      "metadata": {},
      "source": [
        "## Imports"
      ]
    },
    {
      "cell_type": "code",
      "execution_count": 2,
      "metadata": {
        "id": "7qxqYHfMqvQ4"
      },
      "outputs": [],
      "source": [
        "import json\n",
        "import os\n",
        "import typing\n",
        "\n",
        "import numpy\n",
        "import pandas\n",
        "import scipy.optimize as opt\n",
        "from midone import HORIZON, Attacker\n",
        "from tqdm.auto import tqdm"
      ]
    },
    {
      "cell_type": "code",
      "execution_count": null,
      "metadata": {},
      "outputs": [],
      "source": [
        "import crunch\n",
        "\n",
        "crunch = crunch.load_notebook()"
      ]
    },
    {
      "cell_type": "markdown",
      "metadata": {
        "id": "F7zKoqUAqx7X"
      },
      "source": [
        "## Step 1: Decide what state to maintain\n",
        "\n",
        "Let's first implement the `tick` method. This should quickly respond to an incoming data point by modifying a rapidly changing `state`. Here we choose to maintain the current value and also an exponentially weighted moving average of historical values. We use a simple dictionary, but other styles are presented [here](https://github.com/microprediction/midone/blob/main/tests/colabexamples/README.md) that you might prefer."
      ]
    },
    {
      "cell_type": "code",
      "execution_count": 4,
      "metadata": {
        "id": "QpvP8BbRpixH"
      },
      "outputs": [],
      "source": [
        "class MyAttacker(Attacker):\n",
        "\n",
        "    def __init__(\n",
        "        self,\n",
        "        a=0.01\n",
        "    ):\n",
        "        super().__init__()\n",
        "\n",
        "        # state\n",
        "        self.running_avg: float = None\n",
        "        self.current_value: float = None\n",
        "\n",
        "        # params\n",
        "        self.a = a\n",
        "\n",
        "    def tick(self, x: float):\n",
        "        # Maintains an expon moving average of the data\n",
        "        self.current_value = x\n",
        "\n",
        "        if numpy.isnan(x):\n",
        "            return\n",
        "\n",
        "        if self.running_avg is None:\n",
        "            self.running_avg = x\n",
        "        else:\n",
        "            self.running_avg = (1 - self.a) * self.running_avg + self.a * x\n",
        "\n",
        "    def predict(self, horizon=HORIZON) -> float:\n",
        "        if self.current_value > self.running_avg + 2:\n",
        "            return -1  # sell\n",
        "\n",
        "        if self.current_value < self.running_avg - 2:\n",
        "            return 1  # buy\n",
        "\n",
        "        return 0  # hold"
      ]
    },
    {
      "cell_type": "markdown",
      "metadata": {},
      "source": [
        "### Loading data"
      ]
    },
    {
      "cell_type": "code",
      "execution_count": null,
      "metadata": {},
      "outputs": [],
      "source": [
        "x_train, x_test = crunch.load_streams()"
      ]
    },
    {
      "cell_type": "markdown",
      "metadata": {
        "id": "4INVybLMsraQ"
      },
      "source": [
        "### Testing tick\n",
        "We are half way there. Let's check the state maintenance:"
      ]
    },
    {
      "cell_type": "code",
      "execution_count": null,
      "metadata": {
        "colab": {
          "base_uri": "https://localhost:8080/"
        },
        "id": "GWZ-Z_jsstdw",
        "outputId": "71382342-a904-4295-b361-3c4ecfae36be"
      },
      "outputs": [],
      "source": [
        "attacker = MyAttacker()\n",
        "\n",
        "for message in x_train[0]:\n",
        "    attacker.tick(message[\"x\"])\n",
        "\n",
        "print(f\"After processing the entire stream, the current value is {attacker.current_value} and the moving average is {attacker.running_avg}\")"
      ]
    },
    {
      "cell_type": "markdown",
      "metadata": {
        "id": "Q0Bjtgbet2Hn"
      },
      "source": [
        "## Making an `up` or `down` decision\n",
        "\n",
        "Next we call the `predict` which use a mean reversion strategy. Let's check that if the current value is very high we should predict it will fall:"
      ]
    },
    {
      "cell_type": "code",
      "execution_count": null,
      "metadata": {
        "colab": {
          "base_uri": "https://localhost:8080/"
        },
        "id": "buRgiUMo2lXH",
        "outputId": "a37638e0-4449-45eb-d356-edb6eb29006c"
      },
      "outputs": [],
      "source": [
        "attacker = MyAttacker()\n",
        "\n",
        "attacker.current_value = 10\n",
        "attacker.running_avg = 5\n",
        "\n",
        "# Should sell (-1)\n",
        "attacker.predict()"
      ]
    },
    {
      "cell_type": "markdown",
      "metadata": {
        "id": "lh6jpef0vAjp"
      },
      "source": [
        "## Run the attacker on mock data\n",
        "Let's put these together to creat an attacker with both `tick` and `predict`"
      ]
    },
    {
      "cell_type": "code",
      "execution_count": 9,
      "metadata": {
        "id": "S0yzoHAOv9W4"
      },
      "outputs": [],
      "source": [
        "# Always reset an attacker\n",
        "attacker = MyAttacker()\n",
        "\n",
        "data = [1, 3, 4, 2, 4, 5, 1, 5, 2, 5, 10] * 100\n",
        "for x in data:\n",
        "    y = attacker.tick_and_predict(x=x, horizon=HORIZON)"
      ]
    },
    {
      "cell_type": "markdown",
      "metadata": {
        "id": "dTsfKoLo3lIT"
      },
      "source": [
        "## Run the attacker on real data"
      ]
    },
    {
      "cell_type": "code",
      "execution_count": null,
      "metadata": {
        "colab": {
          "base_uri": "https://localhost:8080/"
        },
        "id": "fqfStlKN3m5s",
        "outputId": "12d08e4d-5f50-4614-ed7e-058f90e8d717"
      },
      "outputs": [],
      "source": [
        "states = []\n",
        "profits_and_losses = []\n",
        "\n",
        "for stream in tqdm(x_train):\n",
        "    attacker = MyAttacker()\n",
        "\n",
        "    for message in tqdm(stream, leave=False):\n",
        "        x = message['x']\n",
        "        y = attacker.tick_and_predict(x=x, horizon=HORIZON)\n",
        "\n",
        "    states.append({\n",
        "        \"current_value\": attacker.current_value,\n",
        "        \"running_avg\": attacker.running_avg,\n",
        "    })\n",
        "\n",
        "    profits_and_losses.append(attacker.pnl.summary())\n",
        "\n",
        "states = pandas.DataFrame(states)\n",
        "profits_and_losses = pandas.DataFrame(profits_and_losses)\n",
        "\n",
        "print(f\"After processing the all streams, here are the current values and moving averages:\")\n",
        "states"
      ]
    },
    {
      "cell_type": "markdown",
      "metadata": {
        "id": "kFnfH7VNxmpF"
      },
      "source": [
        "## Check the attackers' profits and losses"
      ]
    },
    {
      "cell_type": "code",
      "execution_count": null,
      "metadata": {
        "colab": {
          "base_uri": "https://localhost:8080/"
        },
        "id": "EimzKx0lxo7y",
        "outputId": "2a9184dc-8173-46d1-a809-84168cdfcb0b"
      },
      "outputs": [],
      "source": [
        "profits_and_losses"
      ]
    },
    {
      "cell_type": "markdown",
      "metadata": {
        "id": "MKagUGkW6vbv"
      },
      "source": [
        "## Train (globally) using many streams\n",
        "\n",
        "Let's create a function that evaluates the attacker for a choice of parameter `a` when it is run over the entire training set. For this you can use the stream generator generator. Just pull `x` out of each message."
      ]
    },
    {
      "cell_type": "code",
      "execution_count": null,
      "metadata": {
        "colab": {
          "base_uri": "https://localhost:8080/"
        },
        "id": "UnVLstwy65L4",
        "outputId": "d8624275-245a-4557-eec2-9335754cc386"
      },
      "outputs": [],
      "source": [
        "# First define the objective as negative total profit and test it\n",
        "def negative_attacker_profit(\n",
        "    a,\n",
        "    streams: typing.List[typing.Iterable[dict]],\n",
        "    verbose=True\n",
        "):\n",
        "    \"\"\"\n",
        "    a: Parameter\n",
        "    streams: Supplies a collection of individual streams\n",
        "    \"\"\"\n",
        "\n",
        "    total_profit = 0\n",
        "\n",
        "    for stream in streams:\n",
        "        # Reset the attacker each stream\n",
        "        attacker = MyAttacker(a=a)\n",
        "\n",
        "        # Run it over the stream\n",
        "        for message in stream:\n",
        "            x = message['x']\n",
        "            attacker.tick_and_predict(x=x, horizon=HORIZON)\n",
        "\n",
        "        pnl = attacker.pnl.summary()\n",
        "        total_profit += pnl['total_profit']\n",
        "\n",
        "    if verbose:\n",
        "        print(f'Using a={a} the total profit is {total_profit}')\n",
        "\n",
        "    # So smaller is better for the optimizer\n",
        "    return -total_profit\n",
        "\n",
        "negative_attacker_profit(a=0.1, streams=x_train)"
      ]
    },
    {
      "cell_type": "markdown",
      "metadata": {},
      "source": [
        "## CrunchDAO Code Interface\n",
        "\n",
        "[Submitting to the CrunchDAO platform requires 2 functions, `train` and `infer`.](https://docs.crunchdao.com/competitions/code-interface) Any line that is not in a function or is not an import will be commented when the notebook is processed.\n",
        "\n",
        "The content of the function is the same as the example, but the train must save the model to be read in infer."
      ]
    },
    {
      "cell_type": "markdown",
      "metadata": {
        "id": "5gu4daet75Fg"
      },
      "source": [
        "### The `train` function\n",
        "The canonical way to write a training procedure uses `streams` argument and iterates over all data points in all training streams."
      ]
    },
    {
      "cell_type": "code",
      "execution_count": null,
      "metadata": {
        "colab": {
          "base_uri": "https://localhost:8080/"
        },
        "id": "cPMdvBBD76xG",
        "outputId": "8c1f01a6-52d7-4b86-e2ea-b972da576868"
      },
      "outputs": [],
      "source": [
        "def get_parameter_file_path(model_directory_path: str):\n",
        "    return os.path.join(model_directory_path, 'params.json')\n",
        "\n",
        "\n",
        "def train(\n",
        "    streams: typing.List[typing.Iterable[dict]],\n",
        "    model_directory_path: str\n",
        "):\n",
        "    def training_optimization_objective(a):\n",
        "        return negative_attacker_profit(a=a, streams=streams)\n",
        "\n",
        "    result = opt.minimize_scalar(\n",
        "        training_optimization_objective,\n",
        "        bounds=(0.001, 0.2),\n",
        "        method='bounded',\n",
        "        options={\n",
        "            'maxiter': 5\n",
        "        }\n",
        "    )\n",
        "\n",
        "    best_a = result.x\n",
        "\n",
        "    print(f\"Optimal value of a: {result.x}\")\n",
        "    print(f\"Minimum total profit: {-result.fun}\")  # Re-negate to get the actual profit\n",
        "\n",
        "    # Let's save the best parameter\n",
        "    parameter_file_path = get_parameter_file_path(model_directory_path)\n",
        "    with open(parameter_file_path, 'w') as fd:\n",
        "        json.dump({'a': best_a}, fd)\n",
        "        print(f'Saved {parameter_file_path}')\n",
        "\n",
        "    # Check we can load it again!\n",
        "    with open(parameter_file_path, 'r') as fd:\n",
        "        params = json.load(fd)\n",
        "        print(params)\n",
        "\n",
        "\n",
        "# Here is how you would use it on the training data\n",
        "train(\n",
        "    streams=x_train,\n",
        "    model_directory_path=\"resources/\"\n",
        ")"
      ]
    },
    {
      "cell_type": "markdown",
      "metadata": {
        "id": "OCwBbf2XANK9"
      },
      "source": [
        "## The `infer` function\n",
        "\n",
        "Your notebook should have an infer function that can yield one prediction at a time."
      ]
    },
    {
      "cell_type": "code",
      "execution_count": null,
      "metadata": {
        "colab": {
          "base_uri": "https://localhost:8080/"
        },
        "id": "WmdS8fkZfqnE",
        "outputId": "4236f589-04c3-4061-bfa7-79029258ec7f"
      },
      "outputs": [],
      "source": [
        "def infer(\n",
        "    stream: typing.Iterator[dict],\n",
        "    model_directory_path: str\n",
        "):\n",
        "    # Load the best parameters\n",
        "    parameter_file_path = get_parameter_file_path(model_directory_path)\n",
        "    with open(parameter_file_path, 'r') as fd:\n",
        "        params = json.load(fd)\n",
        "        a = params['a']\n",
        "\n",
        "    # Instantiate your attacker\n",
        "    attacker = MyAttacker(a=a)\n",
        "\n",
        "    # Signals to the system that your attacker is initialized and ready.\n",
        "    yield  # Leave this here.\n",
        "\n",
        "    for message in stream:\n",
        "        decision = attacker.tick_and_predict(message['x'])\n",
        "\n",
        "        # Be sure to yield, even if the decision is zero.\n",
        "        yield decision\n",
        "\n",
        "\n",
        "# A quick test that indicates how your infer function will be used when you upload this notebook:\n",
        "messages = [{'x': 2.0}] * 10\n",
        "for y in infer(messages, model_directory_path=\"resources/\"):\n",
        "    # the first value is `None`, this is intended\n",
        "    print(y)"
      ]
    },
    {
      "cell_type": "code",
      "execution_count": null,
      "metadata": {},
      "outputs": [],
      "source": [
        "prediction = crunch.test()\n",
        "display(prediction)\n",
        "\n",
        "print(\"Download this notebook and submit it to the platform: https://hub.crunchdao.com/competitions/mid-one/submit/via/notebook\")"
      ]
    }
  ],
  "metadata": {
    "colab": {
      "authorship_tag": "ABX9TyO6keI5dhzzA91GFxncpHCk",
      "include_colab_link": true,
      "provenance": []
    },
    "kernelspec": {
      "display_name": "Python 3",
      "name": "python3"
    },
    "language_info": {
      "codemirror_mode": {
        "name": "ipython",
        "version": 3
      },
      "file_extension": ".py",
      "mimetype": "text/x-python",
      "name": "python",
      "nbconvert_exporter": "python",
      "pygments_lexer": "ipython3",
      "version": "3.10.11"
    }
  },
  "nbformat": 4,
  "nbformat_minor": 0
}
