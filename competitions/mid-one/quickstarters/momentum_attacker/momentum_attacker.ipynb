{
 "cells": [
  {
   "cell_type": "markdown",
   "metadata": {
    "colab_type": "text",
    "id": "view-in-github"
   },
   "source": [
    "[![Open In Colab](https://colab.research.google.com/assets/colab-badge.svg)](https://colab.research.google.com/github/crunchdao/quickstarters/blob/master/competitions/mid-one/quickstarters/momentum_attacker/momentum_attacker.ipynb)"
   ]
  },
  {
   "cell_type": "markdown",
   "metadata": {},
   "source": [
    "![Banner](https://raw.githubusercontent.com/crunchdao/quickstarters/refs/heads/master/competitions/mid-one/assets/banner.webp)"
   ]
  },
  {
   "cell_type": "markdown",
   "metadata": {
    "id": "LpCh-JZToCzK"
   },
   "source": [
    "# Momentum Attacker\n",
    "\n",
    "This notebook demonstrates how to create an `Attacker` described in [attacker.md](https://github.com/microprediction/midone/blob/main/midone/attackers/attacker.md). You may want to glance at this [notebook](../mean_reversion_attacker/mean_reversion_attacker.ipynb) also, if you seek more context or wish to know how these attackers can be used in a new tournament.\n",
    "\n"
   ]
  },
  {
   "cell_type": "markdown",
   "metadata": {},
   "source": [
    "## Setup"
   ]
  },
  {
   "cell_type": "code",
   "execution_count": null,
   "metadata": {},
   "outputs": [],
   "source": [
    "%pip install --upgrade midone"
   ]
  },
  {
   "cell_type": "code",
   "execution_count": null,
   "metadata": {},
   "outputs": [],
   "source": [
    "# Get a new token here: https://hub.crunchdao.com/competitions/mid-one/submit/via/notebook\n",
    "\n",
    "%pip install --upgrade crunch-cli\n",
    "!crunch setup --notebook mid-one hello --token aaaabbbbccccddddeeeeffff"
   ]
  },
  {
   "cell_type": "markdown",
   "metadata": {},
   "source": [
    "## Imports"
   ]
  },
  {
   "cell_type": "code",
   "execution_count": 2,
   "metadata": {
    "id": "7qxqYHfMqvQ4"
   },
   "outputs": [],
   "source": [
    "import math\n",
    "import typing\n",
    "\n",
    "import pandas\n",
    "from midone import HORIZON, Attacker, FEWMean, FEWVar\n",
    "from midone.accounting.pnlutil import add_pnl_summaries, zero_pnl_summary\n",
    "from tqdm.auto import tqdm"
   ]
  },
  {
   "cell_type": "code",
   "execution_count": null,
   "metadata": {},
   "outputs": [],
   "source": [
    "import crunch\n",
    "\n",
    "crunch = crunch.load_notebook()"
   ]
  },
  {
   "cell_type": "markdown",
   "metadata": {
    "id": "4INVybLMsraQ"
   },
   "source": [
    "## Creating a Momentum based Attacker\n",
    "\n",
    "We derive from `Attacker` and use the utilities `FEWMean` and `FEWVar` to track the running exponentially weighted quantities we need."
   ]
  },
  {
   "cell_type": "code",
   "execution_count": 4,
   "metadata": {
    "id": "GWZ-Z_jsstdw"
   },
   "outputs": [],
   "source": [
    "class MyAttacker(Attacker):\n",
    "\n",
    "    def __init__(\n",
    "        self,\n",
    "        fast_fading_factor=0.1,\n",
    "        slow_fading_factor=0.01,\n",
    "        diff_fading_factor=0.001,\n",
    "        threshold=2,\n",
    "        burn_in=100,\n",
    "        **kwargs\n",
    "    ):\n",
    "        super().__init__(**kwargs)\n",
    "\n",
    "        # Track fast expon-weighted moving average\n",
    "        self.fast_ewa = FEWMean(fading_factor=fast_fading_factor)\n",
    "\n",
    "        # Track slow expon-weighted moving average\n",
    "        self.slow_ewa = FEWMean(fading_factor=slow_fading_factor)\n",
    "\n",
    "        # Tracks mean and var of the difference between the two\n",
    "        self.diff_var = FEWVar(fading_factor=diff_fading_factor)\n",
    "\n",
    "        self.threshold = threshold\n",
    "        self.countdown = burn_in\n",
    "\n",
    "    def tick(self, x: float):\n",
    "        # Update the fast expon avg\n",
    "        self.fast_ewa.tick(x=x)\n",
    "\n",
    "        # Update the slow expon avg\n",
    "        self.slow_ewa.tick(x=x)\n",
    "\n",
    "        fast_minus_slow = self.fast_ewa.get() - self.slow_ewa.get()\n",
    "        #  Update var of diff\n",
    "        self.diff_var.tick(x=fast_minus_slow)\n",
    "\n",
    "        # Soon we'll be warm\n",
    "        self.countdown -= 1\n",
    "\n",
    "    def predict(self, horizon=HORIZON) -> float:\n",
    "        \"\"\"\n",
    "        We buy if signal > threshold*(trailing std of signal)\n",
    "        \"\"\"\n",
    "\n",
    "        if self.countdown > 0:\n",
    "            return 0  # Not warmed up\n",
    "\n",
    "        fast_minus_slow = self.fast_ewa.get() - self.slow_ewa.get()\n",
    "        try:\n",
    "            fast_minus_slow_std = math.sqrt(self.diff_var.get())\n",
    "\n",
    "            # Create a buy (>0) or sell (<0) decision\n",
    "            decision = int(fast_minus_slow / (self.threshold * fast_minus_slow_std))\n",
    "\n",
    "            return decision\n",
    "        except ArithmeticError:\n",
    "            return 0"
   ]
  },
  {
   "cell_type": "markdown",
   "metadata": {
    "id": "lh6jpef0vAjp"
   },
   "source": [
    "## Run the attacker on mock data\n",
    "\n",
    "We use `tick_and_predict` from the parent class as this will track profit and loss for us."
   ]
  },
  {
   "cell_type": "code",
   "execution_count": 5,
   "metadata": {
    "id": "S0yzoHAOv9W4"
   },
   "outputs": [],
   "source": [
    "# Always reset an attacker\n",
    "attacker = MyAttacker()\n",
    "\n",
    "data = [1, 3, 4, 2, 4, 5, 1, 5, 2, 5, 10] * 100\n",
    "for x in data:\n",
    "    y = attacker.tick_and_predict(x=x)"
   ]
  },
  {
   "cell_type": "markdown",
   "metadata": {
    "id": "dTsfKoLo3lIT"
   },
   "source": [
    "## Run the attacker on real data\n",
    "\n",
    "We reset the attacker every time it encounters a new stream, but track aggregate statistics."
   ]
  },
  {
   "cell_type": "code",
   "execution_count": null,
   "metadata": {},
   "outputs": [],
   "source": [
    "x_train, x_test = crunch.load_streams()"
   ]
  },
  {
   "cell_type": "code",
   "execution_count": null,
   "metadata": {
    "colab": {
     "base_uri": "https://localhost:8080/"
    },
    "id": "fqfStlKN3m5s",
    "outputId": "d0f1ebcc-4763-4e99-caff-aa119cdb0769"
   },
   "outputs": [],
   "source": [
    "total_pnl = []\n",
    "\n",
    "for stream in tqdm(x_train):\n",
    "    attacker = MyAttacker()\n",
    "    pnl = zero_pnl_summary()\n",
    "\n",
    "    for message in tqdm(stream, leave=False):\n",
    "        attacker.tick_and_predict(x=message['x'])\n",
    "\n",
    "    stream_pnl = attacker.pnl.summary()\n",
    "\n",
    "    pnl = add_pnl_summaries(pnl, stream_pnl)\n",
    "    pnl.update({\n",
    "        'profit_per_decision': pnl['total_profit'] / pnl['num_resolved_decisions']\n",
    "    })\n",
    "\n",
    "    total_pnl.append(pnl)\n",
    "\n",
    "total_pnl = pandas.DataFrame(total_pnl)\n",
    "total_pnl"
   ]
  },
  {
   "cell_type": "markdown",
   "metadata": {},
   "source": [
    "## CrunchDAO Code Interface\n",
    "\n",
    "[Submitting to the CrunchDAO platform requires 2 functions, `train` and `infer`.](https://docs.crunchdao.com/competitions/code-interface) Any line that is not in a function or is not an import will be commented when the notebook is processed.\n",
    "\n",
    "The content of the function is the same as the example, but the train must save the model to be read in infer."
   ]
  },
  {
   "cell_type": "code",
   "execution_count": 9,
   "metadata": {},
   "outputs": [],
   "source": [
    "def train():\n",
    "    \"\"\"\n",
    "    We do not recommend using the train function.\n",
    "    \n",
    "    Training should be done before running anything in the cloud environment.\n",
    "    \"\"\"\n",
    "\n",
    "    pass  # no train"
   ]
  },
  {
   "cell_type": "code",
   "execution_count": 10,
   "metadata": {},
   "outputs": [],
   "source": [
    "def infer(\n",
    "    stream: typing.Iterator[dict],\n",
    "):\n",
    "    \"\"\"\n",
    "    Please do not modify the infer function, edit the MyAttacker class directly.\n",
    "\n",
    "    The core of the attacker logic should be implemented through the attacker classes.\n",
    "    \"\"\"\n",
    "\n",
    "    attacker = MyAttacker()\n",
    "    total_pnl = zero_pnl_summary()\n",
    "\n",
    "    yield  # mark as ready\n",
    "\n",
    "    for message in stream:\n",
    "        yield attacker.tick_and_predict(x=message['x'])\n",
    "\n",
    "    stream_pnl = attacker.pnl.summary()\n",
    "    total_pnl = add_pnl_summaries(total_pnl, stream_pnl)\n",
    "\n",
    "    total_pnl.update({\n",
    "        'profit_per_decision': total_pnl['total_profit'] / total_pnl['num_resolved_decisions']\n",
    "    })\n",
    "\n",
    "    print(total_pnl)"
   ]
  },
  {
   "cell_type": "code",
   "execution_count": null,
   "metadata": {},
   "outputs": [],
   "source": [
    "crunch.test()\n",
    "\n",
    "print(\"Download this notebook and submit it to the platform: https://hub.crunchdao.com/competitions/mid-one/submit/via/notebook\")"
   ]
  }
 ],
 "metadata": {
  "colab": {
   "authorship_tag": "ABX9TyNSOgj5XF6t1Cgg76Myt+p5",
   "include_colab_link": true,
   "provenance": []
  },
  "kernelspec": {
   "display_name": "Python 3",
   "name": "python3"
  },
  "language_info": {
   "codemirror_mode": {
    "name": "ipython",
    "version": 3
   },
   "file_extension": ".py",
   "mimetype": "text/x-python",
   "name": "python",
   "nbconvert_exporter": "python",
   "pygments_lexer": "ipython3",
   "version": "3.10.11"
  }
 },
 "nbformat": 4,
 "nbformat_minor": 0
}
